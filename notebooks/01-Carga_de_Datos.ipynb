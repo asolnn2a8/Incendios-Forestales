{
 "cells": [
  {
   "cell_type": "markdown",
   "metadata": {},
   "source": [
    "# Carga de Datos\n",
    "\n",
    "##### Futuras mejoras\n",
    "* Agregar la diferencia de tiempo en que se consiguió controlar el incendio\n",
    "* Analizar mejor de qué forma se distribuyen los datos nulos y de qué forma puedo rellenar los valores faltantes, si es posible."
   ]
  },
  {
   "cell_type": "markdown",
   "metadata": {},
   "source": [
    "## Importación de librerías"
   ]
  },
  {
   "cell_type": "code",
   "execution_count": 9,
   "metadata": {
    "ExecuteTime": {
     "end_time": "2020-08-13T05:23:59.576370Z",
     "start_time": "2020-08-13T05:23:59.568178Z"
    }
   },
   "outputs": [],
   "source": [
    "from os import path\n",
    "import pandas as pd\n",
    "import sqlite3\n",
    "import datetime as dt"
   ]
  },
  {
   "cell_type": "markdown",
   "metadata": {},
   "source": [
    "## Constantes"
   ]
  },
  {
   "cell_type": "markdown",
   "metadata": {},
   "source": [
    "Rutas usuales que se ocuparán en el notebook"
   ]
  },
  {
   "cell_type": "code",
   "execution_count": 10,
   "metadata": {
    "ExecuteTime": {
     "end_time": "2020-08-13T05:24:00.585122Z",
     "start_time": "2020-08-13T05:24:00.574414Z"
    },
    "code_folding": []
   },
   "outputs": [],
   "source": [
    "# Salvar DataFrame?\n",
    "SAVE_DF = True\n",
    "\n",
    "# RUTAS\n",
    "MAIN_PATH = path.join(\"..\")\n",
    "\n",
    "DATA_PATH = path.join(MAIN_PATH, \"data\")\n",
    "WF_FOLDER_PATH = path.join(DATA_PATH, \"wildfires_us\")\n",
    "WF_DATA_PATH = path.join(WF_FOLDER_PATH, \"FPA_FOD_20170508.sqlite\")\n",
    "WF_DATA_COLUMNS_PATH = path.join(WF_FOLDER_PATH, \"COLUMNS\")"
   ]
  },
  {
   "cell_type": "markdown",
   "metadata": {},
   "source": [
    "## Funciones auxiliares"
   ]
  },
  {
   "cell_type": "markdown",
   "metadata": {},
   "source": [
    "Función que se ocupará en la carga de datos."
   ]
  },
  {
   "cell_type": "code",
   "execution_count": 11,
   "metadata": {
    "ExecuteTime": {
     "end_time": "2020-08-13T05:24:01.938039Z",
     "start_time": "2020-08-13T05:24:01.926517Z"
    },
    "code_folding": [
     0
    ]
   },
   "outputs": [],
   "source": [
    "def crear_puntero(path=WF_DATA_PATH, msg=False):\n",
    "    \"\"\"Función que crea un puntero con el dataset de incendios forestales en US.\n",
    "    \"\"\"\n",
    "    try:\n",
    "        conn = sqlite3.connect(path)\n",
    "        if msg:\n",
    "            print(\"Conexión realizada con éxito.\")\n",
    "    except:\n",
    "        if msg:\n",
    "            print(\"No se encuentra el archivo.\")\n",
    "    return conn"
   ]
  },
  {
   "cell_type": "markdown",
   "metadata": {},
   "source": [
    "Función que se ocupará para imprimir la información (número de filas y columnas) de un DataFrame."
   ]
  },
  {
   "cell_type": "code",
   "execution_count": 12,
   "metadata": {
    "ExecuteTime": {
     "end_time": "2020-08-13T05:24:02.765521Z",
     "start_time": "2020-08-13T05:24:02.758225Z"
    },
    "code_folding": [
     0
    ]
   },
   "outputs": [],
   "source": [
    "def print_cantidad(dataframe):\n",
    "    \"\"\"Imprime la cantidad de datos que tiene el Data Frame.\n",
    "    \"\"\"\n",
    "    msg_cantidad = \"El dataset tiene una cantidad de {} datos y {} variables.\"\n",
    "    print(msg_cantidad.format(dataframe.shape[0], dataframe.shape[1]))\n",
    "    return None"
   ]
  },
  {
   "cell_type": "markdown",
   "metadata": {},
   "source": [
    "## Carga de datos"
   ]
  },
  {
   "cell_type": "markdown",
   "metadata": {},
   "source": [
    "### Columnas a ocupar\n",
    "\n",
    "Se escojen las columnas a ocupar dependiendo de la importancia que tenga. Se omiten algunas columnas tales como las que son para el ID, como el nombre que tuvo el incendio, o la columna que indica de dónde se obtuvo el incendio; pues no deberían de afectar a la predicción."
   ]
  },
  {
   "cell_type": "code",
   "execution_count": 13,
   "metadata": {
    "ExecuteTime": {
     "end_time": "2020-08-13T05:24:05.807241Z",
     "start_time": "2020-08-13T05:24:05.767380Z"
    },
    "code_folding": []
   },
   "outputs": [],
   "source": [
    "# Todas las columnas\n",
    "columnas = list(pd.read_csv(WF_DATA_COLUMNS_PATH))\n",
    "\n",
    "# Columnas que se ocuparán en el análisis\n",
    "columnas_ocupadas = [\n",
    "    \"FIRE_YEAR\",        # Año en que el incendio fue descubierto o confirmado\n",
    "    \"DISCOVERY_DATE\",   # Fecha en que fue descubiertoel incendio\n",
    "    \"DISCOVERY_TIME\",   # Hora en que fue descubierto el incendio\n",
    "    \"STAT_CAUSE_DESCR\", # Descripción de la causa del incendio\n",
    "    \"CONT_DATE\",        # Fecha en que se contuvo el incendio\n",
    "    \"CONT_TIME\",        # Hora en que se contuvo el incendio\n",
    "    \"FIRE_SIZE\",        # Área final estimada que alcanzó el incendio\n",
    "    \"FIRE_SIZE_CLASS\",\n",
    "    \"LATITUDE\",         # Latitud de la localización del incendio\n",
    "    \"LONGITUDE\",        # Longitud de la localización del incendio\n",
    "    \"STATE\",\n",
    "]\n",
    "\n",
    "# Columnas que no se ocuparán\n",
    "columnas_sin_ocupar = [x for x in columnas if x not in columnas_ocupadas]"
   ]
  },
  {
   "cell_type": "markdown",
   "metadata": {},
   "source": [
    "### Carga de Datos"
   ]
  },
  {
   "cell_type": "code",
   "execution_count": 16,
   "metadata": {
    "ExecuteTime": {
     "end_time": "2020-08-13T05:24:44.377124Z",
     "start_time": "2020-08-13T05:24:13.656700Z"
    },
    "scrolled": true
   },
   "outputs": [
    {
     "name": "stdout",
     "output_type": "stream",
     "text": [
      "Conexión realizada con éxito.\n",
      "El dataset tiene una cantidad de 1880465 datos y 11 variables.\n",
      "El dataset tiene una cantidad de 1880465 datos y 11 variables.\n"
     ]
    },
    {
     "data": {
      "text/html": [
       "<div>\n",
       "<style scoped>\n",
       "    .dataframe tbody tr th:only-of-type {\n",
       "        vertical-align: middle;\n",
       "    }\n",
       "\n",
       "    .dataframe tbody tr th {\n",
       "        vertical-align: top;\n",
       "    }\n",
       "\n",
       "    .dataframe thead th {\n",
       "        text-align: right;\n",
       "    }\n",
       "</style>\n",
       "<table border=\"1\" class=\"dataframe\">\n",
       "  <thead>\n",
       "    <tr style=\"text-align: right;\">\n",
       "      <th></th>\n",
       "      <th>FIRE_YEAR</th>\n",
       "      <th>DISCOVERY_DATE</th>\n",
       "      <th>DISCOVERY_TIME</th>\n",
       "      <th>STAT_CAUSE_DESCR</th>\n",
       "      <th>CONT_DATE</th>\n",
       "      <th>CONT_TIME</th>\n",
       "      <th>FIRE_SIZE</th>\n",
       "      <th>FIRE_SIZE_CLASS</th>\n",
       "      <th>LATITUDE</th>\n",
       "      <th>LONGITUDE</th>\n",
       "      <th>STATE</th>\n",
       "    </tr>\n",
       "  </thead>\n",
       "  <tbody>\n",
       "    <tr>\n",
       "      <th>0</th>\n",
       "      <td>2005</td>\n",
       "      <td>2453403.5</td>\n",
       "      <td>1300</td>\n",
       "      <td>Miscellaneous</td>\n",
       "      <td>2453403.5</td>\n",
       "      <td>1730</td>\n",
       "      <td>0.10</td>\n",
       "      <td>A</td>\n",
       "      <td>40.036944</td>\n",
       "      <td>-121.005833</td>\n",
       "      <td>CA</td>\n",
       "    </tr>\n",
       "    <tr>\n",
       "      <th>1</th>\n",
       "      <td>2004</td>\n",
       "      <td>2453137.5</td>\n",
       "      <td>0845</td>\n",
       "      <td>Lightning</td>\n",
       "      <td>2453137.5</td>\n",
       "      <td>1530</td>\n",
       "      <td>0.25</td>\n",
       "      <td>A</td>\n",
       "      <td>38.933056</td>\n",
       "      <td>-120.404444</td>\n",
       "      <td>CA</td>\n",
       "    </tr>\n",
       "    <tr>\n",
       "      <th>2</th>\n",
       "      <td>2004</td>\n",
       "      <td>2453156.5</td>\n",
       "      <td>1921</td>\n",
       "      <td>Debris Burning</td>\n",
       "      <td>2453156.5</td>\n",
       "      <td>2024</td>\n",
       "      <td>0.10</td>\n",
       "      <td>A</td>\n",
       "      <td>38.984167</td>\n",
       "      <td>-120.735556</td>\n",
       "      <td>CA</td>\n",
       "    </tr>\n",
       "    <tr>\n",
       "      <th>3</th>\n",
       "      <td>2004</td>\n",
       "      <td>2453184.5</td>\n",
       "      <td>1600</td>\n",
       "      <td>Lightning</td>\n",
       "      <td>2453189.5</td>\n",
       "      <td>1400</td>\n",
       "      <td>0.10</td>\n",
       "      <td>A</td>\n",
       "      <td>38.559167</td>\n",
       "      <td>-119.913333</td>\n",
       "      <td>CA</td>\n",
       "    </tr>\n",
       "    <tr>\n",
       "      <th>4</th>\n",
       "      <td>2004</td>\n",
       "      <td>2453184.5</td>\n",
       "      <td>1600</td>\n",
       "      <td>Lightning</td>\n",
       "      <td>2453189.5</td>\n",
       "      <td>1200</td>\n",
       "      <td>0.10</td>\n",
       "      <td>A</td>\n",
       "      <td>38.559167</td>\n",
       "      <td>-119.933056</td>\n",
       "      <td>CA</td>\n",
       "    </tr>\n",
       "  </tbody>\n",
       "</table>\n",
       "</div>"
      ],
      "text/plain": [
       "   FIRE_YEAR  DISCOVERY_DATE DISCOVERY_TIME STAT_CAUSE_DESCR  CONT_DATE  \\\n",
       "0       2005       2453403.5           1300    Miscellaneous  2453403.5   \n",
       "1       2004       2453137.5           0845        Lightning  2453137.5   \n",
       "2       2004       2453156.5           1921   Debris Burning  2453156.5   \n",
       "3       2004       2453184.5           1600        Lightning  2453189.5   \n",
       "4       2004       2453184.5           1600        Lightning  2453189.5   \n",
       "\n",
       "  CONT_TIME  FIRE_SIZE FIRE_SIZE_CLASS   LATITUDE   LONGITUDE STATE  \n",
       "0      1730       0.10               A  40.036944 -121.005833    CA  \n",
       "1      1530       0.25               A  38.933056 -120.404444    CA  \n",
       "2      2024       0.10               A  38.984167 -120.735556    CA  \n",
       "3      1400       0.10               A  38.559167 -119.913333    CA  \n",
       "4      1200       0.10               A  38.559167 -119.933056    CA  "
      ]
     },
     "execution_count": 16,
     "metadata": {},
     "output_type": "execute_result"
    }
   ],
   "source": [
    "# str que se ocupará al cargar los datos\n",
    "columnas_str = \",\".join(columnas_ocupadas)\n",
    "\n",
    "# Obtener una fila del dataset\n",
    "conn = crear_puntero(msg=True)\n",
    "df = pd.read_sql_query(f\"SELECT {columnas_str} FROM 'Fires'\", conn)\n",
    "conn.close()\n",
    "\n",
    "del columnas_str, conn\n",
    "\n",
    "print_cantidad(df)\n",
    "\n",
    "# df = df[df[\"FIRE_YEAR\"].map(int) >= 2011].reset_index()\n",
    "\n",
    "print_cantidad(df)\n",
    "\n",
    "df.head()"
   ]
  },
  {
   "cell_type": "markdown",
   "metadata": {},
   "source": [
    "## Descripción preliminar de los datos"
   ]
  },
  {
   "cell_type": "markdown",
   "metadata": {},
   "source": [
    "Observemos la información actual del df"
   ]
  },
  {
   "cell_type": "code",
   "execution_count": 8,
   "metadata": {
    "ExecuteTime": {
     "end_time": "2020-08-10T18:22:07.475346Z",
     "start_time": "2020-08-10T18:22:07.464376Z"
    },
    "scrolled": false
   },
   "outputs": [
    {
     "name": "stdout",
     "output_type": "stream",
     "text": [
      "<class 'pandas.core.frame.DataFrame'>\n",
      "RangeIndex: 1880465 entries, 0 to 1880464\n",
      "Data columns (total 11 columns):\n",
      " #   Column            Dtype  \n",
      "---  ------            -----  \n",
      " 0   FIRE_YEAR         int64  \n",
      " 1   DISCOVERY_DATE    float64\n",
      " 2   DISCOVERY_TIME    object \n",
      " 3   STAT_CAUSE_DESCR  object \n",
      " 4   CONT_DATE         float64\n",
      " 5   CONT_TIME         object \n",
      " 6   FIRE_SIZE         float64\n",
      " 7   FIRE_SIZE_CLASS   object \n",
      " 8   LATITUDE          float64\n",
      " 9   LONGITUDE         float64\n",
      " 10  STATE             object \n",
      "dtypes: float64(5), int64(1), object(5)\n",
      "memory usage: 157.8+ MB\n"
     ]
    }
   ],
   "source": [
    "df.info(verbose=True)"
   ]
  },
  {
   "cell_type": "markdown",
   "metadata": {},
   "source": [
    "Observamos que 6 variables son del tipo numérico, y 5 son strings. Sin embargo, `DISCOVERY_DATE` y `CONT_DATE` son fechas. Esto se tratará más adelante."
   ]
  },
  {
   "cell_type": "markdown",
   "metadata": {},
   "source": [
    "### Valores duplicados"
   ]
  },
  {
   "cell_type": "markdown",
   "metadata": {},
   "source": [
    "Revisamos si no tiene datos duplicados"
   ]
  },
  {
   "cell_type": "code",
   "execution_count": 9,
   "metadata": {
    "ExecuteTime": {
     "end_time": "2020-08-10T18:22:09.445704Z",
     "start_time": "2020-08-10T18:22:07.477344Z"
    }
   },
   "outputs": [
    {
     "name": "stdout",
     "output_type": "stream",
     "text": [
      "Existen 3535 valores duplicados\n"
     ]
    }
   ],
   "source": [
    "n_dup = sum(df.duplicated())\n",
    "print(\"Existen\", n_dup, \"valores duplicados\")\n",
    "del n_dup"
   ]
  },
  {
   "cell_type": "markdown",
   "metadata": {},
   "source": [
    "Dado que existen valores duplicados en el dataset, los dropeamos."
   ]
  },
  {
   "cell_type": "code",
   "execution_count": 10,
   "metadata": {
    "ExecuteTime": {
     "end_time": "2020-08-10T18:28:39.551950Z",
     "start_time": "2020-08-10T18:28:37.553260Z"
    }
   },
   "outputs": [
    {
     "name": "stdout",
     "output_type": "stream",
     "text": [
      "<class 'pandas.core.frame.DataFrame'>\n",
      "RangeIndex: 1876930 entries, 0 to 1876929\n",
      "Data columns (total 11 columns):\n",
      " #   Column            Dtype  \n",
      "---  ------            -----  \n",
      " 0   FIRE_YEAR         int64  \n",
      " 1   DISCOVERY_DATE    float64\n",
      " 2   DISCOVERY_TIME    object \n",
      " 3   STAT_CAUSE_DESCR  object \n",
      " 4   CONT_DATE         float64\n",
      " 5   CONT_TIME         object \n",
      " 6   FIRE_SIZE         float64\n",
      " 7   FIRE_SIZE_CLASS   object \n",
      " 8   LATITUDE          float64\n",
      " 9   LONGITUDE         float64\n",
      " 10  STATE             object \n",
      "dtypes: float64(5), int64(1), object(5)\n",
      "memory usage: 157.5+ MB\n"
     ]
    }
   ],
   "source": [
    "df.drop_duplicates(inplace=True, ignore_index=True)\n",
    "df.info(verbose=True)"
   ]
  },
  {
   "cell_type": "markdown",
   "metadata": {},
   "source": [
    "### Manejo de valores nulos"
   ]
  },
  {
   "cell_type": "markdown",
   "metadata": {},
   "source": [
    "Primero observamos el número de elementos nulos que tiene el dataset."
   ]
  },
  {
   "cell_type": "code",
   "execution_count": 17,
   "metadata": {
    "ExecuteTime": {
     "end_time": "2020-08-13T05:24:45.284770Z",
     "start_time": "2020-08-13T05:24:44.382110Z"
    },
    "scrolled": true
   },
   "outputs": [
    {
     "data": {
      "text/plain": [
       "FIRE_YEAR                0\n",
       "DISCOVERY_DATE           0\n",
       "DISCOVERY_TIME      882638\n",
       "STAT_CAUSE_DESCR         0\n",
       "CONT_DATE           891531\n",
       "CONT_TIME           972173\n",
       "FIRE_SIZE                0\n",
       "FIRE_SIZE_CLASS          0\n",
       "LATITUDE                 0\n",
       "LONGITUDE                0\n",
       "STATE                    0\n",
       "dtype: int64"
      ]
     },
     "execution_count": 17,
     "metadata": {},
     "output_type": "execute_result"
    }
   ],
   "source": [
    "df.isna().sum()"
   ]
  },
  {
   "cell_type": "markdown",
   "metadata": {},
   "source": [
    "Dado al gran tamaño de la base de datos, nos podemos dar \"el lujo\" de eliminar las filas que contengan elementos nulos."
   ]
  },
  {
   "cell_type": "code",
   "execution_count": 12,
   "metadata": {
    "ExecuteTime": {
     "end_time": "2020-08-10T18:31:47.607975Z",
     "start_time": "2020-08-10T18:31:46.664236Z"
    },
    "scrolled": true
   },
   "outputs": [
    {
     "name": "stdout",
     "output_type": "stream",
     "text": [
      "El dataset tiene una cantidad de 890821 datos y 11 variables.\n"
     ]
    },
    {
     "data": {
      "text/plain": [
       "FIRE_YEAR           0\n",
       "DISCOVERY_DATE      0\n",
       "DISCOVERY_TIME      0\n",
       "STAT_CAUSE_DESCR    0\n",
       "CONT_DATE           0\n",
       "CONT_TIME           0\n",
       "FIRE_SIZE           0\n",
       "FIRE_SIZE_CLASS     0\n",
       "LATITUDE            0\n",
       "LONGITUDE           0\n",
       "STATE               0\n",
       "dtype: int64"
      ]
     },
     "execution_count": 12,
     "metadata": {},
     "output_type": "execute_result"
    }
   ],
   "source": [
    "# Se quitan los valores nulos\n",
    "df.dropna(inplace=True)\n",
    "\n",
    "# Se resetean los índices\n",
    "df.reset_index(drop=True, inplace=True)\n",
    "\n",
    "# Se imprime la cantidad\n",
    "print_cantidad(df)\n",
    "\n",
    "# Y se muestran la cantidad de nulos que tiene actualmente\n",
    "df.isna().sum()"
   ]
  },
  {
   "cell_type": "markdown",
   "metadata": {},
   "source": [
    "Ahora revisamos el tipo de datos que tiene el Data Frame"
   ]
  },
  {
   "cell_type": "code",
   "execution_count": 13,
   "metadata": {
    "ExecuteTime": {
     "end_time": "2020-08-10T18:31:47.908826Z",
     "start_time": "2020-08-10T18:31:47.608973Z"
    },
    "scrolled": true
   },
   "outputs": [
    {
     "name": "stdout",
     "output_type": "stream",
     "text": [
      "<class 'pandas.core.frame.DataFrame'>\n",
      "RangeIndex: 890821 entries, 0 to 890820\n",
      "Data columns (total 11 columns):\n",
      " #   Column            Non-Null Count   Dtype  \n",
      "---  ------            --------------   -----  \n",
      " 0   FIRE_YEAR         890821 non-null  int64  \n",
      " 1   DISCOVERY_DATE    890821 non-null  float64\n",
      " 2   DISCOVERY_TIME    890821 non-null  object \n",
      " 3   STAT_CAUSE_DESCR  890821 non-null  object \n",
      " 4   CONT_DATE         890821 non-null  float64\n",
      " 5   CONT_TIME         890821 non-null  object \n",
      " 6   FIRE_SIZE         890821 non-null  float64\n",
      " 7   FIRE_SIZE_CLASS   890821 non-null  object \n",
      " 8   LATITUDE          890821 non-null  float64\n",
      " 9   LONGITUDE         890821 non-null  float64\n",
      " 10  STATE             890821 non-null  object \n",
      "dtypes: float64(5), int64(1), object(5)\n",
      "memory usage: 74.8+ MB\n"
     ]
    }
   ],
   "source": [
    "df.info()"
   ]
  },
  {
   "cell_type": "markdown",
   "metadata": {},
   "source": [
    "Terminamos con un dataset con la mitad de datos de cómo fue originalmente."
   ]
  },
  {
   "cell_type": "markdown",
   "metadata": {
    "heading_collapsed": true
   },
   "source": [
    "### Manejo de las variables de tiempo"
   ]
  },
  {
   "cell_type": "markdown",
   "metadata": {
    "heading_collapsed": true,
    "hidden": true
   },
   "source": [
    "#### Creación de la columnas `{}_DATE_TIME`, a partir de las dos anteriores"
   ]
  },
  {
   "cell_type": "markdown",
   "metadata": {
    "hidden": true
   },
   "source": [
    "Notemos que `{DISCOVERY,CONT}_DATE` está en formato timestamp, y que `{DISCOVERY,CONT}_TIME` está en formato `'hhmm'`:"
   ]
  },
  {
   "cell_type": "code",
   "execution_count": 14,
   "metadata": {
    "ExecuteTime": {
     "end_time": "2020-08-10T18:33:49.000651Z",
     "start_time": "2020-08-10T18:33:48.911885Z"
    },
    "hidden": true
   },
   "outputs": [
    {
     "data": {
      "text/html": [
       "<div>\n",
       "<style scoped>\n",
       "    .dataframe tbody tr th:only-of-type {\n",
       "        vertical-align: middle;\n",
       "    }\n",
       "\n",
       "    .dataframe tbody tr th {\n",
       "        vertical-align: top;\n",
       "    }\n",
       "\n",
       "    .dataframe thead th {\n",
       "        text-align: right;\n",
       "    }\n",
       "</style>\n",
       "<table border=\"1\" class=\"dataframe\">\n",
       "  <thead>\n",
       "    <tr style=\"text-align: right;\">\n",
       "      <th></th>\n",
       "      <th>DISCOVERY_DATE</th>\n",
       "      <th>DISCOVERY_TIME</th>\n",
       "      <th>CONT_DATE</th>\n",
       "      <th>CONT_TIME</th>\n",
       "    </tr>\n",
       "  </thead>\n",
       "  <tbody>\n",
       "    <tr>\n",
       "      <th>0</th>\n",
       "      <td>2453403.5</td>\n",
       "      <td>1300</td>\n",
       "      <td>2453403.5</td>\n",
       "      <td>1730</td>\n",
       "    </tr>\n",
       "    <tr>\n",
       "      <th>1</th>\n",
       "      <td>2453137.5</td>\n",
       "      <td>0845</td>\n",
       "      <td>2453137.5</td>\n",
       "      <td>1530</td>\n",
       "    </tr>\n",
       "    <tr>\n",
       "      <th>2</th>\n",
       "      <td>2453156.5</td>\n",
       "      <td>1921</td>\n",
       "      <td>2453156.5</td>\n",
       "      <td>2024</td>\n",
       "    </tr>\n",
       "    <tr>\n",
       "      <th>3</th>\n",
       "      <td>2453184.5</td>\n",
       "      <td>1600</td>\n",
       "      <td>2453189.5</td>\n",
       "      <td>1400</td>\n",
       "    </tr>\n",
       "    <tr>\n",
       "      <th>4</th>\n",
       "      <td>2453184.5</td>\n",
       "      <td>1600</td>\n",
       "      <td>2453189.5</td>\n",
       "      <td>1200</td>\n",
       "    </tr>\n",
       "  </tbody>\n",
       "</table>\n",
       "</div>"
      ],
      "text/plain": [
       "   DISCOVERY_DATE DISCOVERY_TIME  CONT_DATE CONT_TIME\n",
       "0       2453403.5           1300  2453403.5      1730\n",
       "1       2453137.5           0845  2453137.5      1530\n",
       "2       2453156.5           1921  2453156.5      2024\n",
       "3       2453184.5           1600  2453189.5      1400\n",
       "4       2453184.5           1600  2453189.5      1200"
      ]
     },
     "execution_count": 14,
     "metadata": {},
     "output_type": "execute_result"
    }
   ],
   "source": [
    "cols_aux = [\"DISCOVERY_DATE\", \"DISCOVERY_TIME\", \n",
    "            \"CONT_DATE\", \"CONT_TIME\"]\n",
    "\n",
    "df[cols_aux].head()"
   ]
  },
  {
   "cell_type": "markdown",
   "metadata": {
    "hidden": true
   },
   "source": [
    "Generamos una nueva columna que tenga la fecha y hora contenida. Pues la fecha está en formato Timestamp y la hora está en formato `'hhmm'`. Lo hacemos para los prefijos `'DISCOVERY_'` y `'CONT_'`."
   ]
  },
  {
   "cell_type": "code",
   "execution_count": 15,
   "metadata": {
    "ExecuteTime": {
     "end_time": "2020-08-10T19:48:26.308055Z",
     "start_time": "2020-08-10T19:48:26.293098Z"
    },
    "code_folding": [],
    "hidden": true
   },
   "outputs": [],
   "source": [
    "def generar_datetime(fecha_col, hora_col):\n",
    "    \"\"\"Recibe un DataFrame 'df', una columna 'fecha_col' que tiene \n",
    "    la fecha en formato de marca de tiempo (Timestamp) y una columna \n",
    "    'hora_col' que tiene la hora en formato 'hhmm'.\n",
    "\n",
    "    Retorna una columna del tipo 'Series', de datos del tipo datetime,\n",
    "    con la fecha y hora juntas.\n",
    "    \"\"\"\n",
    "\n",
    "    # Transformamos la columna de fechas a la fecha \"usual\"\n",
    "    fecha_col_ = pd.to_datetime(fecha_col - pd.Timestamp(0).to_julian_date(),\n",
    "                                unit='D',\n",
    "                                dayfirst=True)\n",
    "    \n",
    "    # Obtenemos solo la parte de la fecha como una columna de str\n",
    "    fecha_col_ = fecha_col_.map(lambda x: str(x).split()[0])\n",
    "\n",
    "    # Procesamos la columna de la hora para que esté en formato \"hh:mm:ss\"\n",
    "    hora_col_ = hora_col.map(lambda x: \":\".join([\" \" + x[0:2], x[2:4], \"00\"]))\n",
    "\n",
    "    # Retornamos la suma de ambas, en formato de datetime\n",
    "    return pd.to_datetime(fecha_col_ + hora_col_)"
   ]
  },
  {
   "cell_type": "code",
   "execution_count": 16,
   "metadata": {
    "ExecuteTime": {
     "end_time": "2020-08-10T19:48:38.490584Z",
     "start_time": "2020-08-10T19:48:26.510672Z"
    },
    "hidden": true
   },
   "outputs": [
    {
     "data": {
      "text/html": [
       "<div>\n",
       "<style scoped>\n",
       "    .dataframe tbody tr th:only-of-type {\n",
       "        vertical-align: middle;\n",
       "    }\n",
       "\n",
       "    .dataframe tbody tr th {\n",
       "        vertical-align: top;\n",
       "    }\n",
       "\n",
       "    .dataframe thead th {\n",
       "        text-align: right;\n",
       "    }\n",
       "</style>\n",
       "<table border=\"1\" class=\"dataframe\">\n",
       "  <thead>\n",
       "    <tr style=\"text-align: right;\">\n",
       "      <th></th>\n",
       "      <th>DISC_DATE_TIME</th>\n",
       "      <th>CONT_DATE_TIME</th>\n",
       "    </tr>\n",
       "  </thead>\n",
       "  <tbody>\n",
       "    <tr>\n",
       "      <th>0</th>\n",
       "      <td>2005-02-02 13:00:00</td>\n",
       "      <td>2005-02-02 17:30:00</td>\n",
       "    </tr>\n",
       "    <tr>\n",
       "      <th>1</th>\n",
       "      <td>2004-05-12 08:45:00</td>\n",
       "      <td>2004-05-12 15:30:00</td>\n",
       "    </tr>\n",
       "    <tr>\n",
       "      <th>2</th>\n",
       "      <td>2004-05-31 19:21:00</td>\n",
       "      <td>2004-05-31 20:24:00</td>\n",
       "    </tr>\n",
       "    <tr>\n",
       "      <th>3</th>\n",
       "      <td>2004-06-28 16:00:00</td>\n",
       "      <td>2004-07-03 14:00:00</td>\n",
       "    </tr>\n",
       "    <tr>\n",
       "      <th>4</th>\n",
       "      <td>2004-06-28 16:00:00</td>\n",
       "      <td>2004-07-03 12:00:00</td>\n",
       "    </tr>\n",
       "  </tbody>\n",
       "</table>\n",
       "</div>"
      ],
      "text/plain": [
       "       DISC_DATE_TIME      CONT_DATE_TIME\n",
       "0 2005-02-02 13:00:00 2005-02-02 17:30:00\n",
       "1 2004-05-12 08:45:00 2004-05-12 15:30:00\n",
       "2 2004-05-31 19:21:00 2004-05-31 20:24:00\n",
       "3 2004-06-28 16:00:00 2004-07-03 14:00:00\n",
       "4 2004-06-28 16:00:00 2004-07-03 12:00:00"
      ]
     },
     "execution_count": 16,
     "metadata": {},
     "output_type": "execute_result"
    }
   ],
   "source": [
    "# Creamos nuevas columnas\n",
    "df[\"DISC_DATE_TIME\"] = generar_datetime(df[\"DISCOVERY_DATE\"],\n",
    "                                        df[\"DISCOVERY_TIME\"])\n",
    "df[\"CONT_DATE_TIME\"] = generar_datetime(df[\"CONT_DATE\"],\n",
    "                                        df[\"CONT_TIME\"])\n",
    "\n",
    "# Agregamos estas nuevas columnas al conjunto de columnas\n",
    "nuevas_cols = [\"DISC_DATE_TIME\", \"CONT_DATE_TIME\"]\n",
    "columnas += nuevas_cols\n",
    "columnas_ocupadas += nuevas_cols\n",
    "\n",
    "df[nuevas_cols].head()"
   ]
  },
  {
   "cell_type": "markdown",
   "metadata": {
    "hidden": true
   },
   "source": [
    "Quitamos ahora las columnas que resultan redundantes, al tener la misma información de los que tiene prefijo `_DATE_TIME`: \n",
    "* `DISCOVERY_DATE`, `DISCOVERY_TIME`.\n",
    "* `CONT_DATE`, `CONT_TIME`."
   ]
  },
  {
   "cell_type": "code",
   "execution_count": 17,
   "metadata": {
    "ExecuteTime": {
     "end_time": "2020-08-10T19:48:38.780612Z",
     "start_time": "2020-08-10T19:48:38.491581Z"
    },
    "hidden": true,
    "scrolled": true
   },
   "outputs": [
    {
     "name": "stdout",
     "output_type": "stream",
     "text": [
      "El dataset tiene una cantidad de 890821 datos y 9 variables.\n"
     ]
    },
    {
     "data": {
      "text/html": [
       "<div>\n",
       "<style scoped>\n",
       "    .dataframe tbody tr th:only-of-type {\n",
       "        vertical-align: middle;\n",
       "    }\n",
       "\n",
       "    .dataframe tbody tr th {\n",
       "        vertical-align: top;\n",
       "    }\n",
       "\n",
       "    .dataframe thead th {\n",
       "        text-align: right;\n",
       "    }\n",
       "</style>\n",
       "<table border=\"1\" class=\"dataframe\">\n",
       "  <thead>\n",
       "    <tr style=\"text-align: right;\">\n",
       "      <th></th>\n",
       "      <th>FIRE_YEAR</th>\n",
       "      <th>STAT_CAUSE_DESCR</th>\n",
       "      <th>FIRE_SIZE</th>\n",
       "      <th>FIRE_SIZE_CLASS</th>\n",
       "      <th>LATITUDE</th>\n",
       "      <th>LONGITUDE</th>\n",
       "      <th>STATE</th>\n",
       "      <th>DISC_DATE_TIME</th>\n",
       "      <th>CONT_DATE_TIME</th>\n",
       "    </tr>\n",
       "  </thead>\n",
       "  <tbody>\n",
       "    <tr>\n",
       "      <th>0</th>\n",
       "      <td>2005</td>\n",
       "      <td>Miscellaneous</td>\n",
       "      <td>0.10</td>\n",
       "      <td>A</td>\n",
       "      <td>40.036944</td>\n",
       "      <td>-121.005833</td>\n",
       "      <td>CA</td>\n",
       "      <td>2005-02-02 13:00:00</td>\n",
       "      <td>2005-02-02 17:30:00</td>\n",
       "    </tr>\n",
       "    <tr>\n",
       "      <th>1</th>\n",
       "      <td>2004</td>\n",
       "      <td>Lightning</td>\n",
       "      <td>0.25</td>\n",
       "      <td>A</td>\n",
       "      <td>38.933056</td>\n",
       "      <td>-120.404444</td>\n",
       "      <td>CA</td>\n",
       "      <td>2004-05-12 08:45:00</td>\n",
       "      <td>2004-05-12 15:30:00</td>\n",
       "    </tr>\n",
       "    <tr>\n",
       "      <th>2</th>\n",
       "      <td>2004</td>\n",
       "      <td>Debris Burning</td>\n",
       "      <td>0.10</td>\n",
       "      <td>A</td>\n",
       "      <td>38.984167</td>\n",
       "      <td>-120.735556</td>\n",
       "      <td>CA</td>\n",
       "      <td>2004-05-31 19:21:00</td>\n",
       "      <td>2004-05-31 20:24:00</td>\n",
       "    </tr>\n",
       "    <tr>\n",
       "      <th>3</th>\n",
       "      <td>2004</td>\n",
       "      <td>Lightning</td>\n",
       "      <td>0.10</td>\n",
       "      <td>A</td>\n",
       "      <td>38.559167</td>\n",
       "      <td>-119.913333</td>\n",
       "      <td>CA</td>\n",
       "      <td>2004-06-28 16:00:00</td>\n",
       "      <td>2004-07-03 14:00:00</td>\n",
       "    </tr>\n",
       "    <tr>\n",
       "      <th>4</th>\n",
       "      <td>2004</td>\n",
       "      <td>Lightning</td>\n",
       "      <td>0.10</td>\n",
       "      <td>A</td>\n",
       "      <td>38.559167</td>\n",
       "      <td>-119.933056</td>\n",
       "      <td>CA</td>\n",
       "      <td>2004-06-28 16:00:00</td>\n",
       "      <td>2004-07-03 12:00:00</td>\n",
       "    </tr>\n",
       "  </tbody>\n",
       "</table>\n",
       "</div>"
      ],
      "text/plain": [
       "   FIRE_YEAR STAT_CAUSE_DESCR  FIRE_SIZE FIRE_SIZE_CLASS   LATITUDE  \\\n",
       "0       2005    Miscellaneous       0.10               A  40.036944   \n",
       "1       2004        Lightning       0.25               A  38.933056   \n",
       "2       2004   Debris Burning       0.10               A  38.984167   \n",
       "3       2004        Lightning       0.10               A  38.559167   \n",
       "4       2004        Lightning       0.10               A  38.559167   \n",
       "\n",
       "    LONGITUDE STATE      DISC_DATE_TIME      CONT_DATE_TIME  \n",
       "0 -121.005833    CA 2005-02-02 13:00:00 2005-02-02 17:30:00  \n",
       "1 -120.404444    CA 2004-05-12 08:45:00 2004-05-12 15:30:00  \n",
       "2 -120.735556    CA 2004-05-31 19:21:00 2004-05-31 20:24:00  \n",
       "3 -119.913333    CA 2004-06-28 16:00:00 2004-07-03 14:00:00  \n",
       "4 -119.933056    CA 2004-06-28 16:00:00 2004-07-03 12:00:00  "
      ]
     },
     "execution_count": 17,
     "metadata": {},
     "output_type": "execute_result"
    }
   ],
   "source": [
    "for x in cols_aux:\n",
    "    columnas_ocupadas.remove(x)\n",
    "    columnas_sin_ocupar.append(x)\n",
    "\n",
    "del cols_aux, nuevas_cols\n",
    "    \n",
    "df = df[columnas_ocupadas]\n",
    "print_cantidad(df)\n",
    "df.head()"
   ]
  },
  {
   "cell_type": "markdown",
   "metadata": {
    "heading_collapsed": true,
    "hidden": true
   },
   "source": [
    "#### Creación de las columnas `{}_MONTH` y `{}_DAY_OF_WEEK`, a partir de `{}_DATE_TIME`"
   ]
  },
  {
   "cell_type": "markdown",
   "metadata": {
    "hidden": true
   },
   "source": [
    "Crearemos una columna de los meses y semanas, para ver si nos entrega información extra."
   ]
  },
  {
   "cell_type": "code",
   "execution_count": 18,
   "metadata": {
    "ExecuteTime": {
     "end_time": "2020-08-10T19:49:14.043311Z",
     "start_time": "2020-08-10T19:49:14.035895Z"
    },
    "code_folding": [],
    "hidden": true
   },
   "outputs": [],
   "source": [
    "def number_to_month(n):\n",
    "    \"\"\"Hace un mapeo del número de un mes, al nombre del mes.\n",
    "    Retorna None si no se entrega un número entero entre el 1 y el 12.\n",
    "    \"\"\"\n",
    "    \n",
    "    m = {\n",
    "        1:\"January\", 2:\"February\", 3:\"March\", 4:\"April\",\n",
    "        5:\"May\", 6:\"June\", 7:\"July\", 8:\"August\",\n",
    "        9:\"September\", 10:\"Octuber\", 11:\"November\", 12:\"December\"\n",
    "    }\n",
    "    \n",
    "    return m.get(n, None)"
   ]
  },
  {
   "cell_type": "code",
   "execution_count": 19,
   "metadata": {
    "ExecuteTime": {
     "end_time": "2020-08-10T19:49:17.622803Z",
     "start_time": "2020-08-10T19:49:14.771853Z"
    },
    "hidden": true
   },
   "outputs": [
    {
     "data": {
      "text/html": [
       "<div>\n",
       "<style scoped>\n",
       "    .dataframe tbody tr th:only-of-type {\n",
       "        vertical-align: middle;\n",
       "    }\n",
       "\n",
       "    .dataframe tbody tr th {\n",
       "        vertical-align: top;\n",
       "    }\n",
       "\n",
       "    .dataframe thead th {\n",
       "        text-align: right;\n",
       "    }\n",
       "</style>\n",
       "<table border=\"1\" class=\"dataframe\">\n",
       "  <thead>\n",
       "    <tr style=\"text-align: right;\">\n",
       "      <th></th>\n",
       "      <th>FIRE_YEAR</th>\n",
       "      <th>STAT_CAUSE_DESCR</th>\n",
       "      <th>FIRE_SIZE</th>\n",
       "      <th>FIRE_SIZE_CLASS</th>\n",
       "      <th>LATITUDE</th>\n",
       "      <th>LONGITUDE</th>\n",
       "      <th>STATE</th>\n",
       "      <th>DISC_DATE_TIME</th>\n",
       "      <th>DISC_MONTH</th>\n",
       "      <th>DISC_DOW</th>\n",
       "      <th>DISC_TIME</th>\n",
       "      <th>CONT_DATE_TIME</th>\n",
       "      <th>CONT_MONTH</th>\n",
       "      <th>CONT_DOW</th>\n",
       "      <th>CONT_TIME</th>\n",
       "    </tr>\n",
       "  </thead>\n",
       "  <tbody>\n",
       "    <tr>\n",
       "      <th>0</th>\n",
       "      <td>2005</td>\n",
       "      <td>Miscellaneous</td>\n",
       "      <td>0.10</td>\n",
       "      <td>A</td>\n",
       "      <td>40.036944</td>\n",
       "      <td>-121.005833</td>\n",
       "      <td>CA</td>\n",
       "      <td>2005-02-02 13:00:00</td>\n",
       "      <td>February</td>\n",
       "      <td>Wednesday</td>\n",
       "      <td>13</td>\n",
       "      <td>2005-02-02 17:30:00</td>\n",
       "      <td>February</td>\n",
       "      <td>Wednesday</td>\n",
       "      <td>17</td>\n",
       "    </tr>\n",
       "    <tr>\n",
       "      <th>1</th>\n",
       "      <td>2004</td>\n",
       "      <td>Lightning</td>\n",
       "      <td>0.25</td>\n",
       "      <td>A</td>\n",
       "      <td>38.933056</td>\n",
       "      <td>-120.404444</td>\n",
       "      <td>CA</td>\n",
       "      <td>2004-05-12 08:45:00</td>\n",
       "      <td>May</td>\n",
       "      <td>Wednesday</td>\n",
       "      <td>8</td>\n",
       "      <td>2004-05-12 15:30:00</td>\n",
       "      <td>May</td>\n",
       "      <td>Wednesday</td>\n",
       "      <td>15</td>\n",
       "    </tr>\n",
       "    <tr>\n",
       "      <th>2</th>\n",
       "      <td>2004</td>\n",
       "      <td>Debris Burning</td>\n",
       "      <td>0.10</td>\n",
       "      <td>A</td>\n",
       "      <td>38.984167</td>\n",
       "      <td>-120.735556</td>\n",
       "      <td>CA</td>\n",
       "      <td>2004-05-31 19:21:00</td>\n",
       "      <td>May</td>\n",
       "      <td>Monday</td>\n",
       "      <td>19</td>\n",
       "      <td>2004-05-31 20:24:00</td>\n",
       "      <td>May</td>\n",
       "      <td>Monday</td>\n",
       "      <td>20</td>\n",
       "    </tr>\n",
       "    <tr>\n",
       "      <th>3</th>\n",
       "      <td>2004</td>\n",
       "      <td>Lightning</td>\n",
       "      <td>0.10</td>\n",
       "      <td>A</td>\n",
       "      <td>38.559167</td>\n",
       "      <td>-119.913333</td>\n",
       "      <td>CA</td>\n",
       "      <td>2004-06-28 16:00:00</td>\n",
       "      <td>June</td>\n",
       "      <td>Monday</td>\n",
       "      <td>16</td>\n",
       "      <td>2004-07-03 14:00:00</td>\n",
       "      <td>July</td>\n",
       "      <td>Saturday</td>\n",
       "      <td>14</td>\n",
       "    </tr>\n",
       "    <tr>\n",
       "      <th>4</th>\n",
       "      <td>2004</td>\n",
       "      <td>Lightning</td>\n",
       "      <td>0.10</td>\n",
       "      <td>A</td>\n",
       "      <td>38.559167</td>\n",
       "      <td>-119.933056</td>\n",
       "      <td>CA</td>\n",
       "      <td>2004-06-28 16:00:00</td>\n",
       "      <td>June</td>\n",
       "      <td>Monday</td>\n",
       "      <td>16</td>\n",
       "      <td>2004-07-03 12:00:00</td>\n",
       "      <td>July</td>\n",
       "      <td>Saturday</td>\n",
       "      <td>12</td>\n",
       "    </tr>\n",
       "  </tbody>\n",
       "</table>\n",
       "</div>"
      ],
      "text/plain": [
       "   FIRE_YEAR STAT_CAUSE_DESCR  FIRE_SIZE FIRE_SIZE_CLASS   LATITUDE  \\\n",
       "0       2005    Miscellaneous       0.10               A  40.036944   \n",
       "1       2004        Lightning       0.25               A  38.933056   \n",
       "2       2004   Debris Burning       0.10               A  38.984167   \n",
       "3       2004        Lightning       0.10               A  38.559167   \n",
       "4       2004        Lightning       0.10               A  38.559167   \n",
       "\n",
       "    LONGITUDE STATE      DISC_DATE_TIME DISC_MONTH   DISC_DOW  DISC_TIME  \\\n",
       "0 -121.005833    CA 2005-02-02 13:00:00   February  Wednesday         13   \n",
       "1 -120.404444    CA 2004-05-12 08:45:00        May  Wednesday          8   \n",
       "2 -120.735556    CA 2004-05-31 19:21:00        May     Monday         19   \n",
       "3 -119.913333    CA 2004-06-28 16:00:00       June     Monday         16   \n",
       "4 -119.933056    CA 2004-06-28 16:00:00       June     Monday         16   \n",
       "\n",
       "       CONT_DATE_TIME CONT_MONTH   CONT_DOW  CONT_TIME  \n",
       "0 2005-02-02 17:30:00   February  Wednesday         17  \n",
       "1 2004-05-12 15:30:00        May  Wednesday         15  \n",
       "2 2004-05-31 20:24:00        May     Monday         20  \n",
       "3 2004-07-03 14:00:00       July   Saturday         14  \n",
       "4 2004-07-03 12:00:00       July   Saturday         12  "
      ]
     },
     "execution_count": 19,
     "metadata": {},
     "output_type": "execute_result"
    }
   ],
   "source": [
    "# Creamos las columnas {DISC,CONT}_{MONTH,DAY_OF_WEEK}\n",
    "for x in [\"DISC\", \"CONT\"]:\n",
    "    df[f\"{x}_MONTH\"] = df[f\"{x}_DATE_TIME\"].dt.month.map(number_to_month)\n",
    "    df[f\"{x}_DOW\"] = df[f\"{x}_DATE_TIME\"].dt.day_name()\n",
    "    df[f\"{x}_TIME\"] = df[f\"{x}_DATE_TIME\"].dt.hour.map(int)\n",
    "\n",
    "# Añadimos las nuevas columnas al conjunto de columnas\n",
    "cdt = columnas_ocupadas.pop(-1)\n",
    "columnas.pop(-1)\n",
    "cols_aux = [\"DISC_MONTH\", \"DISC_DOW\", \"DISC_TIME\",\n",
    "            cdt, \"CONT_MONTH\", \"CONT_DOW\", \"CONT_TIME\"]\n",
    "\n",
    "columnas.extend(cols_aux)\n",
    "columnas_ocupadas.extend(cols_aux)\n",
    "del cdt, cols_aux\n",
    "\n",
    "# Actualizamos el df\n",
    "df = df[columnas_ocupadas]\n",
    "\n",
    "df.head()"
   ]
  },
  {
   "cell_type": "code",
   "execution_count": 20,
   "metadata": {
    "ExecuteTime": {
     "end_time": "2020-08-10T19:49:18.043047Z",
     "start_time": "2020-08-10T19:49:17.624763Z"
    },
    "hidden": true,
    "scrolled": false
   },
   "outputs": [
    {
     "name": "stdout",
     "output_type": "stream",
     "text": [
      "<class 'pandas.core.frame.DataFrame'>\n",
      "RangeIndex: 890821 entries, 0 to 890820\n",
      "Data columns (total 15 columns):\n",
      " #   Column            Non-Null Count   Dtype         \n",
      "---  ------            --------------   -----         \n",
      " 0   FIRE_YEAR         890821 non-null  int64         \n",
      " 1   STAT_CAUSE_DESCR  890821 non-null  object        \n",
      " 2   FIRE_SIZE         890821 non-null  float64       \n",
      " 3   FIRE_SIZE_CLASS   890821 non-null  object        \n",
      " 4   LATITUDE          890821 non-null  float64       \n",
      " 5   LONGITUDE         890821 non-null  float64       \n",
      " 6   STATE             890821 non-null  object        \n",
      " 7   DISC_DATE_TIME    890821 non-null  datetime64[ns]\n",
      " 8   DISC_MONTH        890821 non-null  object        \n",
      " 9   DISC_DOW          890821 non-null  object        \n",
      " 10  DISC_TIME         890821 non-null  int64         \n",
      " 11  CONT_DATE_TIME    890821 non-null  datetime64[ns]\n",
      " 12  CONT_MONTH        890821 non-null  object        \n",
      " 13  CONT_DOW          890821 non-null  object        \n",
      " 14  CONT_TIME         890821 non-null  int64         \n",
      "dtypes: datetime64[ns](2), float64(3), int64(3), object(7)\n",
      "memory usage: 101.9+ MB\n"
     ]
    }
   ],
   "source": [
    "df.info()"
   ]
  },
  {
   "cell_type": "markdown",
   "metadata": {
    "heading_collapsed": true,
    "hidden": true
   },
   "source": [
    "#### Obtener las diferencias de tiempo del control del incendio"
   ]
  },
  {
   "cell_type": "code",
   "execution_count": 21,
   "metadata": {
    "ExecuteTime": {
     "end_time": "2020-08-10T19:57:12.484153Z",
     "start_time": "2020-08-10T19:57:12.418330Z"
    },
    "hidden": true
   },
   "outputs": [
    {
     "data": {
      "text/html": [
       "<div>\n",
       "<style scoped>\n",
       "    .dataframe tbody tr th:only-of-type {\n",
       "        vertical-align: middle;\n",
       "    }\n",
       "\n",
       "    .dataframe tbody tr th {\n",
       "        vertical-align: top;\n",
       "    }\n",
       "\n",
       "    .dataframe thead th {\n",
       "        text-align: right;\n",
       "    }\n",
       "</style>\n",
       "<table border=\"1\" class=\"dataframe\">\n",
       "  <thead>\n",
       "    <tr style=\"text-align: right;\">\n",
       "      <th></th>\n",
       "      <th>FIRE_YEAR</th>\n",
       "      <th>STAT_CAUSE_DESCR</th>\n",
       "      <th>FIRE_SIZE</th>\n",
       "      <th>FIRE_SIZE_CLASS</th>\n",
       "      <th>LATITUDE</th>\n",
       "      <th>LONGITUDE</th>\n",
       "      <th>STATE</th>\n",
       "      <th>DISC_DATE_TIME</th>\n",
       "      <th>DISC_MONTH</th>\n",
       "      <th>DISC_DOW</th>\n",
       "      <th>DISC_TIME</th>\n",
       "      <th>CONT_DATE_TIME</th>\n",
       "      <th>CONT_MONTH</th>\n",
       "      <th>CONT_DOW</th>\n",
       "      <th>CONT_TIME</th>\n",
       "      <th>DT_FIRE</th>\n",
       "    </tr>\n",
       "  </thead>\n",
       "  <tbody>\n",
       "    <tr>\n",
       "      <th>0</th>\n",
       "      <td>2005</td>\n",
       "      <td>Miscellaneous</td>\n",
       "      <td>0.10</td>\n",
       "      <td>A</td>\n",
       "      <td>40.036944</td>\n",
       "      <td>-121.005833</td>\n",
       "      <td>CA</td>\n",
       "      <td>2005-02-02 13:00:00</td>\n",
       "      <td>February</td>\n",
       "      <td>Wednesday</td>\n",
       "      <td>13</td>\n",
       "      <td>2005-02-02 17:30:00</td>\n",
       "      <td>February</td>\n",
       "      <td>Wednesday</td>\n",
       "      <td>17</td>\n",
       "      <td>0 days 04:30:00</td>\n",
       "    </tr>\n",
       "    <tr>\n",
       "      <th>1</th>\n",
       "      <td>2004</td>\n",
       "      <td>Lightning</td>\n",
       "      <td>0.25</td>\n",
       "      <td>A</td>\n",
       "      <td>38.933056</td>\n",
       "      <td>-120.404444</td>\n",
       "      <td>CA</td>\n",
       "      <td>2004-05-12 08:45:00</td>\n",
       "      <td>May</td>\n",
       "      <td>Wednesday</td>\n",
       "      <td>8</td>\n",
       "      <td>2004-05-12 15:30:00</td>\n",
       "      <td>May</td>\n",
       "      <td>Wednesday</td>\n",
       "      <td>15</td>\n",
       "      <td>0 days 06:45:00</td>\n",
       "    </tr>\n",
       "    <tr>\n",
       "      <th>2</th>\n",
       "      <td>2004</td>\n",
       "      <td>Debris Burning</td>\n",
       "      <td>0.10</td>\n",
       "      <td>A</td>\n",
       "      <td>38.984167</td>\n",
       "      <td>-120.735556</td>\n",
       "      <td>CA</td>\n",
       "      <td>2004-05-31 19:21:00</td>\n",
       "      <td>May</td>\n",
       "      <td>Monday</td>\n",
       "      <td>19</td>\n",
       "      <td>2004-05-31 20:24:00</td>\n",
       "      <td>May</td>\n",
       "      <td>Monday</td>\n",
       "      <td>20</td>\n",
       "      <td>0 days 01:03:00</td>\n",
       "    </tr>\n",
       "    <tr>\n",
       "      <th>3</th>\n",
       "      <td>2004</td>\n",
       "      <td>Lightning</td>\n",
       "      <td>0.10</td>\n",
       "      <td>A</td>\n",
       "      <td>38.559167</td>\n",
       "      <td>-119.913333</td>\n",
       "      <td>CA</td>\n",
       "      <td>2004-06-28 16:00:00</td>\n",
       "      <td>June</td>\n",
       "      <td>Monday</td>\n",
       "      <td>16</td>\n",
       "      <td>2004-07-03 14:00:00</td>\n",
       "      <td>July</td>\n",
       "      <td>Saturday</td>\n",
       "      <td>14</td>\n",
       "      <td>4 days 22:00:00</td>\n",
       "    </tr>\n",
       "    <tr>\n",
       "      <th>4</th>\n",
       "      <td>2004</td>\n",
       "      <td>Lightning</td>\n",
       "      <td>0.10</td>\n",
       "      <td>A</td>\n",
       "      <td>38.559167</td>\n",
       "      <td>-119.933056</td>\n",
       "      <td>CA</td>\n",
       "      <td>2004-06-28 16:00:00</td>\n",
       "      <td>June</td>\n",
       "      <td>Monday</td>\n",
       "      <td>16</td>\n",
       "      <td>2004-07-03 12:00:00</td>\n",
       "      <td>July</td>\n",
       "      <td>Saturday</td>\n",
       "      <td>12</td>\n",
       "      <td>4 days 20:00:00</td>\n",
       "    </tr>\n",
       "  </tbody>\n",
       "</table>\n",
       "</div>"
      ],
      "text/plain": [
       "   FIRE_YEAR STAT_CAUSE_DESCR  FIRE_SIZE FIRE_SIZE_CLASS   LATITUDE  \\\n",
       "0       2005    Miscellaneous       0.10               A  40.036944   \n",
       "1       2004        Lightning       0.25               A  38.933056   \n",
       "2       2004   Debris Burning       0.10               A  38.984167   \n",
       "3       2004        Lightning       0.10               A  38.559167   \n",
       "4       2004        Lightning       0.10               A  38.559167   \n",
       "\n",
       "    LONGITUDE STATE      DISC_DATE_TIME DISC_MONTH   DISC_DOW  DISC_TIME  \\\n",
       "0 -121.005833    CA 2005-02-02 13:00:00   February  Wednesday         13   \n",
       "1 -120.404444    CA 2004-05-12 08:45:00        May  Wednesday          8   \n",
       "2 -120.735556    CA 2004-05-31 19:21:00        May     Monday         19   \n",
       "3 -119.913333    CA 2004-06-28 16:00:00       June     Monday         16   \n",
       "4 -119.933056    CA 2004-06-28 16:00:00       June     Monday         16   \n",
       "\n",
       "       CONT_DATE_TIME CONT_MONTH   CONT_DOW  CONT_TIME         DT_FIRE  \n",
       "0 2005-02-02 17:30:00   February  Wednesday         17 0 days 04:30:00  \n",
       "1 2004-05-12 15:30:00        May  Wednesday         15 0 days 06:45:00  \n",
       "2 2004-05-31 20:24:00        May     Monday         20 0 days 01:03:00  \n",
       "3 2004-07-03 14:00:00       July   Saturday         14 4 days 22:00:00  \n",
       "4 2004-07-03 12:00:00       July   Saturday         12 4 days 20:00:00  "
      ]
     },
     "execution_count": 21,
     "metadata": {},
     "output_type": "execute_result"
    }
   ],
   "source": [
    "df[\"DT_FIRE\"] = df[\"CONT_DATE_TIME\"] - df[\"DISC_DATE_TIME\"]\n",
    "df.head()"
   ]
  },
  {
   "cell_type": "code",
   "execution_count": 22,
   "metadata": {
    "ExecuteTime": {
     "end_time": "2020-08-10T19:57:20.368729Z",
     "start_time": "2020-08-10T19:57:12.596204Z"
    },
    "hidden": true
   },
   "outputs": [
    {
     "data": {
      "text/html": [
       "<div>\n",
       "<style scoped>\n",
       "    .dataframe tbody tr th:only-of-type {\n",
       "        vertical-align: middle;\n",
       "    }\n",
       "\n",
       "    .dataframe tbody tr th {\n",
       "        vertical-align: top;\n",
       "    }\n",
       "\n",
       "    .dataframe thead th {\n",
       "        text-align: right;\n",
       "    }\n",
       "</style>\n",
       "<table border=\"1\" class=\"dataframe\">\n",
       "  <thead>\n",
       "    <tr style=\"text-align: right;\">\n",
       "      <th></th>\n",
       "      <th>FIRE_YEAR</th>\n",
       "      <th>STAT_CAUSE_DESCR</th>\n",
       "      <th>FIRE_SIZE</th>\n",
       "      <th>FIRE_SIZE_CLASS</th>\n",
       "      <th>LATITUDE</th>\n",
       "      <th>LONGITUDE</th>\n",
       "      <th>STATE</th>\n",
       "      <th>DISC_DATE_TIME</th>\n",
       "      <th>DISC_MONTH</th>\n",
       "      <th>DISC_DOW</th>\n",
       "      <th>DISC_TIME</th>\n",
       "      <th>CONT_DATE_TIME</th>\n",
       "      <th>CONT_MONTH</th>\n",
       "      <th>CONT_DOW</th>\n",
       "      <th>CONT_TIME</th>\n",
       "      <th>DT_FIRE</th>\n",
       "    </tr>\n",
       "  </thead>\n",
       "  <tbody>\n",
       "    <tr>\n",
       "      <th>0</th>\n",
       "      <td>2005</td>\n",
       "      <td>Miscellaneous</td>\n",
       "      <td>0.10</td>\n",
       "      <td>A</td>\n",
       "      <td>40.036944</td>\n",
       "      <td>-121.005833</td>\n",
       "      <td>CA</td>\n",
       "      <td>2005-02-02 13:00:00</td>\n",
       "      <td>February</td>\n",
       "      <td>Wednesday</td>\n",
       "      <td>13</td>\n",
       "      <td>2005-02-02 17:30:00</td>\n",
       "      <td>February</td>\n",
       "      <td>Wednesday</td>\n",
       "      <td>17</td>\n",
       "      <td>4.50</td>\n",
       "    </tr>\n",
       "    <tr>\n",
       "      <th>1</th>\n",
       "      <td>2004</td>\n",
       "      <td>Lightning</td>\n",
       "      <td>0.25</td>\n",
       "      <td>A</td>\n",
       "      <td>38.933056</td>\n",
       "      <td>-120.404444</td>\n",
       "      <td>CA</td>\n",
       "      <td>2004-05-12 08:45:00</td>\n",
       "      <td>May</td>\n",
       "      <td>Wednesday</td>\n",
       "      <td>8</td>\n",
       "      <td>2004-05-12 15:30:00</td>\n",
       "      <td>May</td>\n",
       "      <td>Wednesday</td>\n",
       "      <td>15</td>\n",
       "      <td>6.75</td>\n",
       "    </tr>\n",
       "    <tr>\n",
       "      <th>2</th>\n",
       "      <td>2004</td>\n",
       "      <td>Debris Burning</td>\n",
       "      <td>0.10</td>\n",
       "      <td>A</td>\n",
       "      <td>38.984167</td>\n",
       "      <td>-120.735556</td>\n",
       "      <td>CA</td>\n",
       "      <td>2004-05-31 19:21:00</td>\n",
       "      <td>May</td>\n",
       "      <td>Monday</td>\n",
       "      <td>19</td>\n",
       "      <td>2004-05-31 20:24:00</td>\n",
       "      <td>May</td>\n",
       "      <td>Monday</td>\n",
       "      <td>20</td>\n",
       "      <td>1.05</td>\n",
       "    </tr>\n",
       "    <tr>\n",
       "      <th>3</th>\n",
       "      <td>2004</td>\n",
       "      <td>Lightning</td>\n",
       "      <td>0.10</td>\n",
       "      <td>A</td>\n",
       "      <td>38.559167</td>\n",
       "      <td>-119.913333</td>\n",
       "      <td>CA</td>\n",
       "      <td>2004-06-28 16:00:00</td>\n",
       "      <td>June</td>\n",
       "      <td>Monday</td>\n",
       "      <td>16</td>\n",
       "      <td>2004-07-03 14:00:00</td>\n",
       "      <td>July</td>\n",
       "      <td>Saturday</td>\n",
       "      <td>14</td>\n",
       "      <td>118.00</td>\n",
       "    </tr>\n",
       "    <tr>\n",
       "      <th>4</th>\n",
       "      <td>2004</td>\n",
       "      <td>Lightning</td>\n",
       "      <td>0.10</td>\n",
       "      <td>A</td>\n",
       "      <td>38.559167</td>\n",
       "      <td>-119.933056</td>\n",
       "      <td>CA</td>\n",
       "      <td>2004-06-28 16:00:00</td>\n",
       "      <td>June</td>\n",
       "      <td>Monday</td>\n",
       "      <td>16</td>\n",
       "      <td>2004-07-03 12:00:00</td>\n",
       "      <td>July</td>\n",
       "      <td>Saturday</td>\n",
       "      <td>12</td>\n",
       "      <td>116.00</td>\n",
       "    </tr>\n",
       "  </tbody>\n",
       "</table>\n",
       "</div>"
      ],
      "text/plain": [
       "   FIRE_YEAR STAT_CAUSE_DESCR  FIRE_SIZE FIRE_SIZE_CLASS   LATITUDE  \\\n",
       "0       2005    Miscellaneous       0.10               A  40.036944   \n",
       "1       2004        Lightning       0.25               A  38.933056   \n",
       "2       2004   Debris Burning       0.10               A  38.984167   \n",
       "3       2004        Lightning       0.10               A  38.559167   \n",
       "4       2004        Lightning       0.10               A  38.559167   \n",
       "\n",
       "    LONGITUDE STATE      DISC_DATE_TIME DISC_MONTH   DISC_DOW  DISC_TIME  \\\n",
       "0 -121.005833    CA 2005-02-02 13:00:00   February  Wednesday         13   \n",
       "1 -120.404444    CA 2004-05-12 08:45:00        May  Wednesday          8   \n",
       "2 -120.735556    CA 2004-05-31 19:21:00        May     Monday         19   \n",
       "3 -119.913333    CA 2004-06-28 16:00:00       June     Monday         16   \n",
       "4 -119.933056    CA 2004-06-28 16:00:00       June     Monday         16   \n",
       "\n",
       "       CONT_DATE_TIME CONT_MONTH   CONT_DOW  CONT_TIME  DT_FIRE  \n",
       "0 2005-02-02 17:30:00   February  Wednesday         17     4.50  \n",
       "1 2004-05-12 15:30:00        May  Wednesday         15     6.75  \n",
       "2 2004-05-31 20:24:00        May     Monday         20     1.05  \n",
       "3 2004-07-03 14:00:00       July   Saturday         14   118.00  \n",
       "4 2004-07-03 12:00:00       July   Saturday         12   116.00  "
      ]
     },
     "execution_count": 22,
     "metadata": {},
     "output_type": "execute_result"
    }
   ],
   "source": [
    "df[\"DT_FIRE\"] = df.DT_FIRE.map(lambda x: x.total_seconds()/3600)\n",
    "df.head()"
   ]
  },
  {
   "cell_type": "markdown",
   "metadata": {
    "heading_collapsed": true
   },
   "source": [
    "## Orden por fecha de descubrimiento"
   ]
  },
  {
   "cell_type": "code",
   "execution_count": 23,
   "metadata": {
    "ExecuteTime": {
     "end_time": "2020-08-10T19:57:20.779653Z",
     "start_time": "2020-08-10T19:57:20.369725Z"
    },
    "hidden": true
   },
   "outputs": [],
   "source": [
    "df.sort_values(by=[\"DISC_DATE_TIME\"], ignore_index=True, inplace=True)"
   ]
  },
  {
   "cell_type": "code",
   "execution_count": 24,
   "metadata": {
    "ExecuteTime": {
     "end_time": "2020-08-10T19:57:20.804593Z",
     "start_time": "2020-08-10T19:57:20.781648Z"
    },
    "hidden": true
   },
   "outputs": [
    {
     "data": {
      "text/html": [
       "<div>\n",
       "<style scoped>\n",
       "    .dataframe tbody tr th:only-of-type {\n",
       "        vertical-align: middle;\n",
       "    }\n",
       "\n",
       "    .dataframe tbody tr th {\n",
       "        vertical-align: top;\n",
       "    }\n",
       "\n",
       "    .dataframe thead th {\n",
       "        text-align: right;\n",
       "    }\n",
       "</style>\n",
       "<table border=\"1\" class=\"dataframe\">\n",
       "  <thead>\n",
       "    <tr style=\"text-align: right;\">\n",
       "      <th></th>\n",
       "      <th>FIRE_YEAR</th>\n",
       "      <th>STAT_CAUSE_DESCR</th>\n",
       "      <th>FIRE_SIZE</th>\n",
       "      <th>FIRE_SIZE_CLASS</th>\n",
       "      <th>LATITUDE</th>\n",
       "      <th>LONGITUDE</th>\n",
       "      <th>STATE</th>\n",
       "      <th>DISC_DATE_TIME</th>\n",
       "      <th>DISC_MONTH</th>\n",
       "      <th>DISC_DOW</th>\n",
       "      <th>DISC_TIME</th>\n",
       "      <th>CONT_DATE_TIME</th>\n",
       "      <th>CONT_MONTH</th>\n",
       "      <th>CONT_DOW</th>\n",
       "      <th>CONT_TIME</th>\n",
       "      <th>DT_FIRE</th>\n",
       "    </tr>\n",
       "  </thead>\n",
       "  <tbody>\n",
       "    <tr>\n",
       "      <th>0</th>\n",
       "      <td>1992</td>\n",
       "      <td>Miscellaneous</td>\n",
       "      <td>0.36</td>\n",
       "      <td>B</td>\n",
       "      <td>32.4410</td>\n",
       "      <td>-82.7018</td>\n",
       "      <td>GA</td>\n",
       "      <td>1992-01-01 00:01:00</td>\n",
       "      <td>January</td>\n",
       "      <td>Wednesday</td>\n",
       "      <td>0</td>\n",
       "      <td>1992-01-01 01:14:00</td>\n",
       "      <td>January</td>\n",
       "      <td>Wednesday</td>\n",
       "      <td>1</td>\n",
       "      <td>1.216667</td>\n",
       "    </tr>\n",
       "    <tr>\n",
       "      <th>1</th>\n",
       "      <td>1992</td>\n",
       "      <td>Miscellaneous</td>\n",
       "      <td>1.02</td>\n",
       "      <td>B</td>\n",
       "      <td>32.2009</td>\n",
       "      <td>-82.2967</td>\n",
       "      <td>GA</td>\n",
       "      <td>1992-01-01 00:05:00</td>\n",
       "      <td>January</td>\n",
       "      <td>Wednesday</td>\n",
       "      <td>0</td>\n",
       "      <td>1992-01-01 00:40:00</td>\n",
       "      <td>January</td>\n",
       "      <td>Wednesday</td>\n",
       "      <td>0</td>\n",
       "      <td>0.583333</td>\n",
       "    </tr>\n",
       "    <tr>\n",
       "      <th>2</th>\n",
       "      <td>1992</td>\n",
       "      <td>Miscellaneous</td>\n",
       "      <td>0.58</td>\n",
       "      <td>B</td>\n",
       "      <td>32.1325</td>\n",
       "      <td>-82.7610</td>\n",
       "      <td>GA</td>\n",
       "      <td>1992-01-01 00:10:00</td>\n",
       "      <td>January</td>\n",
       "      <td>Wednesday</td>\n",
       "      <td>0</td>\n",
       "      <td>1992-01-01 01:15:00</td>\n",
       "      <td>January</td>\n",
       "      <td>Wednesday</td>\n",
       "      <td>1</td>\n",
       "      <td>1.083333</td>\n",
       "    </tr>\n",
       "    <tr>\n",
       "      <th>3</th>\n",
       "      <td>1992</td>\n",
       "      <td>Children</td>\n",
       "      <td>10.14</td>\n",
       "      <td>C</td>\n",
       "      <td>32.0300</td>\n",
       "      <td>-83.9350</td>\n",
       "      <td>GA</td>\n",
       "      <td>1992-01-01 00:30:00</td>\n",
       "      <td>January</td>\n",
       "      <td>Wednesday</td>\n",
       "      <td>0</td>\n",
       "      <td>1992-01-01 02:20:00</td>\n",
       "      <td>January</td>\n",
       "      <td>Wednesday</td>\n",
       "      <td>2</td>\n",
       "      <td>1.833333</td>\n",
       "    </tr>\n",
       "    <tr>\n",
       "      <th>4</th>\n",
       "      <td>1992</td>\n",
       "      <td>Lightning</td>\n",
       "      <td>0.10</td>\n",
       "      <td>A</td>\n",
       "      <td>38.2050</td>\n",
       "      <td>-120.3350</td>\n",
       "      <td>CA</td>\n",
       "      <td>1992-01-01 01:30:00</td>\n",
       "      <td>January</td>\n",
       "      <td>Wednesday</td>\n",
       "      <td>1</td>\n",
       "      <td>1992-01-01 02:10:00</td>\n",
       "      <td>January</td>\n",
       "      <td>Wednesday</td>\n",
       "      <td>2</td>\n",
       "      <td>0.666667</td>\n",
       "    </tr>\n",
       "  </tbody>\n",
       "</table>\n",
       "</div>"
      ],
      "text/plain": [
       "   FIRE_YEAR STAT_CAUSE_DESCR  FIRE_SIZE FIRE_SIZE_CLASS  LATITUDE  LONGITUDE  \\\n",
       "0       1992    Miscellaneous       0.36               B   32.4410   -82.7018   \n",
       "1       1992    Miscellaneous       1.02               B   32.2009   -82.2967   \n",
       "2       1992    Miscellaneous       0.58               B   32.1325   -82.7610   \n",
       "3       1992         Children      10.14               C   32.0300   -83.9350   \n",
       "4       1992        Lightning       0.10               A   38.2050  -120.3350   \n",
       "\n",
       "  STATE      DISC_DATE_TIME DISC_MONTH   DISC_DOW  DISC_TIME  \\\n",
       "0    GA 1992-01-01 00:01:00    January  Wednesday          0   \n",
       "1    GA 1992-01-01 00:05:00    January  Wednesday          0   \n",
       "2    GA 1992-01-01 00:10:00    January  Wednesday          0   \n",
       "3    GA 1992-01-01 00:30:00    January  Wednesday          0   \n",
       "4    CA 1992-01-01 01:30:00    January  Wednesday          1   \n",
       "\n",
       "       CONT_DATE_TIME CONT_MONTH   CONT_DOW  CONT_TIME   DT_FIRE  \n",
       "0 1992-01-01 01:14:00    January  Wednesday          1  1.216667  \n",
       "1 1992-01-01 00:40:00    January  Wednesday          0  0.583333  \n",
       "2 1992-01-01 01:15:00    January  Wednesday          1  1.083333  \n",
       "3 1992-01-01 02:20:00    January  Wednesday          2  1.833333  \n",
       "4 1992-01-01 02:10:00    January  Wednesday          2  0.666667  "
      ]
     },
     "execution_count": 24,
     "metadata": {},
     "output_type": "execute_result"
    }
   ],
   "source": [
    "df.head()"
   ]
  },
  {
   "cell_type": "markdown",
   "metadata": {
    "heading_collapsed": true
   },
   "source": [
    "## Salvar DataFrame\n",
    "\n",
    "Salvamos el DataFrame en la carpeta respectiva."
   ]
  },
  {
   "cell_type": "code",
   "execution_count": 26,
   "metadata": {
    "ExecuteTime": {
     "end_time": "2020-08-10T19:58:18.429479Z",
     "start_time": "2020-08-10T19:58:08.687133Z"
    },
    "hidden": true
   },
   "outputs": [
    {
     "name": "stdout",
     "output_type": "stream",
     "text": [
      "Dataset guardado.\n",
      "Columnas del dataset guardadas.\n"
     ]
    }
   ],
   "source": [
    "if SAVE_DF:\n",
    "    df.to_csv(path.join(WF_FOLDER_PATH, \"WILDFIRES_USA.csv\"), index=False)\n",
    "    print(\"Dataset guardado.\")\n",
    "    s = \",\".join(list(df.columns))\n",
    "    pd.DataFrame(data={s:[0]}).to_csv(path.join(WF_FOLDER_PATH, \n",
    "                                                \"WILDFIRES_USA_COLUMNS.csv\"), \n",
    "                                      index=False)\n",
    "    print(\"Columnas del dataset guardadas.\")\n",
    "    del s"
   ]
  },
  {
   "cell_type": "code",
   "execution_count": null,
   "metadata": {
    "hidden": true
   },
   "outputs": [],
   "source": []
  }
 ],
 "metadata": {
  "kernelspec": {
   "display_name": "Python 3",
   "language": "python",
   "name": "python3"
  },
  "language_info": {
   "codemirror_mode": {
    "name": "ipython",
    "version": 3
   },
   "file_extension": ".py",
   "mimetype": "text/x-python",
   "name": "python",
   "nbconvert_exporter": "python",
   "pygments_lexer": "ipython3",
   "version": "3.7.3"
  },
  "toc": {
   "base_numbering": 1,
   "nav_menu": {},
   "number_sections": true,
   "sideBar": true,
   "skip_h1_title": false,
   "title_cell": "Table of Contents",
   "title_sidebar": "Contents",
   "toc_cell": false,
   "toc_position": {
    "height": "calc(100% - 180px)",
    "left": "10px",
    "top": "150px",
    "width": "256px"
   },
   "toc_section_display": true,
   "toc_window_display": false
  },
  "varInspector": {
   "cols": {
    "lenName": 16,
    "lenType": 16,
    "lenVar": 40
   },
   "kernels_config": {
    "python": {
     "delete_cmd_postfix": "",
     "delete_cmd_prefix": "del ",
     "library": "var_list.py",
     "varRefreshCmd": "print(var_dic_list())"
    },
    "r": {
     "delete_cmd_postfix": ") ",
     "delete_cmd_prefix": "rm(",
     "library": "var_list.r",
     "varRefreshCmd": "cat(var_dic_list()) "
    }
   },
   "oldHeight": 216.333666,
   "position": {
    "height": "237.667px",
    "left": "824px",
    "right": "20px",
    "top": "120px",
    "width": "350px"
   },
   "types_to_exclude": [
    "module",
    "function",
    "builtin_function_or_method",
    "instance",
    "_Feature"
   ],
   "varInspector_section_display": "block",
   "window_display": false
  }
 },
 "nbformat": 4,
 "nbformat_minor": 4
}
