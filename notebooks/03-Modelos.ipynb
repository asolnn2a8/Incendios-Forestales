{
 "cells": [
  {
   "cell_type": "markdown",
   "metadata": {},
   "source": [
    "# Modelos de Predicción\n",
    "##### Futuras mejoras\n",
    "* Estudiar bien los métodos de clasificación\n",
    "* Cambiar el KNearestNeigh.. pues no está bien implementado: Falta normalizar, definir métrica, etc.\n",
    "* Ordenar por tiempo y separar\n",
    "* hacer crossvalidation\n",
    "* "
   ]
  },
  {
   "cell_type": "markdown",
   "metadata": {},
   "source": [
    "## Importación de librerías"
   ]
  },
  {
   "cell_type": "code",
   "execution_count": 1,
   "metadata": {
    "ExecuteTime": {
     "end_time": "2020-08-13T20:02:44.186177Z",
     "start_time": "2020-08-13T20:02:42.594081Z"
    }
   },
   "outputs": [],
   "source": [
    "from os import path\n",
    "import pandas as pd\n",
    "import matplotlib.pyplot as plt\n",
    "from sklearn import preprocessing\n",
    "from sklearn.metrics import classification_report\n",
    "from sklearn.metrics import confusion_matrix\n",
    "from sklearn.model_selection import train_test_split"
   ]
  },
  {
   "cell_type": "markdown",
   "metadata": {},
   "source": [
    "## Constantes"
   ]
  },
  {
   "cell_type": "markdown",
   "metadata": {},
   "source": [
    "Rutas usuales que se ocuparán en el notebook"
   ]
  },
  {
   "cell_type": "code",
   "execution_count": 2,
   "metadata": {
    "ExecuteTime": {
     "end_time": "2020-08-13T20:02:44.197304Z",
     "start_time": "2020-08-13T20:02:44.188079Z"
    },
    "code_folding": []
   },
   "outputs": [],
   "source": [
    "# Salvar gráficos\n",
    "save_graf = False\n",
    "\n",
    "# Variable que comenta el estado actual de las funciones\n",
    "MOSTRAR_INFO = True\n",
    "\n",
    "# RUTAS\n",
    "MAIN_PATH = path.join(\"..\")\n",
    "\n",
    "IMG_PATH = path.join(MAIN_PATH, \"imagenes\")\n",
    "DATA_PATH = path.join(MAIN_PATH, \"data\")\n",
    "INF_PATH = path.join(MAIN_PATH, \"informe\")\n",
    "\n",
    "TAB_PATH = path.join(INF_PATH, \"tablas\")\n",
    "\n",
    "WF_FOLDER_PATH = path.join(DATA_PATH,\n",
    "                           \"wildfires_us\")\n",
    "WF_DATA_PATH = path.join(WF_FOLDER_PATH,\n",
    "                         \"WILDFIRES_USA.csv\")\n",
    "WF_DATA_COLUMNS_PATH = path.join(WF_FOLDER_PATH,\n",
    "                                 \"WILDFIRES_USA_COLUMNS.csv\")\n",
    "\n",
    "# Tamaño de la imagen\n",
    "my_figsize = (10, 5)"
   ]
  },
  {
   "cell_type": "markdown",
   "metadata": {},
   "source": [
    "## Funciones auxiliares"
   ]
  },
  {
   "cell_type": "markdown",
   "metadata": {},
   "source": [
    "Función que se ocupará para imprimir la información (número de filas y columnas) de un DataFrame."
   ]
  },
  {
   "cell_type": "code",
   "execution_count": 3,
   "metadata": {
    "ExecuteTime": {
     "end_time": "2020-08-13T20:02:44.213556Z",
     "start_time": "2020-08-13T20:02:44.199560Z"
    },
    "code_folding": [
     0
    ]
   },
   "outputs": [],
   "source": [
    "def print_cantidad(dataframe):\n",
    "    \"\"\"Imprime la cantidad de datos que tiene el Data Frame.\n",
    "    \"\"\"\n",
    "    msg_cantidad = \"El dataset tiene una cantidad de {} datos y {} variables.\"\n",
    "    print(msg_cantidad.format(dataframe.shape[0], dataframe.shape[1]))\n",
    "    return None"
   ]
  },
  {
   "cell_type": "markdown",
   "metadata": {},
   "source": [
    "## Carga de datos"
   ]
  },
  {
   "cell_type": "markdown",
   "metadata": {},
   "source": [
    "### Columnas a ocupar\n",
    "\n",
    "Se escojen las columnas a ocupar dependiendo de la importancia que tenga. Se omiten algunas columnas tales como las que son para el ID, como el nombre que tuvo el incendio, o la columna que indica de dónde se obtuvo el incendio; pues no deberían de afectar a la predicción."
   ]
  },
  {
   "cell_type": "code",
   "execution_count": 4,
   "metadata": {
    "ExecuteTime": {
     "end_time": "2020-08-13T20:02:44.228484Z",
     "start_time": "2020-08-13T20:02:44.215516Z"
    },
    "code_folding": []
   },
   "outputs": [],
   "source": [
    "# Todas las columnas\n",
    "columnas = str(pd.read_csv(WF_DATA_COLUMNS_PATH).columns[0]).split(\",\")\n",
    "\n",
    "# Columnas que se ocuparán en el análisis\n",
    "columnas_ocupadas = columnas.copy()\n",
    "\n",
    "# Columnas que no se ocuparán\n",
    "columnas_sin_ocupar = [x for x in columnas if x not in columnas_ocupadas]"
   ]
  },
  {
   "cell_type": "markdown",
   "metadata": {},
   "source": [
    "### Carga de Datos"
   ]
  },
  {
   "cell_type": "code",
   "execution_count": 5,
   "metadata": {
    "ExecuteTime": {
     "end_time": "2020-08-13T20:02:48.739245Z",
     "start_time": "2020-08-13T20:02:44.231474Z"
    },
    "scrolled": false
   },
   "outputs": [
    {
     "name": "stdout",
     "output_type": "stream",
     "text": [
      "El dataset tiene una cantidad de 890821 datos y 16 variables.\n"
     ]
    },
    {
     "data": {
      "text/html": [
       "<div>\n",
       "<style scoped>\n",
       "    .dataframe tbody tr th:only-of-type {\n",
       "        vertical-align: middle;\n",
       "    }\n",
       "\n",
       "    .dataframe tbody tr th {\n",
       "        vertical-align: top;\n",
       "    }\n",
       "\n",
       "    .dataframe thead th {\n",
       "        text-align: right;\n",
       "    }\n",
       "</style>\n",
       "<table border=\"1\" class=\"dataframe\">\n",
       "  <thead>\n",
       "    <tr style=\"text-align: right;\">\n",
       "      <th></th>\n",
       "      <th>FIRE_YEAR</th>\n",
       "      <th>STAT_CAUSE_DESCR</th>\n",
       "      <th>FIRE_SIZE</th>\n",
       "      <th>FIRE_SIZE_CLASS</th>\n",
       "      <th>LATITUDE</th>\n",
       "      <th>LONGITUDE</th>\n",
       "      <th>STATE</th>\n",
       "      <th>DISC_DATE_TIME</th>\n",
       "      <th>DISC_MONTH</th>\n",
       "      <th>DISC_DOW</th>\n",
       "      <th>DISC_TIME</th>\n",
       "      <th>CONT_DATE_TIME</th>\n",
       "      <th>CONT_MONTH</th>\n",
       "      <th>CONT_DOW</th>\n",
       "      <th>CONT_TIME</th>\n",
       "      <th>DT_FIRE</th>\n",
       "    </tr>\n",
       "  </thead>\n",
       "  <tbody>\n",
       "    <tr>\n",
       "      <th>0</th>\n",
       "      <td>1992</td>\n",
       "      <td>Miscellaneous</td>\n",
       "      <td>0.36</td>\n",
       "      <td>B</td>\n",
       "      <td>32.4410</td>\n",
       "      <td>-82.7018</td>\n",
       "      <td>GA</td>\n",
       "      <td>1992-01-01 00:01:00</td>\n",
       "      <td>January</td>\n",
       "      <td>Wednesday</td>\n",
       "      <td>0</td>\n",
       "      <td>1992-01-01 01:14:00</td>\n",
       "      <td>January</td>\n",
       "      <td>Wednesday</td>\n",
       "      <td>1</td>\n",
       "      <td>1.216667</td>\n",
       "    </tr>\n",
       "    <tr>\n",
       "      <th>1</th>\n",
       "      <td>1992</td>\n",
       "      <td>Miscellaneous</td>\n",
       "      <td>1.02</td>\n",
       "      <td>B</td>\n",
       "      <td>32.2009</td>\n",
       "      <td>-82.2967</td>\n",
       "      <td>GA</td>\n",
       "      <td>1992-01-01 00:05:00</td>\n",
       "      <td>January</td>\n",
       "      <td>Wednesday</td>\n",
       "      <td>0</td>\n",
       "      <td>1992-01-01 00:40:00</td>\n",
       "      <td>January</td>\n",
       "      <td>Wednesday</td>\n",
       "      <td>0</td>\n",
       "      <td>0.583333</td>\n",
       "    </tr>\n",
       "    <tr>\n",
       "      <th>2</th>\n",
       "      <td>1992</td>\n",
       "      <td>Miscellaneous</td>\n",
       "      <td>0.58</td>\n",
       "      <td>B</td>\n",
       "      <td>32.1325</td>\n",
       "      <td>-82.7610</td>\n",
       "      <td>GA</td>\n",
       "      <td>1992-01-01 00:10:00</td>\n",
       "      <td>January</td>\n",
       "      <td>Wednesday</td>\n",
       "      <td>0</td>\n",
       "      <td>1992-01-01 01:15:00</td>\n",
       "      <td>January</td>\n",
       "      <td>Wednesday</td>\n",
       "      <td>1</td>\n",
       "      <td>1.083333</td>\n",
       "    </tr>\n",
       "    <tr>\n",
       "      <th>3</th>\n",
       "      <td>1992</td>\n",
       "      <td>Children</td>\n",
       "      <td>10.14</td>\n",
       "      <td>C</td>\n",
       "      <td>32.0300</td>\n",
       "      <td>-83.9350</td>\n",
       "      <td>GA</td>\n",
       "      <td>1992-01-01 00:30:00</td>\n",
       "      <td>January</td>\n",
       "      <td>Wednesday</td>\n",
       "      <td>0</td>\n",
       "      <td>1992-01-01 02:20:00</td>\n",
       "      <td>January</td>\n",
       "      <td>Wednesday</td>\n",
       "      <td>2</td>\n",
       "      <td>1.833333</td>\n",
       "    </tr>\n",
       "    <tr>\n",
       "      <th>4</th>\n",
       "      <td>1992</td>\n",
       "      <td>Lightning</td>\n",
       "      <td>0.10</td>\n",
       "      <td>A</td>\n",
       "      <td>38.2050</td>\n",
       "      <td>-120.3350</td>\n",
       "      <td>CA</td>\n",
       "      <td>1992-01-01 01:30:00</td>\n",
       "      <td>January</td>\n",
       "      <td>Wednesday</td>\n",
       "      <td>1</td>\n",
       "      <td>1992-01-01 02:10:00</td>\n",
       "      <td>January</td>\n",
       "      <td>Wednesday</td>\n",
       "      <td>2</td>\n",
       "      <td>0.666667</td>\n",
       "    </tr>\n",
       "  </tbody>\n",
       "</table>\n",
       "</div>"
      ],
      "text/plain": [
       "   FIRE_YEAR STAT_CAUSE_DESCR  FIRE_SIZE FIRE_SIZE_CLASS  LATITUDE  LONGITUDE  \\\n",
       "0       1992    Miscellaneous       0.36               B   32.4410   -82.7018   \n",
       "1       1992    Miscellaneous       1.02               B   32.2009   -82.2967   \n",
       "2       1992    Miscellaneous       0.58               B   32.1325   -82.7610   \n",
       "3       1992         Children      10.14               C   32.0300   -83.9350   \n",
       "4       1992        Lightning       0.10               A   38.2050  -120.3350   \n",
       "\n",
       "  STATE      DISC_DATE_TIME DISC_MONTH   DISC_DOW  DISC_TIME  \\\n",
       "0    GA 1992-01-01 00:01:00    January  Wednesday          0   \n",
       "1    GA 1992-01-01 00:05:00    January  Wednesday          0   \n",
       "2    GA 1992-01-01 00:10:00    January  Wednesday          0   \n",
       "3    GA 1992-01-01 00:30:00    January  Wednesday          0   \n",
       "4    CA 1992-01-01 01:30:00    January  Wednesday          1   \n",
       "\n",
       "       CONT_DATE_TIME CONT_MONTH   CONT_DOW  CONT_TIME   DT_FIRE  \n",
       "0 1992-01-01 01:14:00    January  Wednesday          1  1.216667  \n",
       "1 1992-01-01 00:40:00    January  Wednesday          0  0.583333  \n",
       "2 1992-01-01 01:15:00    January  Wednesday          1  1.083333  \n",
       "3 1992-01-01 02:20:00    January  Wednesday          2  1.833333  \n",
       "4 1992-01-01 02:10:00    January  Wednesday          2  0.666667  "
      ]
     },
     "execution_count": 5,
     "metadata": {},
     "output_type": "execute_result"
    }
   ],
   "source": [
    "df = pd.read_csv(WF_DATA_PATH)\n",
    "\n",
    "# Convertimos los datos que sean fechas en ese tipo de dato\n",
    "df[\"DISC_DATE_TIME\"] = pd.to_datetime(df[\"DISC_DATE_TIME\"])\n",
    "df[\"CONT_DATE_TIME\"] = pd.to_datetime(df[\"CONT_DATE_TIME\"])\n",
    "\n",
    "print_cantidad(df)\n",
    "\n",
    "df.head()"
   ]
  },
  {
   "cell_type": "markdown",
   "metadata": {},
   "source": [
    "## Preparación de la data"
   ]
  },
  {
   "cell_type": "markdown",
   "metadata": {},
   "source": [
    "### Creación de las tablas para los distintos escenarios"
   ]
  },
  {
   "cell_type": "code",
   "execution_count": 6,
   "metadata": {
    "ExecuteTime": {
     "end_time": "2020-08-13T20:02:48.896825Z",
     "start_time": "2020-08-13T20:02:48.741240Z"
    }
   },
   "outputs": [
    {
     "data": {
      "text/html": [
       "<div>\n",
       "<style scoped>\n",
       "    .dataframe tbody tr th:only-of-type {\n",
       "        vertical-align: middle;\n",
       "    }\n",
       "\n",
       "    .dataframe tbody tr th {\n",
       "        vertical-align: top;\n",
       "    }\n",
       "\n",
       "    .dataframe thead th {\n",
       "        text-align: right;\n",
       "    }\n",
       "</style>\n",
       "<table border=\"1\" class=\"dataframe\">\n",
       "  <thead>\n",
       "    <tr style=\"text-align: right;\">\n",
       "      <th></th>\n",
       "      <th>FIRE_YEAR</th>\n",
       "      <th>STAT_CAUSE_DESCR</th>\n",
       "      <th>FIRE_SIZE</th>\n",
       "      <th>FIRE_SIZE_CLASS</th>\n",
       "      <th>LATITUDE</th>\n",
       "      <th>LONGITUDE</th>\n",
       "      <th>STATE</th>\n",
       "      <th>DISC_DATE_TIME</th>\n",
       "      <th>DISC_MONTH</th>\n",
       "      <th>DISC_DOW</th>\n",
       "      <th>DISC_TIME</th>\n",
       "      <th>CONT_DATE_TIME</th>\n",
       "      <th>CONT_MONTH</th>\n",
       "      <th>CONT_DOW</th>\n",
       "      <th>CONT_TIME</th>\n",
       "      <th>DT_FIRE</th>\n",
       "    </tr>\n",
       "  </thead>\n",
       "  <tbody>\n",
       "    <tr>\n",
       "      <th>0</th>\n",
       "      <td>1992</td>\n",
       "      <td>Miscellaneous</td>\n",
       "      <td>0.36</td>\n",
       "      <td>B</td>\n",
       "      <td>32.4410</td>\n",
       "      <td>-82.7018</td>\n",
       "      <td>GA</td>\n",
       "      <td>1992-01-01 00:01:00</td>\n",
       "      <td>January</td>\n",
       "      <td>Wednesday</td>\n",
       "      <td>0</td>\n",
       "      <td>1992-01-01 01:14:00</td>\n",
       "      <td>January</td>\n",
       "      <td>Wednesday</td>\n",
       "      <td>1</td>\n",
       "      <td>1.216667</td>\n",
       "    </tr>\n",
       "    <tr>\n",
       "      <th>1</th>\n",
       "      <td>1992</td>\n",
       "      <td>Miscellaneous</td>\n",
       "      <td>1.02</td>\n",
       "      <td>B</td>\n",
       "      <td>32.2009</td>\n",
       "      <td>-82.2967</td>\n",
       "      <td>GA</td>\n",
       "      <td>1992-01-01 00:05:00</td>\n",
       "      <td>January</td>\n",
       "      <td>Wednesday</td>\n",
       "      <td>0</td>\n",
       "      <td>1992-01-01 00:40:00</td>\n",
       "      <td>January</td>\n",
       "      <td>Wednesday</td>\n",
       "      <td>0</td>\n",
       "      <td>0.583333</td>\n",
       "    </tr>\n",
       "    <tr>\n",
       "      <th>2</th>\n",
       "      <td>1992</td>\n",
       "      <td>Miscellaneous</td>\n",
       "      <td>0.58</td>\n",
       "      <td>B</td>\n",
       "      <td>32.1325</td>\n",
       "      <td>-82.7610</td>\n",
       "      <td>GA</td>\n",
       "      <td>1992-01-01 00:10:00</td>\n",
       "      <td>January</td>\n",
       "      <td>Wednesday</td>\n",
       "      <td>0</td>\n",
       "      <td>1992-01-01 01:15:00</td>\n",
       "      <td>January</td>\n",
       "      <td>Wednesday</td>\n",
       "      <td>1</td>\n",
       "      <td>1.083333</td>\n",
       "    </tr>\n",
       "    <tr>\n",
       "      <th>3</th>\n",
       "      <td>1992</td>\n",
       "      <td>Children</td>\n",
       "      <td>10.14</td>\n",
       "      <td>C</td>\n",
       "      <td>32.0300</td>\n",
       "      <td>-83.9350</td>\n",
       "      <td>GA</td>\n",
       "      <td>1992-01-01 00:30:00</td>\n",
       "      <td>January</td>\n",
       "      <td>Wednesday</td>\n",
       "      <td>0</td>\n",
       "      <td>1992-01-01 02:20:00</td>\n",
       "      <td>January</td>\n",
       "      <td>Wednesday</td>\n",
       "      <td>2</td>\n",
       "      <td>1.833333</td>\n",
       "    </tr>\n",
       "    <tr>\n",
       "      <th>4</th>\n",
       "      <td>1992</td>\n",
       "      <td>Lightning</td>\n",
       "      <td>0.10</td>\n",
       "      <td>A</td>\n",
       "      <td>38.2050</td>\n",
       "      <td>-120.3350</td>\n",
       "      <td>CA</td>\n",
       "      <td>1992-01-01 01:30:00</td>\n",
       "      <td>January</td>\n",
       "      <td>Wednesday</td>\n",
       "      <td>1</td>\n",
       "      <td>1992-01-01 02:10:00</td>\n",
       "      <td>January</td>\n",
       "      <td>Wednesday</td>\n",
       "      <td>2</td>\n",
       "      <td>0.666667</td>\n",
       "    </tr>\n",
       "  </tbody>\n",
       "</table>\n",
       "</div>"
      ],
      "text/plain": [
       "   FIRE_YEAR STAT_CAUSE_DESCR  FIRE_SIZE FIRE_SIZE_CLASS  LATITUDE  LONGITUDE  \\\n",
       "0       1992    Miscellaneous       0.36               B   32.4410   -82.7018   \n",
       "1       1992    Miscellaneous       1.02               B   32.2009   -82.2967   \n",
       "2       1992    Miscellaneous       0.58               B   32.1325   -82.7610   \n",
       "3       1992         Children      10.14               C   32.0300   -83.9350   \n",
       "4       1992        Lightning       0.10               A   38.2050  -120.3350   \n",
       "\n",
       "  STATE      DISC_DATE_TIME DISC_MONTH   DISC_DOW  DISC_TIME  \\\n",
       "0    GA 1992-01-01 00:01:00    January  Wednesday          0   \n",
       "1    GA 1992-01-01 00:05:00    January  Wednesday          0   \n",
       "2    GA 1992-01-01 00:10:00    January  Wednesday          0   \n",
       "3    GA 1992-01-01 00:30:00    January  Wednesday          0   \n",
       "4    CA 1992-01-01 01:30:00    January  Wednesday          1   \n",
       "\n",
       "       CONT_DATE_TIME CONT_MONTH   CONT_DOW  CONT_TIME   DT_FIRE  \n",
       "0 1992-01-01 01:14:00    January  Wednesday          1  1.216667  \n",
       "1 1992-01-01 00:40:00    January  Wednesday          0  0.583333  \n",
       "2 1992-01-01 01:15:00    January  Wednesday          1  1.083333  \n",
       "3 1992-01-01 02:20:00    January  Wednesday          2  1.833333  \n",
       "4 1992-01-01 02:10:00    January  Wednesday          2  0.666667  "
      ]
     },
     "execution_count": 6,
     "metadata": {},
     "output_type": "execute_result"
    }
   ],
   "source": [
    "# Copia del dataset\n",
    "df_1 = df.copy()\n",
    "df_1.head()"
   ]
  },
  {
   "cell_type": "code",
   "execution_count": 7,
   "metadata": {
    "ExecuteTime": {
     "end_time": "2020-08-13T20:02:49.131226Z",
     "start_time": "2020-08-13T20:02:48.900814Z"
    }
   },
   "outputs": [
    {
     "data": {
      "text/html": [
       "<div>\n",
       "<style scoped>\n",
       "    .dataframe tbody tr th:only-of-type {\n",
       "        vertical-align: middle;\n",
       "    }\n",
       "\n",
       "    .dataframe tbody tr th {\n",
       "        vertical-align: top;\n",
       "    }\n",
       "\n",
       "    .dataframe thead th {\n",
       "        text-align: right;\n",
       "    }\n",
       "</style>\n",
       "<table border=\"1\" class=\"dataframe\">\n",
       "  <thead>\n",
       "    <tr style=\"text-align: right;\">\n",
       "      <th></th>\n",
       "      <th>FIRE_YEAR</th>\n",
       "      <th>STAT_CAUSE_DESCR</th>\n",
       "      <th>FIRE_SIZE</th>\n",
       "      <th>FIRE_SIZE_CLASS</th>\n",
       "      <th>LATITUDE</th>\n",
       "      <th>LONGITUDE</th>\n",
       "      <th>STATE</th>\n",
       "      <th>DISC_DATE_TIME</th>\n",
       "      <th>DISC_MONTH</th>\n",
       "      <th>DISC_DOW</th>\n",
       "      <th>DISC_TIME</th>\n",
       "      <th>CONT_DATE_TIME</th>\n",
       "      <th>CONT_MONTH</th>\n",
       "      <th>CONT_DOW</th>\n",
       "      <th>CONT_TIME</th>\n",
       "      <th>DT_FIRE</th>\n",
       "    </tr>\n",
       "  </thead>\n",
       "  <tbody>\n",
       "    <tr>\n",
       "      <th>0</th>\n",
       "      <td>2011</td>\n",
       "      <td>Miscellaneous</td>\n",
       "      <td>1.00</td>\n",
       "      <td>B</td>\n",
       "      <td>38.198567</td>\n",
       "      <td>-93.002533</td>\n",
       "      <td>MO</td>\n",
       "      <td>2011-01-01 00:01:00</td>\n",
       "      <td>January</td>\n",
       "      <td>Saturday</td>\n",
       "      <td>0</td>\n",
       "      <td>2011-01-31 23:59:00</td>\n",
       "      <td>January</td>\n",
       "      <td>Monday</td>\n",
       "      <td>23</td>\n",
       "      <td>743.966667</td>\n",
       "    </tr>\n",
       "    <tr>\n",
       "      <th>1</th>\n",
       "      <td>2011</td>\n",
       "      <td>Fireworks</td>\n",
       "      <td>0.30</td>\n",
       "      <td>B</td>\n",
       "      <td>28.105500</td>\n",
       "      <td>-82.517700</td>\n",
       "      <td>FL</td>\n",
       "      <td>2011-01-01 00:01:00</td>\n",
       "      <td>January</td>\n",
       "      <td>Saturday</td>\n",
       "      <td>0</td>\n",
       "      <td>2011-01-01 03:35:00</td>\n",
       "      <td>January</td>\n",
       "      <td>Saturday</td>\n",
       "      <td>3</td>\n",
       "      <td>3.566667</td>\n",
       "    </tr>\n",
       "    <tr>\n",
       "      <th>2</th>\n",
       "      <td>2011</td>\n",
       "      <td>Miscellaneous</td>\n",
       "      <td>0.10</td>\n",
       "      <td>A</td>\n",
       "      <td>32.927200</td>\n",
       "      <td>-115.127000</td>\n",
       "      <td>CA</td>\n",
       "      <td>2011-01-01 00:09:00</td>\n",
       "      <td>January</td>\n",
       "      <td>Saturday</td>\n",
       "      <td>0</td>\n",
       "      <td>2011-01-01 00:25:00</td>\n",
       "      <td>January</td>\n",
       "      <td>Saturday</td>\n",
       "      <td>0</td>\n",
       "      <td>0.266667</td>\n",
       "    </tr>\n",
       "    <tr>\n",
       "      <th>3</th>\n",
       "      <td>2011</td>\n",
       "      <td>Children</td>\n",
       "      <td>0.18</td>\n",
       "      <td>A</td>\n",
       "      <td>33.187149</td>\n",
       "      <td>-84.918798</td>\n",
       "      <td>GA</td>\n",
       "      <td>2011-01-01 00:10:00</td>\n",
       "      <td>January</td>\n",
       "      <td>Saturday</td>\n",
       "      <td>0</td>\n",
       "      <td>2011-01-01 01:36:00</td>\n",
       "      <td>January</td>\n",
       "      <td>Saturday</td>\n",
       "      <td>1</td>\n",
       "      <td>1.433333</td>\n",
       "    </tr>\n",
       "    <tr>\n",
       "      <th>4</th>\n",
       "      <td>2011</td>\n",
       "      <td>Arson</td>\n",
       "      <td>5.00</td>\n",
       "      <td>B</td>\n",
       "      <td>33.464155</td>\n",
       "      <td>-85.996639</td>\n",
       "      <td>AL</td>\n",
       "      <td>2011-01-01 00:15:00</td>\n",
       "      <td>January</td>\n",
       "      <td>Saturday</td>\n",
       "      <td>0</td>\n",
       "      <td>2011-01-01 02:50:00</td>\n",
       "      <td>January</td>\n",
       "      <td>Saturday</td>\n",
       "      <td>2</td>\n",
       "      <td>2.583333</td>\n",
       "    </tr>\n",
       "  </tbody>\n",
       "</table>\n",
       "</div>"
      ],
      "text/plain": [
       "   FIRE_YEAR STAT_CAUSE_DESCR  FIRE_SIZE FIRE_SIZE_CLASS   LATITUDE  \\\n",
       "0       2011    Miscellaneous       1.00               B  38.198567   \n",
       "1       2011        Fireworks       0.30               B  28.105500   \n",
       "2       2011    Miscellaneous       0.10               A  32.927200   \n",
       "3       2011         Children       0.18               A  33.187149   \n",
       "4       2011            Arson       5.00               B  33.464155   \n",
       "\n",
       "    LONGITUDE STATE      DISC_DATE_TIME DISC_MONTH  DISC_DOW  DISC_TIME  \\\n",
       "0  -93.002533    MO 2011-01-01 00:01:00    January  Saturday          0   \n",
       "1  -82.517700    FL 2011-01-01 00:01:00    January  Saturday          0   \n",
       "2 -115.127000    CA 2011-01-01 00:09:00    January  Saturday          0   \n",
       "3  -84.918798    GA 2011-01-01 00:10:00    January  Saturday          0   \n",
       "4  -85.996639    AL 2011-01-01 00:15:00    January  Saturday          0   \n",
       "\n",
       "       CONT_DATE_TIME CONT_MONTH  CONT_DOW  CONT_TIME     DT_FIRE  \n",
       "0 2011-01-31 23:59:00    January    Monday         23  743.966667  \n",
       "1 2011-01-01 03:35:00    January  Saturday          3    3.566667  \n",
       "2 2011-01-01 00:25:00    January  Saturday          0    0.266667  \n",
       "3 2011-01-01 01:36:00    January  Saturday          1    1.433333  \n",
       "4 2011-01-01 02:50:00    January  Saturday          2    2.583333  "
      ]
     },
     "execution_count": 7,
     "metadata": {},
     "output_type": "execute_result"
    }
   ],
   "source": [
    "df_2 = df.copy()\n",
    "df_2 = df_2[ df_2[\"FIRE_YEAR\"] >= 2011 ]\n",
    "df_2.reset_index(drop=True, inplace=True)\n",
    "df_2.head()"
   ]
  },
  {
   "cell_type": "code",
   "execution_count": 8,
   "metadata": {
    "ExecuteTime": {
     "end_time": "2020-08-13T20:02:49.145716Z",
     "start_time": "2020-08-13T20:02:49.137212Z"
    },
    "code_folding": [
     0
    ]
   },
   "outputs": [],
   "source": [
    "def new_category(cause):\n",
    "    \"\"\"Re-categoriza las causas que se tenían originalmente.\n",
    "    \"\"\"\n",
    "    d_causes = {\n",
    "        \"Other\": ['Miscellaneous',\n",
    "                  'Missing/Undefined'],\n",
    "        \"Human\": ['Children',\n",
    "                  'Smoking',\n",
    "                  'Equipment Use',\n",
    "                  'Debris Burning',\n",
    "                  'Campfire',\n",
    "                  'Campfire',\n",
    "                  'Railroad',\n",
    "                  'Powerline',\n",
    "                  'Fireworks',\n",
    "                  'Structure'],\n",
    "        \"Natural\": ['Lightning'],\n",
    "        \"Malicious\": ['Arson']\n",
    "    }\n",
    "\n",
    "    for new_cause in d_causes:\n",
    "        if cause in d_causes[new_cause]:\n",
    "            return new_cause\n",
    "    return None"
   ]
  },
  {
   "cell_type": "code",
   "execution_count": 9,
   "metadata": {
    "ExecuteTime": {
     "end_time": "2020-08-13T20:02:49.423966Z",
     "start_time": "2020-08-13T20:02:49.150696Z"
    }
   },
   "outputs": [
    {
     "data": {
      "text/html": [
       "<div>\n",
       "<style scoped>\n",
       "    .dataframe tbody tr th:only-of-type {\n",
       "        vertical-align: middle;\n",
       "    }\n",
       "\n",
       "    .dataframe tbody tr th {\n",
       "        vertical-align: top;\n",
       "    }\n",
       "\n",
       "    .dataframe thead th {\n",
       "        text-align: right;\n",
       "    }\n",
       "</style>\n",
       "<table border=\"1\" class=\"dataframe\">\n",
       "  <thead>\n",
       "    <tr style=\"text-align: right;\">\n",
       "      <th></th>\n",
       "      <th>FIRE_YEAR</th>\n",
       "      <th>STAT_CAUSE_DESCR</th>\n",
       "      <th>FIRE_SIZE</th>\n",
       "      <th>FIRE_SIZE_CLASS</th>\n",
       "      <th>LATITUDE</th>\n",
       "      <th>LONGITUDE</th>\n",
       "      <th>STATE</th>\n",
       "      <th>DISC_DATE_TIME</th>\n",
       "      <th>DISC_MONTH</th>\n",
       "      <th>DISC_DOW</th>\n",
       "      <th>DISC_TIME</th>\n",
       "      <th>CONT_DATE_TIME</th>\n",
       "      <th>CONT_MONTH</th>\n",
       "      <th>CONT_DOW</th>\n",
       "      <th>CONT_TIME</th>\n",
       "      <th>DT_FIRE</th>\n",
       "    </tr>\n",
       "  </thead>\n",
       "  <tbody>\n",
       "    <tr>\n",
       "      <th>0</th>\n",
       "      <td>2011</td>\n",
       "      <td>Other</td>\n",
       "      <td>1.00</td>\n",
       "      <td>B</td>\n",
       "      <td>38.198567</td>\n",
       "      <td>-93.002533</td>\n",
       "      <td>MO</td>\n",
       "      <td>2011-01-01 00:01:00</td>\n",
       "      <td>January</td>\n",
       "      <td>Saturday</td>\n",
       "      <td>0</td>\n",
       "      <td>2011-01-31 23:59:00</td>\n",
       "      <td>January</td>\n",
       "      <td>Monday</td>\n",
       "      <td>23</td>\n",
       "      <td>743.966667</td>\n",
       "    </tr>\n",
       "    <tr>\n",
       "      <th>1</th>\n",
       "      <td>2011</td>\n",
       "      <td>Human</td>\n",
       "      <td>0.30</td>\n",
       "      <td>B</td>\n",
       "      <td>28.105500</td>\n",
       "      <td>-82.517700</td>\n",
       "      <td>FL</td>\n",
       "      <td>2011-01-01 00:01:00</td>\n",
       "      <td>January</td>\n",
       "      <td>Saturday</td>\n",
       "      <td>0</td>\n",
       "      <td>2011-01-01 03:35:00</td>\n",
       "      <td>January</td>\n",
       "      <td>Saturday</td>\n",
       "      <td>3</td>\n",
       "      <td>3.566667</td>\n",
       "    </tr>\n",
       "    <tr>\n",
       "      <th>2</th>\n",
       "      <td>2011</td>\n",
       "      <td>Other</td>\n",
       "      <td>0.10</td>\n",
       "      <td>A</td>\n",
       "      <td>32.927200</td>\n",
       "      <td>-115.127000</td>\n",
       "      <td>CA</td>\n",
       "      <td>2011-01-01 00:09:00</td>\n",
       "      <td>January</td>\n",
       "      <td>Saturday</td>\n",
       "      <td>0</td>\n",
       "      <td>2011-01-01 00:25:00</td>\n",
       "      <td>January</td>\n",
       "      <td>Saturday</td>\n",
       "      <td>0</td>\n",
       "      <td>0.266667</td>\n",
       "    </tr>\n",
       "    <tr>\n",
       "      <th>3</th>\n",
       "      <td>2011</td>\n",
       "      <td>Human</td>\n",
       "      <td>0.18</td>\n",
       "      <td>A</td>\n",
       "      <td>33.187149</td>\n",
       "      <td>-84.918798</td>\n",
       "      <td>GA</td>\n",
       "      <td>2011-01-01 00:10:00</td>\n",
       "      <td>January</td>\n",
       "      <td>Saturday</td>\n",
       "      <td>0</td>\n",
       "      <td>2011-01-01 01:36:00</td>\n",
       "      <td>January</td>\n",
       "      <td>Saturday</td>\n",
       "      <td>1</td>\n",
       "      <td>1.433333</td>\n",
       "    </tr>\n",
       "    <tr>\n",
       "      <th>4</th>\n",
       "      <td>2011</td>\n",
       "      <td>Malicious</td>\n",
       "      <td>5.00</td>\n",
       "      <td>B</td>\n",
       "      <td>33.464155</td>\n",
       "      <td>-85.996639</td>\n",
       "      <td>AL</td>\n",
       "      <td>2011-01-01 00:15:00</td>\n",
       "      <td>January</td>\n",
       "      <td>Saturday</td>\n",
       "      <td>0</td>\n",
       "      <td>2011-01-01 02:50:00</td>\n",
       "      <td>January</td>\n",
       "      <td>Saturday</td>\n",
       "      <td>2</td>\n",
       "      <td>2.583333</td>\n",
       "    </tr>\n",
       "  </tbody>\n",
       "</table>\n",
       "</div>"
      ],
      "text/plain": [
       "   FIRE_YEAR STAT_CAUSE_DESCR  FIRE_SIZE FIRE_SIZE_CLASS   LATITUDE  \\\n",
       "0       2011            Other       1.00               B  38.198567   \n",
       "1       2011            Human       0.30               B  28.105500   \n",
       "2       2011            Other       0.10               A  32.927200   \n",
       "3       2011            Human       0.18               A  33.187149   \n",
       "4       2011        Malicious       5.00               B  33.464155   \n",
       "\n",
       "    LONGITUDE STATE      DISC_DATE_TIME DISC_MONTH  DISC_DOW  DISC_TIME  \\\n",
       "0  -93.002533    MO 2011-01-01 00:01:00    January  Saturday          0   \n",
       "1  -82.517700    FL 2011-01-01 00:01:00    January  Saturday          0   \n",
       "2 -115.127000    CA 2011-01-01 00:09:00    January  Saturday          0   \n",
       "3  -84.918798    GA 2011-01-01 00:10:00    January  Saturday          0   \n",
       "4  -85.996639    AL 2011-01-01 00:15:00    January  Saturday          0   \n",
       "\n",
       "       CONT_DATE_TIME CONT_MONTH  CONT_DOW  CONT_TIME     DT_FIRE  \n",
       "0 2011-01-31 23:59:00    January    Monday         23  743.966667  \n",
       "1 2011-01-01 03:35:00    January  Saturday          3    3.566667  \n",
       "2 2011-01-01 00:25:00    January  Saturday          0    0.266667  \n",
       "3 2011-01-01 01:36:00    January  Saturday          1    1.433333  \n",
       "4 2011-01-01 02:50:00    January  Saturday          2    2.583333  "
      ]
     },
     "execution_count": 9,
     "metadata": {},
     "output_type": "execute_result"
    }
   ],
   "source": [
    "df_3 = df_2.copy()\n",
    "df_3[\"STAT_CAUSE_DESCR\"] = df_3.STAT_CAUSE_DESCR.map(new_category)\n",
    "df_3.head()"
   ]
  },
  {
   "cell_type": "markdown",
   "metadata": {},
   "source": [
    "### Convertir variables categóricas a númericas"
   ]
  },
  {
   "cell_type": "code",
   "execution_count": 10,
   "metadata": {
    "ExecuteTime": {
     "end_time": "2020-08-13T20:02:49.483840Z",
     "start_time": "2020-08-13T20:02:49.425962Z"
    }
   },
   "outputs": [
    {
     "data": {
      "text/plain": [
       "['Miscellaneous',\n",
       " 'Children',\n",
       " 'Lightning',\n",
       " 'Smoking',\n",
       " 'Arson',\n",
       " 'Equipment Use',\n",
       " 'Debris Burning',\n",
       " 'Campfire',\n",
       " 'Railroad',\n",
       " 'Missing/Undefined',\n",
       " 'Powerline',\n",
       " 'Fireworks',\n",
       " 'Structure']"
      ]
     },
     "execution_count": 10,
     "metadata": {},
     "output_type": "execute_result"
    }
   ],
   "source": [
    "causas = df[\"STAT_CAUSE_DESCR\"].unique().tolist()\n",
    "causas"
   ]
  },
  {
   "cell_type": "code",
   "execution_count": 11,
   "metadata": {
    "ExecuteTime": {
     "end_time": "2020-08-13T20:02:49.489823Z",
     "start_time": "2020-08-13T20:02:49.484803Z"
    }
   },
   "outputs": [],
   "source": [
    "# Columnas que no se ocuparán\n",
    "drop_list = [\"DISC_DATE_TIME\",\n",
    "             \"CONT_DATE_TIME\",\n",
    "             \"FIRE_SIZE_CLASS\", \n",
    "             \"FIRE_YEAR\", \n",
    "             \"CONT_MONTH\",\n",
    "             \"CONT_DOW\"\n",
    "            ]"
   ]
  },
  {
   "cell_type": "code",
   "execution_count": 12,
   "metadata": {
    "ExecuteTime": {
     "end_time": "2020-08-13T20:02:50.528145Z",
     "start_time": "2020-08-13T20:02:49.491785Z"
    }
   },
   "outputs": [
    {
     "data": {
      "text/html": [
       "<div>\n",
       "<style scoped>\n",
       "    .dataframe tbody tr th:only-of-type {\n",
       "        vertical-align: middle;\n",
       "    }\n",
       "\n",
       "    .dataframe tbody tr th {\n",
       "        vertical-align: top;\n",
       "    }\n",
       "\n",
       "    .dataframe thead th {\n",
       "        text-align: right;\n",
       "    }\n",
       "</style>\n",
       "<table border=\"1\" class=\"dataframe\">\n",
       "  <thead>\n",
       "    <tr style=\"text-align: right;\">\n",
       "      <th></th>\n",
       "      <th>STAT_CAUSE_DESCR</th>\n",
       "      <th>FIRE_SIZE</th>\n",
       "      <th>LATITUDE</th>\n",
       "      <th>LONGITUDE</th>\n",
       "      <th>STATE</th>\n",
       "      <th>DISC_MONTH</th>\n",
       "      <th>DISC_DOW</th>\n",
       "      <th>DISC_TIME</th>\n",
       "      <th>CONT_TIME</th>\n",
       "      <th>DT_FIRE</th>\n",
       "    </tr>\n",
       "  </thead>\n",
       "  <tbody>\n",
       "    <tr>\n",
       "      <th>0</th>\n",
       "      <td>Miscellaneous</td>\n",
       "      <td>0.36</td>\n",
       "      <td>32.4410</td>\n",
       "      <td>-82.7018</td>\n",
       "      <td>GA</td>\n",
       "      <td>January</td>\n",
       "      <td>Wednesday</td>\n",
       "      <td>0</td>\n",
       "      <td>1</td>\n",
       "      <td>1.216667</td>\n",
       "    </tr>\n",
       "    <tr>\n",
       "      <th>1</th>\n",
       "      <td>Miscellaneous</td>\n",
       "      <td>1.02</td>\n",
       "      <td>32.2009</td>\n",
       "      <td>-82.2967</td>\n",
       "      <td>GA</td>\n",
       "      <td>January</td>\n",
       "      <td>Wednesday</td>\n",
       "      <td>0</td>\n",
       "      <td>0</td>\n",
       "      <td>0.583333</td>\n",
       "    </tr>\n",
       "    <tr>\n",
       "      <th>2</th>\n",
       "      <td>Miscellaneous</td>\n",
       "      <td>0.58</td>\n",
       "      <td>32.1325</td>\n",
       "      <td>-82.7610</td>\n",
       "      <td>GA</td>\n",
       "      <td>January</td>\n",
       "      <td>Wednesday</td>\n",
       "      <td>0</td>\n",
       "      <td>1</td>\n",
       "      <td>1.083333</td>\n",
       "    </tr>\n",
       "    <tr>\n",
       "      <th>3</th>\n",
       "      <td>Children</td>\n",
       "      <td>10.14</td>\n",
       "      <td>32.0300</td>\n",
       "      <td>-83.9350</td>\n",
       "      <td>GA</td>\n",
       "      <td>January</td>\n",
       "      <td>Wednesday</td>\n",
       "      <td>0</td>\n",
       "      <td>2</td>\n",
       "      <td>1.833333</td>\n",
       "    </tr>\n",
       "    <tr>\n",
       "      <th>4</th>\n",
       "      <td>Lightning</td>\n",
       "      <td>0.10</td>\n",
       "      <td>38.2050</td>\n",
       "      <td>-120.3350</td>\n",
       "      <td>CA</td>\n",
       "      <td>January</td>\n",
       "      <td>Wednesday</td>\n",
       "      <td>1</td>\n",
       "      <td>2</td>\n",
       "      <td>0.666667</td>\n",
       "    </tr>\n",
       "  </tbody>\n",
       "</table>\n",
       "</div>"
      ],
      "text/plain": [
       "  STAT_CAUSE_DESCR  FIRE_SIZE  LATITUDE  LONGITUDE STATE DISC_MONTH  \\\n",
       "0    Miscellaneous       0.36   32.4410   -82.7018    GA    January   \n",
       "1    Miscellaneous       1.02   32.2009   -82.2967    GA    January   \n",
       "2    Miscellaneous       0.58   32.1325   -82.7610    GA    January   \n",
       "3         Children      10.14   32.0300   -83.9350    GA    January   \n",
       "4        Lightning       0.10   38.2050  -120.3350    CA    January   \n",
       "\n",
       "    DISC_DOW  DISC_TIME  CONT_TIME   DT_FIRE  \n",
       "0  Wednesday          0          1  1.216667  \n",
       "1  Wednesday          0          0  0.583333  \n",
       "2  Wednesday          0          1  1.083333  \n",
       "3  Wednesday          0          2  1.833333  \n",
       "4  Wednesday          1          2  0.666667  "
      ]
     },
     "execution_count": 12,
     "metadata": {},
     "output_type": "execute_result"
    }
   ],
   "source": [
    "# Eliminamos las columnas que no se ocuparán\n",
    "for to_drop in drop_list:\n",
    "    df_1 = df_1.drop(to_drop, axis=1)\n",
    "    df_2 = df_2.drop(to_drop, axis=1)\n",
    "    df_3 = df_3.drop(to_drop, axis=1)\n",
    "df_1.head()"
   ]
  },
  {
   "cell_type": "code",
   "execution_count": 13,
   "metadata": {
    "ExecuteTime": {
     "end_time": "2020-08-13T20:02:50.534146Z",
     "start_time": "2020-08-13T20:02:50.530109Z"
    }
   },
   "outputs": [],
   "source": [
    "cols = [\n",
    "    \"STATE\", \n",
    "    \"DISC_MONTH\",\n",
    "    \"DISC_DOW\",\n",
    "    \"STAT_CAUSE_DESCR\",\n",
    "]"
   ]
  },
  {
   "cell_type": "code",
   "execution_count": 14,
   "metadata": {
    "ExecuteTime": {
     "end_time": "2020-08-13T20:02:50.558032Z",
     "start_time": "2020-08-13T20:02:50.541078Z"
    }
   },
   "outputs": [],
   "source": [
    "le_list = [preprocessing.LabelEncoder() for _ in range(3)]\n",
    "df_list = [df_1, df_2, df_3]"
   ]
  },
  {
   "cell_type": "code",
   "execution_count": 15,
   "metadata": {
    "ExecuteTime": {
     "end_time": "2020-08-13T20:02:51.917271Z",
     "start_time": "2020-08-13T20:02:50.561055Z"
    }
   },
   "outputs": [
    {
     "data": {
      "text/html": [
       "<div>\n",
       "<style scoped>\n",
       "    .dataframe tbody tr th:only-of-type {\n",
       "        vertical-align: middle;\n",
       "    }\n",
       "\n",
       "    .dataframe tbody tr th {\n",
       "        vertical-align: top;\n",
       "    }\n",
       "\n",
       "    .dataframe thead th {\n",
       "        text-align: right;\n",
       "    }\n",
       "</style>\n",
       "<table border=\"1\" class=\"dataframe\">\n",
       "  <thead>\n",
       "    <tr style=\"text-align: right;\">\n",
       "      <th></th>\n",
       "      <th>STAT_CAUSE_DESCR</th>\n",
       "      <th>FIRE_SIZE</th>\n",
       "      <th>LATITUDE</th>\n",
       "      <th>LONGITUDE</th>\n",
       "      <th>STATE</th>\n",
       "      <th>DISC_MONTH</th>\n",
       "      <th>DISC_DOW</th>\n",
       "      <th>DISC_TIME</th>\n",
       "      <th>CONT_TIME</th>\n",
       "      <th>DT_FIRE</th>\n",
       "    </tr>\n",
       "  </thead>\n",
       "  <tbody>\n",
       "    <tr>\n",
       "      <th>0</th>\n",
       "      <td>3</td>\n",
       "      <td>1.00</td>\n",
       "      <td>38.198567</td>\n",
       "      <td>-93.002533</td>\n",
       "      <td>24</td>\n",
       "      <td>4</td>\n",
       "      <td>2</td>\n",
       "      <td>0</td>\n",
       "      <td>23</td>\n",
       "      <td>743.966667</td>\n",
       "    </tr>\n",
       "    <tr>\n",
       "      <th>1</th>\n",
       "      <td>0</td>\n",
       "      <td>0.30</td>\n",
       "      <td>28.105500</td>\n",
       "      <td>-82.517700</td>\n",
       "      <td>9</td>\n",
       "      <td>4</td>\n",
       "      <td>2</td>\n",
       "      <td>0</td>\n",
       "      <td>3</td>\n",
       "      <td>3.566667</td>\n",
       "    </tr>\n",
       "    <tr>\n",
       "      <th>2</th>\n",
       "      <td>3</td>\n",
       "      <td>0.10</td>\n",
       "      <td>32.927200</td>\n",
       "      <td>-115.127000</td>\n",
       "      <td>4</td>\n",
       "      <td>4</td>\n",
       "      <td>2</td>\n",
       "      <td>0</td>\n",
       "      <td>0</td>\n",
       "      <td>0.266667</td>\n",
       "    </tr>\n",
       "    <tr>\n",
       "      <th>3</th>\n",
       "      <td>0</td>\n",
       "      <td>0.18</td>\n",
       "      <td>33.187149</td>\n",
       "      <td>-84.918798</td>\n",
       "      <td>10</td>\n",
       "      <td>4</td>\n",
       "      <td>2</td>\n",
       "      <td>0</td>\n",
       "      <td>1</td>\n",
       "      <td>1.433333</td>\n",
       "    </tr>\n",
       "    <tr>\n",
       "      <th>4</th>\n",
       "      <td>1</td>\n",
       "      <td>5.00</td>\n",
       "      <td>33.464155</td>\n",
       "      <td>-85.996639</td>\n",
       "      <td>1</td>\n",
       "      <td>4</td>\n",
       "      <td>2</td>\n",
       "      <td>0</td>\n",
       "      <td>2</td>\n",
       "      <td>2.583333</td>\n",
       "    </tr>\n",
       "  </tbody>\n",
       "</table>\n",
       "</div>"
      ],
      "text/plain": [
       "   STAT_CAUSE_DESCR  FIRE_SIZE   LATITUDE   LONGITUDE  STATE  DISC_MONTH  \\\n",
       "0                 3       1.00  38.198567  -93.002533     24           4   \n",
       "1                 0       0.30  28.105500  -82.517700      9           4   \n",
       "2                 3       0.10  32.927200 -115.127000      4           4   \n",
       "3                 0       0.18  33.187149  -84.918798     10           4   \n",
       "4                 1       5.00  33.464155  -85.996639      1           4   \n",
       "\n",
       "   DISC_DOW  DISC_TIME  CONT_TIME     DT_FIRE  \n",
       "0         2          0         23  743.966667  \n",
       "1         2          0          3    3.566667  \n",
       "2         2          0          0    0.266667  \n",
       "3         2          0          1    1.433333  \n",
       "4         2          0          2    2.583333  "
      ]
     },
     "execution_count": 15,
     "metadata": {},
     "output_type": "execute_result"
    }
   ],
   "source": [
    "for col in cols:\n",
    "    for i in range(3):\n",
    "        df_ = df_list[i]\n",
    "        le_ = le_list[i]\n",
    "        df_[col] = le_.fit_transform(df_[col])\n",
    "#     df_[col] = le.fit_transform(df_[col])\n",
    "    \n",
    "df_.head()"
   ]
  },
  {
   "cell_type": "markdown",
   "metadata": {},
   "source": [
    "## Creación de funciones auxiliares para los modelos"
   ]
  },
  {
   "cell_type": "code",
   "execution_count": 16,
   "metadata": {
    "ExecuteTime": {
     "end_time": "2020-08-13T20:02:51.935289Z",
     "start_time": "2020-08-13T20:02:51.919303Z"
    },
    "code_folding": [
     0
    ]
   },
   "outputs": [],
   "source": [
    "def save_classification_report(y_true, y_pred,\n",
    "                               target_names=None,\n",
    "                               buf=None, label=None, caption=None,\n",
    "                               support=True, verbose=False, escenario_name=None,):\n",
    "    \"\"\"Salva el reporte en formato LaTeX.\n",
    "    \"\"\"\n",
    "    # Importaciones básicas\n",
    "    from sklearn.metrics import classification_report\n",
    "    import pandas as pd\n",
    "    from numpy import nan as NA\n",
    "    from os import path\n",
    "    \n",
    "    label = label if label is None else f\"tab:{label}\"\n",
    "    \n",
    "    if verbose: print(\"Creando Reporte...\")\n",
    "    # Guardamos el reporte de clasificación en formato de diccionario\n",
    "    d = classification_report(y_true, y_pred,\n",
    "                              target_names=target_names,\n",
    "                              output_dict=True)\n",
    "    \n",
    "    # Creamos una función que pasa el reporte a DataFrame\n",
    "    def dicc2df(d):\n",
    "        d = d.copy()\n",
    "        d['accuracy'] = {'precision': NA,\n",
    "                         'recall': NA,\n",
    "                         'f1-score': d['accuracy'],\n",
    "                         'support': d['weighted avg']['support']}\n",
    "        df = pd.DataFrame(d)\n",
    "        df = df.T\n",
    "        df[\"support\"] = df[\"support\"].astype('int32')\n",
    "        return df\n",
    "    \n",
    "    df = dicc2df(d)\n",
    "    \n",
    "    # Si no se quiere que se entregue el soporte\n",
    "    if not support: df.pop(\"support\")\n",
    "    if verbose: print(\"Reporte Creado!\")\n",
    "    \n",
    "    if verbose: print(\"Creando LaTeX...\")\n",
    "    # Guardamos el dataframe\n",
    "    df_latex = df.to_latex(buf=buf,\n",
    "                           na_rep=\"\",\n",
    "                           float_format=\"%.3f\",\n",
    "                           caption=caption,\n",
    "                           label=label,)\n",
    "    if verbose: print(\"LaTeX creado!\")\n",
    "    \n",
    "    if df_latex is not None and verbose:\n",
    "        print(\"El reporte en latex es el siguiente:\\n\")\n",
    "        print(df_latex)\n",
    "    \n",
    "    return df"
   ]
  },
  {
   "cell_type": "markdown",
   "metadata": {},
   "source": [
    "Se crearan distintas funciones para predecir"
   ]
  },
  {
   "cell_type": "markdown",
   "metadata": {},
   "source": [
    "### Modelo Naïve Bayes"
   ]
  },
  {
   "cell_type": "code",
   "execution_count": 17,
   "metadata": {
    "ExecuteTime": {
     "end_time": "2020-08-13T20:02:51.954266Z",
     "start_time": "2020-08-13T20:02:51.938276Z"
    },
    "code_folding": []
   },
   "outputs": [],
   "source": [
    "def modelo_naive_bayes(X_tr, y_tr, X_te, y_te,\n",
    "                       verbose=MOSTRAR_INFO, target_names=None,\n",
    "                       escenario_name=None,\n",
    "                      ):\n",
    "    \"\"\"Genera el modelo de Naïve Bayes e imprime el resumen de clasificación\n",
    "    \"\"\"\n",
    "    from sklearn.naive_bayes import GaussianNB\n",
    "    \n",
    "    if verbose: print(\"Creando modelo...\")\n",
    "    model = GaussianNB()\n",
    "    \n",
    "    if verbose: print(\"Ajustando modelo...\")\n",
    "    model.fit(X_tr, y_tr)\n",
    "    \n",
    "    if verbose: print(\"Prediciendo...\")\n",
    "    y_pred = model.predict(X_te)\n",
    "    \n",
    "    if verbose: print(classification_report(y_te, y_pred, target_names=target_names))\n",
    "    score = model.score(X_te, y_te)\n",
    "    \n",
    "    save_classification_report(y_te, y_pred,\n",
    "                               support=False, verbose=verbose,\n",
    "                               buf=path.join(TAB_PATH, \n",
    "                                             f\"NB_{escenario_name}.tex\"),\n",
    "                               caption=(\"Reporte de clasificación\"\n",
    "                                      f\" para el {escenario_name}\"\n",
    "                                      \" utilizando Naïve Bayes\"),\n",
    "                               label=f\"NB_{escenario_name}\",\n",
    "                               target_names=target_names\n",
    "                              )\n",
    "    \n",
    "    return score"
   ]
  },
  {
   "cell_type": "markdown",
   "metadata": {},
   "source": [
    "### Modelo K-NN"
   ]
  },
  {
   "cell_type": "markdown",
   "metadata": {},
   "source": [
    "Se utiliza una función auxiliar para encontrar el $k$ óptimo. Si el $k$ óptimo ya se encontró, devuelve ese valor."
   ]
  },
  {
   "cell_type": "code",
   "execution_count": 18,
   "metadata": {
    "ExecuteTime": {
     "end_time": "2020-08-13T20:02:51.968196Z",
     "start_time": "2020-08-13T20:02:51.956264Z"
    },
    "code_folding": [
     2
    ]
   },
   "outputs": [],
   "source": [
    "k_predicho, k_optimo = True, 40\n",
    "\n",
    "def buscar_k(X_tr, y_tr, X_te, y_te,\n",
    "             k_range=None, k_min=1, k_max=20, gap=1, \n",
    "             verbose=MOSTRAR_INFO):\n",
    "    \"\"\"Función utiliazada para determinar el k óptimo.\n",
    "    \"\"\"\n",
    "    from sklearn.neighbors import KNeighborsClassifier\n",
    "    from sklearn.preprocessing import MinMaxScaler\n",
    "    \n",
    "    global k_predicho\n",
    "    global k_optimo\n",
    "    \n",
    "    # Si ya había un k óptimo, retorna el valor de k\n",
    "    if k_predicho:\n",
    "        if verbose: print(f\"El k óptimo es:{k_optimo}\")\n",
    "        return k_optimo\n",
    "    \n",
    "    if verbose: print(\"Normalizando...\")\n",
    "    # Escalamos\n",
    "    scaler = MinMaxScaler()\n",
    "    X_tr_scaled = (scaler.fit_transform(X_tr))\n",
    "    X_te_scaled = (scaler.transform(X_te))\n",
    "    \n",
    "    if verbose: print(\"Buscando k óptimo...\")\n",
    "    # Vemos los distintos valores de k\n",
    "    k_range = range(k_min, k_max+1, gap) if not k_range else k_range\n",
    "    k_range = list(k_range)\n",
    "    scores = dict()\n",
    "    for k in k_range:\n",
    "        if verbose: print(f\"Entrenando con k={k}\")\n",
    "        knn = KNeighborsClassifier(n_neighbors=k)\n",
    "        knn.fit(X_tr_scaled, y_tr)\n",
    "        score = knn.score(X_te_scaled, y_te)\n",
    "        scores[k] = score\n",
    "#         if i > 0 and scores[k_range[i-1]] < scores[k_range[i]]:\n",
    "#             break\n",
    "        if verbose: print(f\"Score para k={k}:{score}\\n\" + \"=\"*40)\n",
    "    \n",
    "    k_optimo = max(k_range, key=lambda x: scores[x])\n",
    "    k_predicho = True\n",
    "    \n",
    "    if verbose: print(f\"El k óptimo es:{k_optimo}\")\n",
    "    \n",
    "    return k_optimo"
   ]
  },
  {
   "cell_type": "code",
   "execution_count": 19,
   "metadata": {
    "ExecuteTime": {
     "end_time": "2020-08-13T20:02:51.983189Z",
     "start_time": "2020-08-13T20:02:51.971229Z"
    },
    "code_folding": []
   },
   "outputs": [],
   "source": [
    "def modelo_knn(X_tr, y_tr, X_te, y_te, \n",
    "               verbose=MOSTRAR_INFO, target_names=None,\n",
    "               normalizar=True, buscar_k_optimo=not k_predicho, escenario_name=None,):\n",
    "    \"\"\"Genera el modelo de Naïve Bayes e imprime el resumen de clasificación.\n",
    "    \"\"\"\n",
    "    from sklearn.neighbors import KNeighborsClassifier\n",
    "    from sklearn.preprocessing import MinMaxScaler\n",
    "    \n",
    "    global k_predicho\n",
    "    global k_optimo\n",
    "    \n",
    "    if verbose and buscar_k_optimo: print(\"Buscando k óptimo...\")\n",
    "    if buscar_k_optimo:\n",
    "        k_predicho = False\n",
    "        k_optimo = None\n",
    "    k = buscar_k(X_tr, y_tr, X_te, y_te, verbose=False)\n",
    "    \n",
    "    if verbose and normalizar: print(\"Normalizando datos...\")\n",
    "    scaler = MinMaxScaler()\n",
    "    X_tr = (scaler.fit_transform(X_tr)) if normalizar else X_tr\n",
    "    X_te = (scaler.transform(X_te)) if normalizar else X_te\n",
    "    \n",
    "    if verbose: print(\"Creando modelo...\")\n",
    "    model = KNeighborsClassifier(n_neighbors=k)\n",
    "    \n",
    "    if verbose: print(\"Ajustando modelo...\")\n",
    "    model.fit(X_tr, y_tr)\n",
    "    \n",
    "    if verbose: print(\"Prediciendo...\")\n",
    "    y_pred = model.predict(X_te)\n",
    "    \n",
    "    if verbose: print(classification_report(y_te, y_pred, target_names=target_names))\n",
    "    score = model.score(X_te, y_te)\n",
    "    \n",
    "    save_classification_report(y_te, y_pred,\n",
    "                               support=False, verbose=verbose,\n",
    "                               buf=path.join(TAB_PATH, \n",
    "                                             f\"KNN_{escenario_name}.tex\"),\n",
    "                               caption=(\"Reporte de clasificación\"\n",
    "                                      f\" para el {escenario_name}\"\n",
    "                                      \" utilizando KNN\"),\n",
    "                               label=f\"KNN_{escenario_name}\",\n",
    "                               target_names=target_names\n",
    "                              )\n",
    "    \n",
    "    return score"
   ]
  },
  {
   "cell_type": "markdown",
   "metadata": {},
   "source": [
    "### Modelo de Discriminante Lineal"
   ]
  },
  {
   "cell_type": "code",
   "execution_count": 20,
   "metadata": {
    "ExecuteTime": {
     "end_time": "2020-08-13T20:02:51.995146Z",
     "start_time": "2020-08-13T20:02:51.985151Z"
    },
    "code_folding": []
   },
   "outputs": [],
   "source": [
    "def modelo_discr_lineal(X_tr, y_tr, X_te, y_te,\n",
    "                        verbose=MOSTRAR_INFO, target_names=None, escenario_name=None,):\n",
    "    \"\"\"Genera el modelo de Discriminante Lineal e imprime el resumen de clasificación\n",
    "    \"\"\"\n",
    "    from sklearn.discriminant_analysis import LinearDiscriminantAnalysis\n",
    "    \n",
    "    if verbose: print(\"Creando modelo...\")\n",
    "    model = LinearDiscriminantAnalysis()\n",
    "    \n",
    "    if verbose: print(\"Ajustando modelo...\")\n",
    "    model.fit(X_tr, y_tr)\n",
    "    \n",
    "    if verbose: print(\"Prediciendo...\")\n",
    "    y_pred = model.predict(X_te)\n",
    "    \n",
    "    if verbose: print(classification_report(y_te, y_pred, target_names=target_names))\n",
    "    score = model.score(X_te, y_te)\n",
    "    \n",
    "    save_classification_report(y_te, y_pred,\n",
    "                               support=False, verbose=verbose,\n",
    "                               buf=path.join(TAB_PATH, \n",
    "                                             f\"DL_{escenario_name}.tex\"),\n",
    "                               caption=(\"Reporte de clasificación\"\n",
    "                                      f\" para el {escenario_name}\"\n",
    "                                      \" utilizando Discriminante Lineal\"),\n",
    "                               label=f\"DL_{escenario_name}\",\n",
    "                               target_names=target_names\n",
    "                              )\n",
    "    \n",
    "    return score"
   ]
  },
  {
   "cell_type": "markdown",
   "metadata": {},
   "source": [
    "### Modelo de Discriminante Cuadrático"
   ]
  },
  {
   "cell_type": "code",
   "execution_count": 21,
   "metadata": {
    "ExecuteTime": {
     "end_time": "2020-08-13T20:02:52.005868Z",
     "start_time": "2020-08-13T20:02:51.996128Z"
    },
    "code_folding": []
   },
   "outputs": [],
   "source": [
    "def modelo_discr_cuadr(X_tr, y_tr, X_te, y_te,\n",
    "                       verbose=MOSTRAR_INFO, target_names=None, escenario_name=None,):\n",
    "    \"\"\"Genera el modelo de Discriminante Cuadrático e imprime el resumen de clasificación\n",
    "    \"\"\"\n",
    "    from sklearn.discriminant_analysis import QuadraticDiscriminantAnalysis\n",
    "    \n",
    "    if verbose: print(\"Creando modelo...\")\n",
    "    model = QuadraticDiscriminantAnalysis()\n",
    "    \n",
    "    if verbose: print(\"Ajustando modelo...\")\n",
    "    model.fit(X_tr, y_tr)\n",
    "    \n",
    "    if verbose: print(\"Prediciendo...\")\n",
    "    y_pred = model.predict(X_te)\n",
    "    \n",
    "    if verbose: print(classification_report(y_te, y_pred, target_names=target_names))\n",
    "    score = model.score(X_te, y_te)\n",
    "    \n",
    "    save_classification_report(y_te, y_pred,\n",
    "                               support=False, verbose=verbose,\n",
    "                               buf=path.join(TAB_PATH, \n",
    "                                             f\"DC_{escenario_name}.tex\"),\n",
    "                               caption=(\"Reporte de clasificación\"\n",
    "                                      f\" para el {escenario_name}\"\n",
    "                                      \" utilizando Discriminante Cuadrático\"),\n",
    "                               label=f\"DC_{escenario_name}\",\n",
    "                               target_names=target_names\n",
    "                              )\n",
    "    \n",
    "    return score"
   ]
  },
  {
   "cell_type": "markdown",
   "metadata": {},
   "source": [
    "### Modelo de Random Forest"
   ]
  },
  {
   "cell_type": "code",
   "execution_count": 22,
   "metadata": {
    "ExecuteTime": {
     "end_time": "2020-08-13T20:02:52.025817Z",
     "start_time": "2020-08-13T20:02:52.011886Z"
    },
    "code_folding": []
   },
   "outputs": [],
   "source": [
    "def modelo_random_forest(X_tr, y_tr, X_te, y_te,\n",
    "                         verbose=MOSTRAR_INFO, target_names=None, escenario_name=None,):\n",
    "    \"\"\"Genera el modelo de Random Forest e imprime el resumen de clasificación\n",
    "    \"\"\"\n",
    "    from sklearn.ensemble import RandomForestClassifier\n",
    "    \n",
    "    if verbose: print(\"Creando modelo...\")\n",
    "    model = RandomForestClassifier(n_jobs=4,\n",
    "                                   random_state=3435)\n",
    "    \n",
    "    if verbose: print(\"Ajustando modelo...\")\n",
    "    model.fit(X_tr, y_tr)\n",
    "    \n",
    "    if verbose: print(\"Prediciendo...\")\n",
    "    y_pred = model.predict(X_te)\n",
    "    \n",
    "    if verbose: print(classification_report(y_te, y_pred, target_names=target_names))\n",
    "    score = model.score(X_te, y_te)\n",
    "    \n",
    "    save_classification_report(y_te, y_pred,\n",
    "                               support=False, verbose=verbose,\n",
    "                               buf=path.join(TAB_PATH, \n",
    "                                             f\"RF_{escenario_name}.tex\"),\n",
    "                               label=(\"Reporte de clasificación\"\n",
    "                                      f\" para el {escenario_name}\"\n",
    "                                      \" utilizando Random Forest\"),\n",
    "                               caption=f\"RF_{escenario_name}\",\n",
    "                               target_names=target_names\n",
    "                              )\n",
    "    \n",
    "    return score"
   ]
  },
  {
   "cell_type": "markdown",
   "metadata": {},
   "source": [
    "## Resumen de modelos"
   ]
  },
  {
   "cell_type": "code",
   "execution_count": 23,
   "metadata": {
    "ExecuteTime": {
     "end_time": "2020-08-13T20:02:52.050747Z",
     "start_time": "2020-08-13T20:02:52.031800Z"
    },
    "code_folding": []
   },
   "outputs": [],
   "source": [
    "MODELOS = {\n",
    "    \"Discriminante_Cuadratico\": modelo_discr_cuadr,\n",
    "    \"Discriminante_Lineal\": modelo_discr_lineal,\n",
    "    \"KNN\": modelo_knn,\n",
    "    \"Naive_Bayes\": modelo_naive_bayes,\n",
    "    \"Random_Forest\": modelo_random_forest,\n",
    "}\n",
    "\n",
    "def resumen_modelos(X_tr, y_tr, X_te, y_te,\n",
    "                    verbose=MOSTRAR_INFO, target_names=None,\n",
    "                    escenario_name=None, save_table=False\n",
    "                   ):\n",
    "    \"\"\"Resume los modelos\n",
    "    \"\"\"\n",
    "    \n",
    "    data_ = (X_tr, y_tr, X_te, y_te)\n",
    "    \n",
    "    L_nombres = []\n",
    "    L_scores = []\n",
    "    for name in MODELOS:\n",
    "        if verbose: print(f\"Se está prediciendo el modelo {name}\")\n",
    "        L_nombres.append(name)\n",
    "        score = round(MODELOS[name](*data_, \n",
    "                                    verbose=verbose, \n",
    "                                    target_names=target_names,\n",
    "                                    escenario_name=escenario_name), 4)\n",
    "        L_scores.append(score)\n",
    "        if verbose: print(\"=\"*40)\n",
    "        \n",
    "        \n",
    "    d_scores = {\n",
    "        \"Nombres\": L_nombres,\n",
    "        \"Scores\": L_scores\n",
    "    }\n",
    "    \n",
    "    d_scores = pd.DataFrame(d_scores)\n",
    "    d_scores.set_index(\"Nombres\", inplace=True)\n",
    "    d_scores.sort_values(by=\"Scores\", inplace=True)\n",
    "    \n",
    "    return d_scores"
   ]
  },
  {
   "cell_type": "markdown",
   "metadata": {},
   "source": [
    "### Primer Escenario"
   ]
  },
  {
   "cell_type": "markdown",
   "metadata": {},
   "source": [
    "#### Preparación de la data de entrenamiento con la de prueba"
   ]
  },
  {
   "cell_type": "code",
   "execution_count": 24,
   "metadata": {
    "ExecuteTime": {
     "end_time": "2020-08-13T20:02:52.144496Z",
     "start_time": "2020-08-13T20:02:52.055739Z"
    }
   },
   "outputs": [],
   "source": [
    "X_1 = df_1.drop(\"STAT_CAUSE_DESCR\", axis=1) # .values\n",
    "y_1 = df_1.STAT_CAUSE_DESCR # .values"
   ]
  },
  {
   "cell_type": "code",
   "execution_count": 25,
   "metadata": {
    "ExecuteTime": {
     "end_time": "2020-08-13T20:02:52.151478Z",
     "start_time": "2020-08-13T20:02:52.146498Z"
    }
   },
   "outputs": [],
   "source": [
    "target_names_1 = list(le_list[0].classes_)"
   ]
  },
  {
   "cell_type": "code",
   "execution_count": 26,
   "metadata": {
    "ExecuteTime": {
     "end_time": "2020-08-13T20:02:52.304076Z",
     "start_time": "2020-08-13T20:02:52.157465Z"
    }
   },
   "outputs": [],
   "source": [
    "from sklearn.model_selection import train_test_split\n",
    "\n",
    "X_train, X_test, y_train, y_test = train_test_split(X_1,\n",
    "                                                    y_1,\n",
    "                                                    test_size=0.1,\n",
    "                                                    random_state=0,\n",
    "                                                    shuffle=False\n",
    "                                                   )\n",
    "data_1 = (X_train, y_train, X_test, y_test)"
   ]
  },
  {
   "cell_type": "markdown",
   "metadata": {},
   "source": [
    "#### Prueba del primer escenario"
   ]
  },
  {
   "cell_type": "code",
   "execution_count": 27,
   "metadata": {
    "ExecuteTime": {
     "end_time": "2020-08-13T20:06:56.891348Z",
     "start_time": "2020-08-13T20:02:52.310055Z"
    },
    "scrolled": true
   },
   "outputs": [
    {
     "name": "stdout",
     "output_type": "stream",
     "text": [
      "Se está prediciendo el modelo Discriminante_Cuadratico\n",
      "Creando modelo...\n",
      "Ajustando modelo...\n",
      "Prediciendo...\n"
     ]
    },
    {
     "name": "stderr",
     "output_type": "stream",
     "text": [
      "C:\\ProgramData\\Anaconda3\\lib\\site-packages\\sklearn\\metrics\\_classification.py:1221: UndefinedMetricWarning: Precision and F-score are ill-defined and being set to 0.0 in labels with no predicted samples. Use `zero_division` parameter to control this behavior.\n",
      "  _warn_prf(average, modifier, msg_start, len(result))\n"
     ]
    },
    {
     "name": "stdout",
     "output_type": "stream",
     "text": [
      "                   precision    recall  f1-score   support\n",
      "\n",
      "            Arson       0.20      0.11      0.14      9518\n",
      "         Campfire       0.17      0.04      0.06      5149\n",
      "         Children       0.03      0.45      0.06      2102\n",
      "   Debris Burning       0.40      0.70      0.51     21073\n",
      "    Equipment Use       0.00      0.00      0.00      6168\n",
      "        Fireworks       0.07      0.44      0.12      1017\n",
      "        Lightning       0.56      0.22      0.32     15684\n",
      "    Miscellaneous       0.47      0.05      0.09     17428\n",
      "Missing/Undefined       0.00      0.00      0.00      6476\n",
      "        Powerline       0.00      0.00      0.00      1512\n",
      "         Railroad       0.00      0.00      0.00       635\n",
      "          Smoking       0.00      0.00      0.00      1892\n",
      "        Structure       0.03      0.01      0.02       429\n",
      "\n",
      "         accuracy                           0.25     89083\n",
      "        macro avg       0.15      0.16      0.10     89083\n",
      "     weighted avg       0.32      0.25      0.22     89083\n",
      "\n",
      "Creando Reporte...\n"
     ]
    },
    {
     "name": "stderr",
     "output_type": "stream",
     "text": [
      "C:\\ProgramData\\Anaconda3\\lib\\site-packages\\sklearn\\metrics\\_classification.py:1221: UndefinedMetricWarning: Precision and F-score are ill-defined and being set to 0.0 in labels with no predicted samples. Use `zero_division` parameter to control this behavior.\n",
      "  _warn_prf(average, modifier, msg_start, len(result))\n"
     ]
    },
    {
     "name": "stdout",
     "output_type": "stream",
     "text": [
      "Reporte Creado!\n",
      "Creando LaTeX...\n",
      "LaTeX creado!\n",
      "========================================\n",
      "Se está prediciendo el modelo Discriminante_Lineal\n",
      "Creando modelo...\n",
      "Ajustando modelo...\n",
      "Prediciendo...\n"
     ]
    },
    {
     "name": "stderr",
     "output_type": "stream",
     "text": [
      "C:\\ProgramData\\Anaconda3\\lib\\site-packages\\sklearn\\metrics\\_classification.py:1221: UndefinedMetricWarning: Precision and F-score are ill-defined and being set to 0.0 in labels with no predicted samples. Use `zero_division` parameter to control this behavior.\n",
      "  _warn_prf(average, modifier, msg_start, len(result))\n"
     ]
    },
    {
     "name": "stdout",
     "output_type": "stream",
     "text": [
      "                   precision    recall  f1-score   support\n",
      "\n",
      "            Arson       0.28      0.08      0.13      9518\n",
      "         Campfire       0.03      0.00      0.00      5149\n",
      "         Children       0.00      0.00      0.00      2102\n",
      "   Debris Burning       0.39      0.66      0.49     21073\n",
      "    Equipment Use       0.00      0.00      0.00      6168\n",
      "        Fireworks       0.00      0.00      0.00      1017\n",
      "        Lightning       0.33      0.81      0.47     15684\n",
      "    Miscellaneous       0.28      0.20      0.23     17428\n",
      "Missing/Undefined       0.00      0.00      0.00      6476\n",
      "        Powerline       0.00      0.00      0.00      1512\n",
      "         Railroad       0.00      0.00      0.00       635\n",
      "          Smoking       0.00      0.00      0.00      1892\n",
      "        Structure       0.00      0.00      0.00       429\n",
      "\n",
      "         accuracy                           0.35     89083\n",
      "        macro avg       0.10      0.13      0.10     89083\n",
      "     weighted avg       0.24      0.35      0.26     89083\n",
      "\n",
      "Creando Reporte...\n"
     ]
    },
    {
     "name": "stderr",
     "output_type": "stream",
     "text": [
      "C:\\ProgramData\\Anaconda3\\lib\\site-packages\\sklearn\\metrics\\_classification.py:1221: UndefinedMetricWarning: Precision and F-score are ill-defined and being set to 0.0 in labels with no predicted samples. Use `zero_division` parameter to control this behavior.\n",
      "  _warn_prf(average, modifier, msg_start, len(result))\n"
     ]
    },
    {
     "name": "stdout",
     "output_type": "stream",
     "text": [
      "Reporte Creado!\n",
      "Creando LaTeX...\n",
      "LaTeX creado!\n",
      "========================================\n",
      "Se está prediciendo el modelo KNN\n",
      "Normalizando datos...\n",
      "Creando modelo...\n",
      "Ajustando modelo...\n",
      "Prediciendo...\n"
     ]
    },
    {
     "name": "stderr",
     "output_type": "stream",
     "text": [
      "C:\\ProgramData\\Anaconda3\\lib\\site-packages\\sklearn\\metrics\\_classification.py:1221: UndefinedMetricWarning: Precision and F-score are ill-defined and being set to 0.0 in labels with no predicted samples. Use `zero_division` parameter to control this behavior.\n",
      "  _warn_prf(average, modifier, msg_start, len(result))\n"
     ]
    },
    {
     "name": "stdout",
     "output_type": "stream",
     "text": [
      "                   precision    recall  f1-score   support\n",
      "\n",
      "            Arson       0.22      0.32      0.26      9518\n",
      "         Campfire       0.18      0.11      0.14      5149\n",
      "         Children       0.19      0.08      0.11      2102\n",
      "   Debris Burning       0.48      0.55      0.51     21073\n",
      "    Equipment Use       0.19      0.05      0.07      6168\n",
      "        Fireworks       0.35      0.23      0.28      1017\n",
      "        Lightning       0.52      0.82      0.64     15684\n",
      "    Miscellaneous       0.37      0.38      0.38     17428\n",
      "Missing/Undefined       0.00      0.00      0.00      6476\n",
      "        Powerline       0.22      0.00      0.00      1512\n",
      "         Railroad       0.03      0.00      0.01       635\n",
      "          Smoking       0.00      0.00      0.00      1892\n",
      "        Structure       0.00      0.00      0.00       429\n",
      "\n",
      "         accuracy                           0.40     89083\n",
      "        macro avg       0.21      0.20      0.18     89083\n",
      "     weighted avg       0.34      0.40      0.35     89083\n",
      "\n",
      "Creando Reporte...\n",
      "Reporte Creado!\n",
      "Creando LaTeX...\n",
      "LaTeX creado!\n",
      "========================================\n",
      "Se está prediciendo el modelo Naive_Bayes\n",
      "Creando modelo...\n",
      "Ajustando modelo...\n"
     ]
    },
    {
     "name": "stderr",
     "output_type": "stream",
     "text": [
      "C:\\ProgramData\\Anaconda3\\lib\\site-packages\\sklearn\\metrics\\_classification.py:1221: UndefinedMetricWarning: Precision and F-score are ill-defined and being set to 0.0 in labels with no predicted samples. Use `zero_division` parameter to control this behavior.\n",
      "  _warn_prf(average, modifier, msg_start, len(result))\n"
     ]
    },
    {
     "name": "stdout",
     "output_type": "stream",
     "text": [
      "Prediciendo...\n"
     ]
    },
    {
     "name": "stderr",
     "output_type": "stream",
     "text": [
      "C:\\ProgramData\\Anaconda3\\lib\\site-packages\\sklearn\\metrics\\_classification.py:1221: UndefinedMetricWarning: Precision and F-score are ill-defined and being set to 0.0 in labels with no predicted samples. Use `zero_division` parameter to control this behavior.\n",
      "  _warn_prf(average, modifier, msg_start, len(result))\n"
     ]
    },
    {
     "name": "stdout",
     "output_type": "stream",
     "text": [
      "                   precision    recall  f1-score   support\n",
      "\n",
      "            Arson       0.19      0.10      0.13      9518\n",
      "         Campfire       0.10      0.07      0.08      5149\n",
      "         Children       0.03      0.42      0.06      2102\n",
      "   Debris Burning       0.37      0.71      0.49     21073\n",
      "    Equipment Use       0.00      0.00      0.00      6168\n",
      "        Fireworks       0.07      0.54      0.12      1017\n",
      "        Lightning       0.50      0.09      0.15     15684\n",
      "    Miscellaneous       0.43      0.04      0.08     17428\n",
      "Missing/Undefined       0.33      0.00      0.00      6476\n",
      "        Powerline       0.00      0.00      0.00      1512\n",
      "         Railroad       0.00      0.00      0.00       635\n",
      "          Smoking       0.00      0.00      0.00      1892\n",
      "        Structure       0.04      0.03      0.03       429\n",
      "\n",
      "         accuracy                           0.22     89083\n",
      "        macro avg       0.16      0.15      0.09     89083\n",
      "     weighted avg       0.31      0.22      0.18     89083\n",
      "\n",
      "Creando Reporte...\n",
      "Reporte Creado!\n",
      "Creando LaTeX...\n",
      "LaTeX creado!\n",
      "========================================\n",
      "Se está prediciendo el modelo Random_Forest\n"
     ]
    },
    {
     "name": "stderr",
     "output_type": "stream",
     "text": [
      "C:\\ProgramData\\Anaconda3\\lib\\site-packages\\sklearn\\metrics\\_classification.py:1221: UndefinedMetricWarning: Precision and F-score are ill-defined and being set to 0.0 in labels with no predicted samples. Use `zero_division` parameter to control this behavior.\n",
      "  _warn_prf(average, modifier, msg_start, len(result))\n"
     ]
    },
    {
     "name": "stdout",
     "output_type": "stream",
     "text": [
      "Creando modelo...\n",
      "Ajustando modelo...\n",
      "Prediciendo...\n",
      "                   precision    recall  f1-score   support\n",
      "\n",
      "            Arson       0.28      0.36      0.32      9518\n",
      "         Campfire       0.35      0.25      0.29      5149\n",
      "         Children       0.24      0.11      0.15      2102\n",
      "   Debris Burning       0.54      0.58      0.56     21073\n",
      "    Equipment Use       0.24      0.13      0.17      6168\n",
      "        Fireworks       0.51      0.31      0.38      1017\n",
      "        Lightning       0.65      0.84      0.73     15684\n",
      "    Miscellaneous       0.39      0.46      0.42     17428\n",
      "Missing/Undefined       0.24      0.16      0.19      6476\n",
      "        Powerline       0.10      0.00      0.01      1512\n",
      "         Railroad       0.13      0.02      0.03       635\n",
      "          Smoking       0.14      0.02      0.04      1892\n",
      "        Structure       0.26      0.02      0.03       429\n",
      "\n",
      "         accuracy                           0.46     89083\n",
      "        macro avg       0.31      0.25      0.26     89083\n",
      "     weighted avg       0.42      0.46      0.43     89083\n",
      "\n",
      "Creando Reporte...\n",
      "Reporte Creado!\n",
      "Creando LaTeX...\n",
      "LaTeX creado!\n",
      "========================================\n"
     ]
    }
   ],
   "source": [
    "escenario_1 = resumen_modelos(*data_1,\n",
    "                              target_names=target_names_1,\n",
    "                              escenario_name=\"Escenario 1\")"
   ]
  },
  {
   "cell_type": "code",
   "execution_count": 28,
   "metadata": {
    "ExecuteTime": {
     "end_time": "2020-08-13T20:06:56.966148Z",
     "start_time": "2020-08-13T20:06:56.914287Z"
    }
   },
   "outputs": [
    {
     "data": {
      "text/html": [
       "<div>\n",
       "<style scoped>\n",
       "    .dataframe tbody tr th:only-of-type {\n",
       "        vertical-align: middle;\n",
       "    }\n",
       "\n",
       "    .dataframe tbody tr th {\n",
       "        vertical-align: top;\n",
       "    }\n",
       "\n",
       "    .dataframe thead th {\n",
       "        text-align: right;\n",
       "    }\n",
       "</style>\n",
       "<table border=\"1\" class=\"dataframe\">\n",
       "  <thead>\n",
       "    <tr style=\"text-align: right;\">\n",
       "      <th></th>\n",
       "      <th>Scores</th>\n",
       "    </tr>\n",
       "    <tr>\n",
       "      <th>Nombres</th>\n",
       "      <th></th>\n",
       "    </tr>\n",
       "  </thead>\n",
       "  <tbody>\n",
       "    <tr>\n",
       "      <th>Naive_Bayes</th>\n",
       "      <td>0.2215</td>\n",
       "    </tr>\n",
       "    <tr>\n",
       "      <th>Discriminante_Cuadratico</th>\n",
       "      <td>0.2451</td>\n",
       "    </tr>\n",
       "    <tr>\n",
       "      <th>Discriminante_Lineal</th>\n",
       "      <td>0.3465</td>\n",
       "    </tr>\n",
       "    <tr>\n",
       "      <th>KNN</th>\n",
       "      <td>0.3978</td>\n",
       "    </tr>\n",
       "    <tr>\n",
       "      <th>Random_Forest</th>\n",
       "      <td>0.4562</td>\n",
       "    </tr>\n",
       "  </tbody>\n",
       "</table>\n",
       "</div>"
      ],
      "text/plain": [
       "                          Scores\n",
       "Nombres                         \n",
       "Naive_Bayes               0.2215\n",
       "Discriminante_Cuadratico  0.2451\n",
       "Discriminante_Lineal      0.3465\n",
       "KNN                       0.3978\n",
       "Random_Forest             0.4562"
      ]
     },
     "execution_count": 28,
     "metadata": {},
     "output_type": "execute_result"
    }
   ],
   "source": [
    "escenario_1"
   ]
  },
  {
   "cell_type": "markdown",
   "metadata": {},
   "source": [
    "## Segundo Escenario"
   ]
  },
  {
   "cell_type": "code",
   "execution_count": 29,
   "metadata": {
    "ExecuteTime": {
     "end_time": "2020-08-13T20:06:57.110761Z",
     "start_time": "2020-08-13T20:06:56.970136Z"
    }
   },
   "outputs": [],
   "source": [
    "X_2 = df_2.drop(\"STAT_CAUSE_DESCR\", axis=1) # .values\n",
    "y_2 = df_2.STAT_CAUSE_DESCR # .values"
   ]
  },
  {
   "cell_type": "code",
   "execution_count": 30,
   "metadata": {
    "ExecuteTime": {
     "end_time": "2020-08-13T20:06:57.123735Z",
     "start_time": "2020-08-13T20:06:57.114750Z"
    }
   },
   "outputs": [],
   "source": [
    "target_names_2 = list(le_list[1].classes_)"
   ]
  },
  {
   "cell_type": "code",
   "execution_count": 31,
   "metadata": {
    "ExecuteTime": {
     "end_time": "2020-08-13T20:06:57.178578Z",
     "start_time": "2020-08-13T20:06:57.127715Z"
    }
   },
   "outputs": [],
   "source": [
    "X_train, X_test, y_train, y_test = train_test_split(X_2,\n",
    "                                                    y_2,\n",
    "                                                    test_size=0.1,\n",
    "                                                    random_state=0,\n",
    "                                                    shuffle=False\n",
    "                                                   )\n",
    "data_2 = (X_train, y_train, X_test, y_test)"
   ]
  },
  {
   "cell_type": "code",
   "execution_count": 32,
   "metadata": {
    "ExecuteTime": {
     "end_time": "2020-08-13T20:07:50.480215Z",
     "start_time": "2020-08-13T20:06:57.181574Z"
    }
   },
   "outputs": [
    {
     "name": "stdout",
     "output_type": "stream",
     "text": [
      "Se está prediciendo el modelo Discriminante_Cuadratico\n",
      "Creando modelo...\n",
      "Ajustando modelo...\n",
      "Prediciendo...\n"
     ]
    },
    {
     "name": "stderr",
     "output_type": "stream",
     "text": [
      "C:\\ProgramData\\Anaconda3\\lib\\site-packages\\sklearn\\metrics\\_classification.py:1221: UndefinedMetricWarning: Precision and F-score are ill-defined and being set to 0.0 in labels with no predicted samples. Use `zero_division` parameter to control this behavior.\n",
      "  _warn_prf(average, modifier, msg_start, len(result))\n",
      "C:\\ProgramData\\Anaconda3\\lib\\site-packages\\sklearn\\metrics\\_classification.py:1221: UndefinedMetricWarning: Precision and F-score are ill-defined and being set to 0.0 in labels with no predicted samples. Use `zero_division` parameter to control this behavior.\n",
      "  _warn_prf(average, modifier, msg_start, len(result))\n"
     ]
    },
    {
     "name": "stdout",
     "output_type": "stream",
     "text": [
      "                   precision    recall  f1-score   support\n",
      "\n",
      "            Arson       0.17      0.04      0.06      2148\n",
      "         Campfire       0.33      0.00      0.01      1320\n",
      "         Children       0.02      0.57      0.03       382\n",
      "   Debris Burning       0.27      0.73      0.40      3682\n",
      "    Equipment Use       0.17      0.00      0.00      1977\n",
      "        Fireworks       0.09      0.14      0.11       428\n",
      "        Lightning       0.60      0.10      0.17      6322\n",
      "    Miscellaneous       0.10      0.00      0.01      5642\n",
      "Missing/Undefined       0.22      0.06      0.09      2413\n",
      "        Powerline       0.00      0.00      0.00       446\n",
      "         Railroad       0.00      0.00      0.00        93\n",
      "          Smoking       0.00      0.00      0.00       528\n",
      "        Structure       0.05      0.01      0.01       120\n",
      "\n",
      "         accuracy                           0.15     25501\n",
      "        macro avg       0.16      0.13      0.07     25501\n",
      "     weighted avg       0.28      0.15      0.12     25501\n",
      "\n",
      "Creando Reporte...\n",
      "Reporte Creado!\n",
      "Creando LaTeX...\n",
      "LaTeX creado!\n",
      "========================================\n",
      "Se está prediciendo el modelo Discriminante_Lineal\n",
      "Creando modelo...\n",
      "Ajustando modelo...\n",
      "Prediciendo...\n",
      "                   precision    recall  f1-score   support\n",
      "\n",
      "            Arson       0.00      0.00      0.00      2148\n",
      "         Campfire       0.00      0.00      0.00      1320\n",
      "         Children       0.00      0.00      0.00       382\n",
      "   Debris Burning       0.25      0.79      0.38      3682\n",
      "    Equipment Use       0.00      0.00      0.00      1977\n",
      "        Fireworks       0.00      0.00      0.00       428\n",
      "        Lightning       0.41      0.79      0.54      6322\n",
      "    Miscellaneous       0.19      0.06      0.09      5642\n",
      "Missing/Undefined       0.00      0.00      0.00      2413\n",
      "        Powerline       0.00      0.00      0.00       446\n",
      "         Railroad       0.00      0.00      0.00        93\n",
      "          Smoking       0.00      0.00      0.00       528\n",
      "        Structure       0.00      0.00      0.00       120\n",
      "\n",
      "         accuracy                           0.32     25501\n",
      "        macro avg       0.07      0.13      0.08     25501\n",
      "     weighted avg       0.18      0.32      0.21     25501\n",
      "\n",
      "Creando Reporte...\n",
      "Reporte Creado!\n",
      "Creando LaTeX...\n",
      "LaTeX creado!\n",
      "========================================\n",
      "Se está prediciendo el modelo KNN\n",
      "Normalizando datos...\n"
     ]
    },
    {
     "name": "stderr",
     "output_type": "stream",
     "text": [
      "C:\\ProgramData\\Anaconda3\\lib\\site-packages\\sklearn\\metrics\\_classification.py:1221: UndefinedMetricWarning: Precision and F-score are ill-defined and being set to 0.0 in labels with no predicted samples. Use `zero_division` parameter to control this behavior.\n",
      "  _warn_prf(average, modifier, msg_start, len(result))\n",
      "C:\\ProgramData\\Anaconda3\\lib\\site-packages\\sklearn\\metrics\\_classification.py:1221: UndefinedMetricWarning: Precision and F-score are ill-defined and being set to 0.0 in labels with no predicted samples. Use `zero_division` parameter to control this behavior.\n",
      "  _warn_prf(average, modifier, msg_start, len(result))\n"
     ]
    },
    {
     "name": "stdout",
     "output_type": "stream",
     "text": [
      "Creando modelo...\n",
      "Ajustando modelo...\n",
      "Prediciendo...\n"
     ]
    },
    {
     "name": "stderr",
     "output_type": "stream",
     "text": [
      "C:\\ProgramData\\Anaconda3\\lib\\site-packages\\sklearn\\metrics\\_classification.py:1221: UndefinedMetricWarning: Precision and F-score are ill-defined and being set to 0.0 in labels with no predicted samples. Use `zero_division` parameter to control this behavior.\n",
      "  _warn_prf(average, modifier, msg_start, len(result))\n"
     ]
    },
    {
     "name": "stdout",
     "output_type": "stream",
     "text": [
      "                   precision    recall  f1-score   support\n",
      "\n",
      "            Arson       0.33      0.25      0.28      2148\n",
      "         Campfire       0.20      0.11      0.14      1320\n",
      "         Children       0.00      0.00      0.00       382\n",
      "   Debris Burning       0.34      0.58      0.43      3682\n",
      "    Equipment Use       0.28      0.06      0.09      1977\n",
      "        Fireworks       0.35      0.20      0.26       428\n",
      "        Lightning       0.55      0.80      0.65      6322\n",
      "    Miscellaneous       0.42      0.42      0.42      5642\n",
      "Missing/Undefined       0.29      0.18      0.22      2413\n",
      "        Powerline       0.15      0.00      0.01       446\n",
      "         Railroad       0.00      0.00      0.00        93\n",
      "          Smoking       0.00      0.00      0.00       528\n",
      "        Structure       0.00      0.00      0.00       120\n",
      "\n",
      "         accuracy                           0.43     25501\n",
      "        macro avg       0.22      0.20      0.19     25501\n",
      "     weighted avg       0.38      0.43      0.38     25501\n",
      "\n",
      "Creando Reporte...\n",
      "Reporte Creado!\n",
      "Creando LaTeX...\n",
      "LaTeX creado!\n",
      "========================================\n",
      "Se está prediciendo el modelo Naive_Bayes\n",
      "Creando modelo...\n",
      "Ajustando modelo...\n",
      "Prediciendo...\n"
     ]
    },
    {
     "name": "stderr",
     "output_type": "stream",
     "text": [
      "C:\\ProgramData\\Anaconda3\\lib\\site-packages\\sklearn\\metrics\\_classification.py:1221: UndefinedMetricWarning: Precision and F-score are ill-defined and being set to 0.0 in labels with no predicted samples. Use `zero_division` parameter to control this behavior.\n",
      "  _warn_prf(average, modifier, msg_start, len(result))\n",
      "C:\\ProgramData\\Anaconda3\\lib\\site-packages\\sklearn\\metrics\\_classification.py:1221: UndefinedMetricWarning: Precision and F-score are ill-defined and being set to 0.0 in labels with no predicted samples. Use `zero_division` parameter to control this behavior.\n",
      "  _warn_prf(average, modifier, msg_start, len(result))\n",
      "C:\\ProgramData\\Anaconda3\\lib\\site-packages\\sklearn\\metrics\\_classification.py:1221: UndefinedMetricWarning: Precision and F-score are ill-defined and being set to 0.0 in labels with no predicted samples. Use `zero_division` parameter to control this behavior.\n",
      "  _warn_prf(average, modifier, msg_start, len(result))\n"
     ]
    },
    {
     "name": "stdout",
     "output_type": "stream",
     "text": [
      "                   precision    recall  f1-score   support\n",
      "\n",
      "            Arson       0.21      0.03      0.05      2148\n",
      "         Campfire       0.00      0.00      0.00      1320\n",
      "         Children       0.02      0.58      0.04       382\n",
      "   Debris Burning       0.25      0.70      0.36      3682\n",
      "    Equipment Use       0.15      0.00      0.01      1977\n",
      "        Fireworks       0.09      0.17      0.12       428\n",
      "        Lightning       0.62      0.07      0.12      6322\n",
      "    Miscellaneous       0.11      0.01      0.01      5642\n",
      "Missing/Undefined       0.22      0.06      0.10      2413\n",
      "        Powerline       0.00      0.00      0.00       446\n",
      "         Railroad       0.00      0.00      0.00        93\n",
      "          Smoking       0.00      0.00      0.00       528\n",
      "        Structure       0.00      0.00      0.00       120\n",
      "\n",
      "         accuracy                           0.14     25501\n",
      "        macro avg       0.13      0.12      0.06     25501\n",
      "     weighted avg       0.27      0.14      0.10     25501\n",
      "\n",
      "Creando Reporte...\n",
      "Reporte Creado!\n",
      "Creando LaTeX...\n",
      "LaTeX creado!\n",
      "========================================\n",
      "Se está prediciendo el modelo Random_Forest\n",
      "Creando modelo...\n",
      "Ajustando modelo...\n",
      "Prediciendo...\n",
      "                   precision    recall  f1-score   support\n",
      "\n",
      "            Arson       0.42      0.36      0.39      2148\n",
      "         Campfire       0.38      0.34      0.36      1320\n",
      "         Children       0.19      0.07      0.10       382\n",
      "   Debris Burning       0.45      0.58      0.51      3682\n",
      "    Equipment Use       0.33      0.13      0.19      1977\n",
      "        Fireworks       0.59      0.36      0.45       428\n",
      "        Lightning       0.70      0.84      0.76      6322\n",
      "    Miscellaneous       0.46      0.53      0.49      5642\n",
      "Missing/Undefined       0.57      0.55      0.56      2413\n",
      "        Powerline       0.09      0.01      0.01       446\n",
      "         Railroad       0.52      0.16      0.25        93\n",
      "          Smoking       0.30      0.04      0.07       528\n",
      "        Structure       0.20      0.02      0.03       120\n",
      "\n",
      "         accuracy                           0.53     25501\n",
      "        macro avg       0.40      0.31      0.32     25501\n",
      "     weighted avg       0.50      0.53      0.50     25501\n",
      "\n",
      "Creando Reporte...\n",
      "Reporte Creado!\n",
      "Creando LaTeX...\n",
      "LaTeX creado!\n",
      "========================================\n"
     ]
    }
   ],
   "source": [
    "escenario_2 = resumen_modelos(*data_2,\n",
    "                              target_names=target_names_2,\n",
    "                              escenario_name=\"Escenario 2\")"
   ]
  },
  {
   "cell_type": "code",
   "execution_count": 33,
   "metadata": {
    "ExecuteTime": {
     "end_time": "2020-08-13T20:07:50.494228Z",
     "start_time": "2020-08-13T20:07:50.483209Z"
    }
   },
   "outputs": [
    {
     "data": {
      "text/html": [
       "<div>\n",
       "<style scoped>\n",
       "    .dataframe tbody tr th:only-of-type {\n",
       "        vertical-align: middle;\n",
       "    }\n",
       "\n",
       "    .dataframe tbody tr th {\n",
       "        vertical-align: top;\n",
       "    }\n",
       "\n",
       "    .dataframe thead th {\n",
       "        text-align: right;\n",
       "    }\n",
       "</style>\n",
       "<table border=\"1\" class=\"dataframe\">\n",
       "  <thead>\n",
       "    <tr style=\"text-align: right;\">\n",
       "      <th></th>\n",
       "      <th>Scores</th>\n",
       "    </tr>\n",
       "    <tr>\n",
       "      <th>Nombres</th>\n",
       "      <th></th>\n",
       "    </tr>\n",
       "  </thead>\n",
       "  <tbody>\n",
       "    <tr>\n",
       "      <th>Naive_Bayes</th>\n",
       "      <td>0.1400</td>\n",
       "    </tr>\n",
       "    <tr>\n",
       "      <th>Discriminante_Cuadratico</th>\n",
       "      <td>0.1512</td>\n",
       "    </tr>\n",
       "    <tr>\n",
       "      <th>Discriminante_Lineal</th>\n",
       "      <td>0.3233</td>\n",
       "    </tr>\n",
       "    <tr>\n",
       "      <th>KNN</th>\n",
       "      <td>0.4266</td>\n",
       "    </tr>\n",
       "    <tr>\n",
       "      <th>Random_Forest</th>\n",
       "      <td>0.5277</td>\n",
       "    </tr>\n",
       "  </tbody>\n",
       "</table>\n",
       "</div>"
      ],
      "text/plain": [
       "                          Scores\n",
       "Nombres                         \n",
       "Naive_Bayes               0.1400\n",
       "Discriminante_Cuadratico  0.1512\n",
       "Discriminante_Lineal      0.3233\n",
       "KNN                       0.4266\n",
       "Random_Forest             0.5277"
      ]
     },
     "execution_count": 33,
     "metadata": {},
     "output_type": "execute_result"
    }
   ],
   "source": [
    "escenario_2"
   ]
  },
  {
   "cell_type": "markdown",
   "metadata": {},
   "source": [
    "## Tercer Escenario"
   ]
  },
  {
   "cell_type": "code",
   "execution_count": 34,
   "metadata": {
    "ExecuteTime": {
     "end_time": "2020-08-13T20:07:50.575837Z",
     "start_time": "2020-08-13T20:07:50.496202Z"
    }
   },
   "outputs": [],
   "source": [
    "X_3 = df_3.drop(\"STAT_CAUSE_DESCR\", axis=1) # .values\n",
    "y_3 = df_3.STAT_CAUSE_DESCR # .values"
   ]
  },
  {
   "cell_type": "code",
   "execution_count": 35,
   "metadata": {
    "ExecuteTime": {
     "end_time": "2020-08-13T20:07:50.584812Z",
     "start_time": "2020-08-13T20:07:50.578828Z"
    }
   },
   "outputs": [],
   "source": [
    "target_names_3 = list(le_list[2].classes_)"
   ]
  },
  {
   "cell_type": "code",
   "execution_count": 36,
   "metadata": {
    "ExecuteTime": {
     "end_time": "2020-08-13T20:07:50.628696Z",
     "start_time": "2020-08-13T20:07:50.587816Z"
    }
   },
   "outputs": [],
   "source": [
    "X_train, X_test, y_train, y_test = train_test_split(X_3,\n",
    "                                                    y_3,\n",
    "                                                    test_size=0.1,\n",
    "                                                    random_state=0,\n",
    "                                                    shuffle=False\n",
    "                                                   )\n",
    "data_3 = (X_train, y_train, X_test, y_test)"
   ]
  },
  {
   "cell_type": "code",
   "execution_count": 37,
   "metadata": {
    "ExecuteTime": {
     "end_time": "2020-08-13T20:08:37.905861Z",
     "start_time": "2020-08-13T20:07:50.630691Z"
    }
   },
   "outputs": [
    {
     "name": "stdout",
     "output_type": "stream",
     "text": [
      "Se está prediciendo el modelo Discriminante_Cuadratico\n",
      "Creando modelo...\n",
      "Ajustando modelo...\n",
      "Prediciendo...\n",
      "              precision    recall  f1-score   support\n",
      "\n",
      "       Human       0.39      0.90      0.54      8976\n",
      "   Malicious       0.16      0.12      0.14      2148\n",
      "     Natural       0.61      0.15      0.24      6322\n",
      "       Other       0.41      0.07      0.12      8055\n",
      "\n",
      "    accuracy                           0.39     25501\n",
      "   macro avg       0.39      0.31      0.26     25501\n",
      "weighted avg       0.43      0.39      0.30     25501\n",
      "\n",
      "Creando Reporte...\n",
      "Reporte Creado!\n",
      "Creando LaTeX...\n",
      "LaTeX creado!\n",
      "========================================\n",
      "Se está prediciendo el modelo Discriminante_Lineal\n",
      "Creando modelo...\n",
      "Ajustando modelo...\n",
      "Prediciendo...\n",
      "              precision    recall  f1-score   support\n",
      "\n",
      "       Human       0.41      0.77      0.54      8976\n",
      "   Malicious       0.00      0.00      0.00      2148\n",
      "     Natural       0.44      0.57      0.49      6322\n",
      "       Other       0.39      0.03      0.05      8055\n",
      "\n",
      "    accuracy                           0.42     25501\n",
      "   macro avg       0.31      0.34      0.27     25501\n",
      "weighted avg       0.38      0.42      0.33     25501\n",
      "\n",
      "Creando Reporte...\n",
      "Reporte Creado!\n",
      "Creando LaTeX...\n",
      "LaTeX creado!\n",
      "========================================\n",
      "Se está prediciendo el modelo KNN\n",
      "Normalizando datos...\n",
      "Creando modelo..."
     ]
    },
    {
     "name": "stderr",
     "output_type": "stream",
     "text": [
      "C:\\ProgramData\\Anaconda3\\lib\\site-packages\\sklearn\\metrics\\_classification.py:1221: UndefinedMetricWarning: Precision and F-score are ill-defined and being set to 0.0 in labels with no predicted samples. Use `zero_division` parameter to control this behavior.\n",
      "  _warn_prf(average, modifier, msg_start, len(result))\n",
      "C:\\ProgramData\\Anaconda3\\lib\\site-packages\\sklearn\\metrics\\_classification.py:1221: UndefinedMetricWarning: Precision and F-score are ill-defined and being set to 0.0 in labels with no predicted samples. Use `zero_division` parameter to control this behavior.\n",
      "  _warn_prf(average, modifier, msg_start, len(result))\n"
     ]
    },
    {
     "name": "stdout",
     "output_type": "stream",
     "text": [
      "\n",
      "Ajustando modelo...\n",
      "Prediciendo...\n",
      "              precision    recall  f1-score   support\n",
      "\n",
      "       Human       0.52      0.66      0.58      8976\n",
      "   Malicious       0.43      0.12      0.18      2148\n",
      "     Natural       0.62      0.68      0.65      6322\n",
      "       Other       0.53      0.42      0.47      8055\n",
      "\n",
      "    accuracy                           0.55     25501\n",
      "   macro avg       0.52      0.47      0.47     25501\n",
      "weighted avg       0.54      0.55      0.53     25501\n",
      "\n",
      "Creando Reporte...\n",
      "Reporte Creado!\n",
      "Creando LaTeX...\n",
      "LaTeX creado!\n",
      "========================================\n",
      "Se está prediciendo el modelo Naive_Bayes\n",
      "Creando modelo...\n",
      "Ajustando modelo...\n",
      "Prediciendo...\n",
      "              precision    recall  f1-score   support\n",
      "\n",
      "       Human       0.37      0.89      0.53      8976\n",
      "   Malicious       0.17      0.18      0.17      2148\n",
      "     Natural       0.57      0.07      0.12      6322\n",
      "       Other       0.28      0.04      0.06      8055\n",
      "\n",
      "    accuracy                           0.36     25501\n",
      "   macro avg       0.35      0.29      0.22     25501\n",
      "weighted avg       0.38      0.36      0.25     25501\n",
      "\n",
      "Creando Reporte...\n",
      "Reporte Creado!\n",
      "Creando LaTeX...\n",
      "LaTeX creado!\n",
      "========================================\n",
      "Se está prediciendo el modelo Random_Forest\n",
      "Creando modelo...\n",
      "Ajustando modelo...\n",
      "Prediciendo...\n",
      "              precision    recall  f1-score   support\n",
      "\n",
      "       Human       0.60      0.68      0.64      8976\n",
      "   Malicious       0.55      0.28      0.37      2148\n",
      "     Natural       0.75      0.78      0.77      6322\n",
      "       Other       0.62      0.60      0.61      8055\n",
      "\n",
      "    accuracy                           0.65     25501\n",
      "   macro avg       0.63      0.59      0.60     25501\n",
      "weighted avg       0.64      0.65      0.64     25501\n",
      "\n",
      "Creando Reporte...\n",
      "Reporte Creado!\n",
      "Creando LaTeX...\n",
      "LaTeX creado!\n",
      "========================================\n"
     ]
    }
   ],
   "source": [
    "escenario_3 = resumen_modelos(*data_3,\n",
    "                              target_names=target_names_3,\n",
    "                              escenario_name=\"Escenario 3\")"
   ]
  },
  {
   "cell_type": "code",
   "execution_count": 38,
   "metadata": {
    "ExecuteTime": {
     "end_time": "2020-08-13T20:08:37.919824Z",
     "start_time": "2020-08-13T20:08:37.908855Z"
    }
   },
   "outputs": [
    {
     "data": {
      "text/html": [
       "<div>\n",
       "<style scoped>\n",
       "    .dataframe tbody tr th:only-of-type {\n",
       "        vertical-align: middle;\n",
       "    }\n",
       "\n",
       "    .dataframe tbody tr th {\n",
       "        vertical-align: top;\n",
       "    }\n",
       "\n",
       "    .dataframe thead th {\n",
       "        text-align: right;\n",
       "    }\n",
       "</style>\n",
       "<table border=\"1\" class=\"dataframe\">\n",
       "  <thead>\n",
       "    <tr style=\"text-align: right;\">\n",
       "      <th></th>\n",
       "      <th>Scores</th>\n",
       "    </tr>\n",
       "    <tr>\n",
       "      <th>Nombres</th>\n",
       "      <th></th>\n",
       "    </tr>\n",
       "  </thead>\n",
       "  <tbody>\n",
       "    <tr>\n",
       "      <th>Naive_Bayes</th>\n",
       "      <td>0.3574</td>\n",
       "    </tr>\n",
       "    <tr>\n",
       "      <th>Discriminante_Cuadratico</th>\n",
       "      <td>0.3870</td>\n",
       "    </tr>\n",
       "    <tr>\n",
       "      <th>Discriminante_Lineal</th>\n",
       "      <td>0.4210</td>\n",
       "    </tr>\n",
       "    <tr>\n",
       "      <th>KNN</th>\n",
       "      <td>0.5459</td>\n",
       "    </tr>\n",
       "    <tr>\n",
       "      <th>Random_Forest</th>\n",
       "      <td>0.6467</td>\n",
       "    </tr>\n",
       "  </tbody>\n",
       "</table>\n",
       "</div>"
      ],
      "text/plain": [
       "                          Scores\n",
       "Nombres                         \n",
       "Naive_Bayes               0.3574\n",
       "Discriminante_Cuadratico  0.3870\n",
       "Discriminante_Lineal      0.4210\n",
       "KNN                       0.5459\n",
       "Random_Forest             0.6467"
      ]
     },
     "execution_count": 38,
     "metadata": {},
     "output_type": "execute_result"
    }
   ],
   "source": [
    "escenario_3"
   ]
  },
  {
   "cell_type": "code",
   "execution_count": 39,
   "metadata": {
    "ExecuteTime": {
     "end_time": "2020-08-13T20:08:37.964705Z",
     "start_time": "2020-08-13T20:08:37.922816Z"
    },
    "scrolled": false
   },
   "outputs": [
    {
     "data": {
      "text/html": [
       "<div>\n",
       "<style scoped>\n",
       "    .dataframe tbody tr th:only-of-type {\n",
       "        vertical-align: middle;\n",
       "    }\n",
       "\n",
       "    .dataframe tbody tr th {\n",
       "        vertical-align: top;\n",
       "    }\n",
       "\n",
       "    .dataframe thead th {\n",
       "        text-align: right;\n",
       "    }\n",
       "</style>\n",
       "<table border=\"1\" class=\"dataframe\">\n",
       "  <thead>\n",
       "    <tr style=\"text-align: right;\">\n",
       "      <th></th>\n",
       "      <th>Escenario 1</th>\n",
       "      <th>Escenario 2</th>\n",
       "      <th>Escenario 3</th>\n",
       "    </tr>\n",
       "    <tr>\n",
       "      <th>Modelos</th>\n",
       "      <th></th>\n",
       "      <th></th>\n",
       "      <th></th>\n",
       "    </tr>\n",
       "  </thead>\n",
       "  <tbody>\n",
       "    <tr>\n",
       "      <th>Naive_Bayes</th>\n",
       "      <td>0.2215</td>\n",
       "      <td>0.1400</td>\n",
       "      <td>0.3574</td>\n",
       "    </tr>\n",
       "    <tr>\n",
       "      <th>Discriminante_Cuadratico</th>\n",
       "      <td>0.2451</td>\n",
       "      <td>0.1512</td>\n",
       "      <td>0.3870</td>\n",
       "    </tr>\n",
       "    <tr>\n",
       "      <th>Discriminante_Lineal</th>\n",
       "      <td>0.3465</td>\n",
       "      <td>0.3233</td>\n",
       "      <td>0.4210</td>\n",
       "    </tr>\n",
       "    <tr>\n",
       "      <th>KNN</th>\n",
       "      <td>0.3978</td>\n",
       "      <td>0.4266</td>\n",
       "      <td>0.5459</td>\n",
       "    </tr>\n",
       "    <tr>\n",
       "      <th>Random_Forest</th>\n",
       "      <td>0.4562</td>\n",
       "      <td>0.5277</td>\n",
       "      <td>0.6467</td>\n",
       "    </tr>\n",
       "  </tbody>\n",
       "</table>\n",
       "</div>"
      ],
      "text/plain": [
       "                          Escenario 1  Escenario 2  Escenario 3\n",
       "Modelos                                                        \n",
       "Naive_Bayes                    0.2215       0.1400       0.3574\n",
       "Discriminante_Cuadratico       0.2451       0.1512       0.3870\n",
       "Discriminante_Lineal           0.3465       0.3233       0.4210\n",
       "KNN                            0.3978       0.4266       0.5459\n",
       "Random_Forest                  0.4562       0.5277       0.6467"
      ]
     },
     "execution_count": 39,
     "metadata": {},
     "output_type": "execute_result"
    }
   ],
   "source": [
    "escenario_1.rename(columns={\"Scores\":\"Escenario 1\"}, inplace=True)\n",
    "escenario_2.rename(columns={\"Scores\":\"Escenario 2\"}, inplace=True)\n",
    "escenario_3.rename(columns={\"Scores\":\"Escenario 3\"}, inplace=True)\n",
    "\n",
    "resumen = pd.concat([escenario_1, escenario_2, escenario_3],\n",
    "                    axis=1,\n",
    "                    sort=False)\n",
    "resumen.index.rename(\"Modelos\", inplace=True)\n",
    "\n",
    "resumen"
   ]
  },
  {
   "cell_type": "code",
   "execution_count": 40,
   "metadata": {
    "ExecuteTime": {
     "end_time": "2020-08-13T20:08:38.306823Z",
     "start_time": "2020-08-13T20:08:37.968695Z"
    }
   },
   "outputs": [
    {
     "ename": "KeyError",
     "evalue": "\"['Experimento 2', 'Experimento 1', 'Experimento 3'] not in index\"",
     "output_type": "error",
     "traceback": [
      "\u001b[1;31m---------------------------------------------------------------------------\u001b[0m",
      "\u001b[1;31mKeyError\u001b[0m                                  Traceback (most recent call last)",
      "\u001b[1;32m<ipython-input-40-36e7112e1155>\u001b[0m in \u001b[0;36m<module>\u001b[1;34m\u001b[0m\n\u001b[0;32m      1\u001b[0m \u001b[0mresumen\u001b[0m\u001b[1;33m[\u001b[0m\u001b[1;34m\"Nombres\"\u001b[0m\u001b[1;33m]\u001b[0m \u001b[1;33m=\u001b[0m \u001b[0mresumen\u001b[0m\u001b[1;33m.\u001b[0m\u001b[0mindex\u001b[0m\u001b[1;33m\u001b[0m\u001b[1;33m\u001b[0m\u001b[0m\n\u001b[1;32m----> 2\u001b[1;33m \u001b[0mresumen\u001b[0m \u001b[1;33m=\u001b[0m \u001b[0mresumen\u001b[0m\u001b[1;33m[\u001b[0m\u001b[1;33m[\u001b[0m\u001b[1;34m\"Nombres\"\u001b[0m\u001b[1;33m,\u001b[0m \u001b[1;34m\"Experimento 1\"\u001b[0m\u001b[1;33m,\u001b[0m \u001b[1;34m\"Experimento 2\"\u001b[0m\u001b[1;33m,\u001b[0m \u001b[1;34m\"Experimento 3\"\u001b[0m\u001b[1;33m]\u001b[0m\u001b[1;33m]\u001b[0m\u001b[1;33m\u001b[0m\u001b[1;33m\u001b[0m\u001b[0m\n\u001b[0m\u001b[0;32m      3\u001b[0m \u001b[0mresumen\u001b[0m\u001b[1;33m\u001b[0m\u001b[1;33m\u001b[0m\u001b[0m\n",
      "\u001b[1;32mC:\\ProgramData\\Anaconda3\\lib\\site-packages\\pandas\\core\\frame.py\u001b[0m in \u001b[0;36m__getitem__\u001b[1;34m(self, key)\u001b[0m\n\u001b[0;32m   2804\u001b[0m             \u001b[1;32mif\u001b[0m \u001b[0mis_iterator\u001b[0m\u001b[1;33m(\u001b[0m\u001b[0mkey\u001b[0m\u001b[1;33m)\u001b[0m\u001b[1;33m:\u001b[0m\u001b[1;33m\u001b[0m\u001b[1;33m\u001b[0m\u001b[0m\n\u001b[0;32m   2805\u001b[0m                 \u001b[0mkey\u001b[0m \u001b[1;33m=\u001b[0m \u001b[0mlist\u001b[0m\u001b[1;33m(\u001b[0m\u001b[0mkey\u001b[0m\u001b[1;33m)\u001b[0m\u001b[1;33m\u001b[0m\u001b[1;33m\u001b[0m\u001b[0m\n\u001b[1;32m-> 2806\u001b[1;33m             \u001b[0mindexer\u001b[0m \u001b[1;33m=\u001b[0m \u001b[0mself\u001b[0m\u001b[1;33m.\u001b[0m\u001b[0mloc\u001b[0m\u001b[1;33m.\u001b[0m\u001b[0m_get_listlike_indexer\u001b[0m\u001b[1;33m(\u001b[0m\u001b[0mkey\u001b[0m\u001b[1;33m,\u001b[0m \u001b[0maxis\u001b[0m\u001b[1;33m=\u001b[0m\u001b[1;36m1\u001b[0m\u001b[1;33m,\u001b[0m \u001b[0mraise_missing\u001b[0m\u001b[1;33m=\u001b[0m\u001b[1;32mTrue\u001b[0m\u001b[1;33m)\u001b[0m\u001b[1;33m[\u001b[0m\u001b[1;36m1\u001b[0m\u001b[1;33m]\u001b[0m\u001b[1;33m\u001b[0m\u001b[1;33m\u001b[0m\u001b[0m\n\u001b[0m\u001b[0;32m   2807\u001b[0m \u001b[1;33m\u001b[0m\u001b[0m\n\u001b[0;32m   2808\u001b[0m         \u001b[1;31m# take() does not accept boolean indexers\u001b[0m\u001b[1;33m\u001b[0m\u001b[1;33m\u001b[0m\u001b[1;33m\u001b[0m\u001b[0m\n",
      "\u001b[1;32mC:\\ProgramData\\Anaconda3\\lib\\site-packages\\pandas\\core\\indexing.py\u001b[0m in \u001b[0;36m_get_listlike_indexer\u001b[1;34m(self, key, axis, raise_missing)\u001b[0m\n\u001b[0;32m   1551\u001b[0m \u001b[1;33m\u001b[0m\u001b[0m\n\u001b[0;32m   1552\u001b[0m         self._validate_read_indexer(\n\u001b[1;32m-> 1553\u001b[1;33m             \u001b[0mkeyarr\u001b[0m\u001b[1;33m,\u001b[0m \u001b[0mindexer\u001b[0m\u001b[1;33m,\u001b[0m \u001b[0mo\u001b[0m\u001b[1;33m.\u001b[0m\u001b[0m_get_axis_number\u001b[0m\u001b[1;33m(\u001b[0m\u001b[0maxis\u001b[0m\u001b[1;33m)\u001b[0m\u001b[1;33m,\u001b[0m \u001b[0mraise_missing\u001b[0m\u001b[1;33m=\u001b[0m\u001b[0mraise_missing\u001b[0m\u001b[1;33m\u001b[0m\u001b[1;33m\u001b[0m\u001b[0m\n\u001b[0m\u001b[0;32m   1554\u001b[0m         )\n\u001b[0;32m   1555\u001b[0m         \u001b[1;32mreturn\u001b[0m \u001b[0mkeyarr\u001b[0m\u001b[1;33m,\u001b[0m \u001b[0mindexer\u001b[0m\u001b[1;33m\u001b[0m\u001b[1;33m\u001b[0m\u001b[0m\n",
      "\u001b[1;32mC:\\ProgramData\\Anaconda3\\lib\\site-packages\\pandas\\core\\indexing.py\u001b[0m in \u001b[0;36m_validate_read_indexer\u001b[1;34m(self, key, indexer, axis, raise_missing)\u001b[0m\n\u001b[0;32m   1644\u001b[0m             \u001b[1;32mif\u001b[0m \u001b[1;32mnot\u001b[0m \u001b[1;33m(\u001b[0m\u001b[0mself\u001b[0m\u001b[1;33m.\u001b[0m\u001b[0mname\u001b[0m \u001b[1;33m==\u001b[0m \u001b[1;34m\"loc\"\u001b[0m \u001b[1;32mand\u001b[0m \u001b[1;32mnot\u001b[0m \u001b[0mraise_missing\u001b[0m\u001b[1;33m)\u001b[0m\u001b[1;33m:\u001b[0m\u001b[1;33m\u001b[0m\u001b[1;33m\u001b[0m\u001b[0m\n\u001b[0;32m   1645\u001b[0m                 \u001b[0mnot_found\u001b[0m \u001b[1;33m=\u001b[0m \u001b[0mlist\u001b[0m\u001b[1;33m(\u001b[0m\u001b[0mset\u001b[0m\u001b[1;33m(\u001b[0m\u001b[0mkey\u001b[0m\u001b[1;33m)\u001b[0m \u001b[1;33m-\u001b[0m \u001b[0mset\u001b[0m\u001b[1;33m(\u001b[0m\u001b[0max\u001b[0m\u001b[1;33m)\u001b[0m\u001b[1;33m)\u001b[0m\u001b[1;33m\u001b[0m\u001b[1;33m\u001b[0m\u001b[0m\n\u001b[1;32m-> 1646\u001b[1;33m                 \u001b[1;32mraise\u001b[0m \u001b[0mKeyError\u001b[0m\u001b[1;33m(\u001b[0m\u001b[1;34mf\"{not_found} not in index\"\u001b[0m\u001b[1;33m)\u001b[0m\u001b[1;33m\u001b[0m\u001b[1;33m\u001b[0m\u001b[0m\n\u001b[0m\u001b[0;32m   1647\u001b[0m \u001b[1;33m\u001b[0m\u001b[0m\n\u001b[0;32m   1648\u001b[0m             \u001b[1;31m# we skip the warning on Categorical/Interval\u001b[0m\u001b[1;33m\u001b[0m\u001b[1;33m\u001b[0m\u001b[1;33m\u001b[0m\u001b[0m\n",
      "\u001b[1;31mKeyError\u001b[0m: \"['Experimento 2', 'Experimento 1', 'Experimento 3'] not in index\""
     ]
    }
   ],
   "source": [
    "resumen[\"Nombres\"] = resumen.index\n",
    "resumen = resumen[[\"Nombres\", \"Experimento 1\", \"Experimento 2\", \"Experimento 3\"]]\n",
    "resumen"
   ]
  },
  {
   "cell_type": "code",
   "execution_count": null,
   "metadata": {
    "ExecuteTime": {
     "end_time": "2020-08-13T20:08:38.308785Z",
     "start_time": "2020-08-13T20:02:42.693Z"
    }
   },
   "outputs": [],
   "source": [
    "resumen_save_name = path.join(TAB_PATH, \"resumen_experimentos.tex\")\n",
    "res = resumen.to_latex(index=True,\n",
    "                       buf=resumen_save_name,\n",
    "                       caption=\"Tabla resumen de los modelos\",\n",
    "                       label=\"tab:resumen-exp\",\n",
    "                       column_format=\"rccc\"\n",
    "                       )\n",
    "print(res)"
   ]
  },
  {
   "cell_type": "code",
   "execution_count": null,
   "metadata": {
    "ExecuteTime": {
     "end_time": "2020-08-13T20:08:38.311780Z",
     "start_time": "2020-08-13T20:02:42.695Z"
    }
   },
   "outputs": [],
   "source": [
    "# from sklearn.ensemble import RandomForestClassifier\n",
    "# # Entrenamos\n",
    "# rfc = RandomForestClassifier(n_estimators=100, class_weight= \"balanced\", verbose=1, max_depth=5) # class_weight=\"balanced_subsample\"\n",
    "# rfc = rfc.fit(X_train, y_train)\n",
    "\n",
    "# # Predecimos\n",
    "# y_pred_rfc = rfc.predict(X_test)"
   ]
  },
  {
   "cell_type": "code",
   "execution_count": null,
   "metadata": {
    "ExecuteTime": {
     "end_time": "2020-08-13T20:08:38.313780Z",
     "start_time": "2020-08-13T20:02:42.698Z"
    }
   },
   "outputs": [],
   "source": [
    "# import multiprocessing\n",
    "\n",
    "# multiprocessing.cpu_count()"
   ]
  },
  {
   "cell_type": "code",
   "execution_count": null,
   "metadata": {
    "ExecuteTime": {
     "end_time": "2020-08-13T20:08:38.315766Z",
     "start_time": "2020-08-13T20:02:42.702Z"
    }
   },
   "outputs": [],
   "source": [
    "# data = (X_train, y_train, X_test, y_test)\n",
    "# modelo_discr_cuadr(*data)"
   ]
  },
  {
   "cell_type": "markdown",
   "metadata": {},
   "source": [
    "### Random Forest"
   ]
  },
  {
   "cell_type": "code",
   "execution_count": null,
   "metadata": {
    "ExecuteTime": {
     "end_time": "2020-08-13T20:08:38.318758Z",
     "start_time": "2020-08-13T20:02:42.705Z"
    }
   },
   "outputs": [],
   "source": [
    "# from sklearn.ensemble import RandomForestClassifier\n",
    "# # Entrenamos\n",
    "# rfc = RandomForestClassifier(n_estimators=100, class_weight= \"balanced\", verbose=1, max_depth=5) # class_weight=\"balanced_subsample\"\n",
    "# rfc = rfc.fit(X_train, y_train)\n",
    "\n",
    "# # Predecimos\n",
    "# y_pred_rfc = rfc.predict(X_test)"
   ]
  },
  {
   "cell_type": "code",
   "execution_count": null,
   "metadata": {
    "ExecuteTime": {
     "end_time": "2020-08-13T20:08:38.320752Z",
     "start_time": "2020-08-13T20:02:42.707Z"
    }
   },
   "outputs": [],
   "source": [
    "# # Mostramos\n",
    "# print(classification_report(y_test, y_pred_rfc))"
   ]
  },
  {
   "cell_type": "code",
   "execution_count": null,
   "metadata": {
    "ExecuteTime": {
     "end_time": "2020-08-13T20:08:38.322782Z",
     "start_time": "2020-08-13T20:02:42.709Z"
    }
   },
   "outputs": [],
   "source": [
    "# # Entrenamos\n",
    "# rfc = RandomForestClassifier(n_estimators=50) # class_weight=\"balanced_subsample\"\n",
    "# rfc = rfc.fit(X_train, y_train)\n",
    "\n",
    "# # Predecimos\n",
    "# y_pred_rfc = rfc.predict(X_test)"
   ]
  },
  {
   "cell_type": "code",
   "execution_count": null,
   "metadata": {
    "ExecuteTime": {
     "end_time": "2020-08-13T20:08:38.323744Z",
     "start_time": "2020-08-13T20:02:42.712Z"
    },
    "scrolled": false
   },
   "outputs": [],
   "source": [
    "# # Mostramos\n",
    "# print(classification_report(y_test, y_pred_rfc))"
   ]
  },
  {
   "cell_type": "code",
   "execution_count": null,
   "metadata": {},
   "outputs": [],
   "source": []
  },
  {
   "cell_type": "code",
   "execution_count": null,
   "metadata": {},
   "outputs": [],
   "source": []
  },
  {
   "cell_type": "code",
   "execution_count": null,
   "metadata": {},
   "outputs": [],
   "source": []
  }
 ],
 "metadata": {
  "kernelspec": {
   "display_name": "Python 3",
   "language": "python",
   "name": "python3"
  },
  "language_info": {
   "codemirror_mode": {
    "name": "ipython",
    "version": 3
   },
   "file_extension": ".py",
   "mimetype": "text/x-python",
   "name": "python",
   "nbconvert_exporter": "python",
   "pygments_lexer": "ipython3",
   "version": "3.7.3"
  },
  "notify_time": "0",
  "toc": {
   "base_numbering": 1,
   "nav_menu": {},
   "number_sections": true,
   "sideBar": true,
   "skip_h1_title": false,
   "title_cell": "Table of Contents",
   "title_sidebar": "Contents",
   "toc_cell": false,
   "toc_position": {
    "height": "calc(100% - 180px)",
    "left": "10px",
    "top": "150px",
    "width": "228.667px"
   },
   "toc_section_display": true,
   "toc_window_display": false
  },
  "varInspector": {
   "cols": {
    "lenName": 16,
    "lenType": 16,
    "lenVar": 40
   },
   "kernels_config": {
    "python": {
     "delete_cmd_postfix": "",
     "delete_cmd_prefix": "del ",
     "library": "var_list.py",
     "varRefreshCmd": "print(var_dic_list())"
    },
    "r": {
     "delete_cmd_postfix": ") ",
     "delete_cmd_prefix": "rm(",
     "library": "var_list.r",
     "varRefreshCmd": "cat(var_dic_list()) "
    }
   },
   "oldHeight": 216.333666,
   "position": {
    "height": "237.667px",
    "left": "824px",
    "right": "20px",
    "top": "120px",
    "width": "350px"
   },
   "types_to_exclude": [
    "module",
    "function",
    "builtin_function_or_method",
    "instance",
    "_Feature"
   ],
   "varInspector_section_display": "block",
   "window_display": false
  }
 },
 "nbformat": 4,
 "nbformat_minor": 4
}
