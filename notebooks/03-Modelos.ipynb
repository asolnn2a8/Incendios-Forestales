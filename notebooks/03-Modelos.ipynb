{
 "cells": [
  {
   "cell_type": "markdown",
   "metadata": {},
   "source": [
    "# Modelos de Predicción\n",
    "##### Futuras mejoras\n",
    "* Estudiar bien los métodos de clasificación\n",
    "* Cambiar el KNearestNeigh.. pues no está bien implementado: Falta normalizar, definir métrica, etc.\n",
    "* Ordenar por tiempo y separar\n",
    "* hacer crossvalidation\n",
    "* "
   ]
  },
  {
   "cell_type": "markdown",
   "metadata": {},
   "source": [
    "## Importación de librerías"
   ]
  },
  {
   "cell_type": "code",
   "execution_count": 1,
   "metadata": {
    "ExecuteTime": {
     "end_time": "2020-08-06T22:17:29.403879Z",
     "start_time": "2020-08-06T22:17:28.098311Z"
    }
   },
   "outputs": [],
   "source": [
    "from os import path\n",
    "import pandas as pd\n",
    "import matplotlib.pyplot as plt\n",
    "from sklearn import preprocessing\n",
    "from sklearn.metrics import classification_report\n",
    "from sklearn.metrics import confusion_matrix"
   ]
  },
  {
   "cell_type": "markdown",
   "metadata": {},
   "source": [
    "## Constantes"
   ]
  },
  {
   "cell_type": "markdown",
   "metadata": {},
   "source": [
    "Rutas usuales que se ocuparán en el notebook"
   ]
  },
  {
   "cell_type": "code",
   "execution_count": 2,
   "metadata": {
    "ExecuteTime": {
     "end_time": "2020-08-06T22:17:29.412321Z",
     "start_time": "2020-08-06T22:17:29.404691Z"
    },
    "code_folding": []
   },
   "outputs": [],
   "source": [
    "# Salvar gráficos\n",
    "save_graf = False\n",
    "\n",
    "# RUTAS\n",
    "MAIN_PATH = path.join(\"..\")\n",
    "\n",
    "IMG_PATH = path.join(MAIN_PATH, \"imagenes\")\n",
    "DATA_PATH = path.join(MAIN_PATH, \"data\")\n",
    "\n",
    "WF_FOLDER_PATH = path.join(DATA_PATH,\n",
    "                           \"wildfires_us\")\n",
    "WF_DATA_PATH = path.join(WF_FOLDER_PATH,\n",
    "                         \"WILDFIRES_USA.csv\")\n",
    "WF_DATA_COLUMNS_PATH = path.join(WF_FOLDER_PATH,\n",
    "                                 \"WILDFIRES_USA_COLUMNS.csv\")\n",
    "\n",
    "# Tamaño de la imagen\n",
    "my_figsize = (10, 5)"
   ]
  },
  {
   "cell_type": "markdown",
   "metadata": {},
   "source": [
    "## Funciones auxiliares"
   ]
  },
  {
   "cell_type": "markdown",
   "metadata": {},
   "source": [
    "Función que se ocupará para imprimir la información (número de filas y columnas) de un DataFrame."
   ]
  },
  {
   "cell_type": "code",
   "execution_count": 3,
   "metadata": {
    "ExecuteTime": {
     "end_time": "2020-08-06T22:17:29.894672Z",
     "start_time": "2020-08-06T22:17:29.889700Z"
    },
    "code_folding": [
     0
    ]
   },
   "outputs": [],
   "source": [
    "def print_cantidad(dataframe):\n",
    "    \"\"\"Imprime la cantidad de datos que tiene el Data Frame.\n",
    "    \"\"\"\n",
    "    msg_cantidad = \"El dataset tiene una cantidad de {} datos y {} variables.\"\n",
    "    print(msg_cantidad.format(dataframe.shape[0], dataframe.shape[1]))\n",
    "    return None"
   ]
  },
  {
   "cell_type": "markdown",
   "metadata": {},
   "source": [
    "## Carga de datos"
   ]
  },
  {
   "cell_type": "markdown",
   "metadata": {},
   "source": [
    "### Columnas a ocupar\n",
    "\n",
    "Se escojen las columnas a ocupar dependiendo de la importancia que tenga. Se omiten algunas columnas tales como las que son para el ID, como el nombre que tuvo el incendio, o la columna que indica de dónde se obtuvo el incendio; pues no deberían de afectar a la predicción."
   ]
  },
  {
   "cell_type": "code",
   "execution_count": 4,
   "metadata": {
    "ExecuteTime": {
     "end_time": "2020-08-06T22:17:31.530943Z",
     "start_time": "2020-08-06T22:17:31.521493Z"
    },
    "code_folding": []
   },
   "outputs": [],
   "source": [
    "# Todas las columnas\n",
    "columnas = str(pd.read_csv(WF_DATA_COLUMNS_PATH).columns[0]).split(\",\")\n",
    "\n",
    "# Columnas que se ocuparán en el análisis\n",
    "columnas_ocupadas = columnas.copy()\n",
    "\n",
    "# Columnas que no se ocuparán\n",
    "columnas_sin_ocupar = [x for x in columnas if x not in columnas_ocupadas]"
   ]
  },
  {
   "cell_type": "markdown",
   "metadata": {},
   "source": [
    "### Carga de Datos"
   ]
  },
  {
   "cell_type": "code",
   "execution_count": 5,
   "metadata": {
    "ExecuteTime": {
     "end_time": "2020-08-06T22:17:36.387732Z",
     "start_time": "2020-08-06T22:17:34.216864Z"
    },
    "scrolled": false
   },
   "outputs": [
    {
     "name": "stdout",
     "output_type": "stream",
     "text": [
      "El dataset tiene una cantidad de 255163 datos y 16 variables.\n"
     ]
    },
    {
     "data": {
      "text/html": [
       "<div>\n",
       "<style scoped>\n",
       "    .dataframe tbody tr th:only-of-type {\n",
       "        vertical-align: middle;\n",
       "    }\n",
       "\n",
       "    .dataframe tbody tr th {\n",
       "        vertical-align: top;\n",
       "    }\n",
       "\n",
       "    .dataframe thead th {\n",
       "        text-align: right;\n",
       "    }\n",
       "</style>\n",
       "<table border=\"1\" class=\"dataframe\">\n",
       "  <thead>\n",
       "    <tr style=\"text-align: right;\">\n",
       "      <th></th>\n",
       "      <th>FIRE_YEAR</th>\n",
       "      <th>STAT_CAUSE_DESCR</th>\n",
       "      <th>FIRE_SIZE</th>\n",
       "      <th>FIRE_SIZE_CLASS</th>\n",
       "      <th>LATITUDE</th>\n",
       "      <th>LONGITUDE</th>\n",
       "      <th>STATE</th>\n",
       "      <th>DISC_DATE_TIME</th>\n",
       "      <th>DISC_MONTH</th>\n",
       "      <th>DISC_DOW</th>\n",
       "      <th>DISC_TIME</th>\n",
       "      <th>CONT_DATE_TIME</th>\n",
       "      <th>CONT_MONTH</th>\n",
       "      <th>CONT_DOW</th>\n",
       "      <th>CONT_TIME</th>\n",
       "      <th>DT_FIRE</th>\n",
       "    </tr>\n",
       "  </thead>\n",
       "  <tbody>\n",
       "    <tr>\n",
       "      <th>0</th>\n",
       "      <td>2011</td>\n",
       "      <td>Fireworks</td>\n",
       "      <td>0.30</td>\n",
       "      <td>B</td>\n",
       "      <td>28.105500</td>\n",
       "      <td>-82.517700</td>\n",
       "      <td>FL</td>\n",
       "      <td>2011-01-01 00:01:00</td>\n",
       "      <td>January</td>\n",
       "      <td>Saturday</td>\n",
       "      <td>0</td>\n",
       "      <td>2011-01-01 03:35:00</td>\n",
       "      <td>January</td>\n",
       "      <td>Saturday</td>\n",
       "      <td>3</td>\n",
       "      <td>0 days 03:34:00</td>\n",
       "    </tr>\n",
       "    <tr>\n",
       "      <th>1</th>\n",
       "      <td>2011</td>\n",
       "      <td>Miscellaneous</td>\n",
       "      <td>1.00</td>\n",
       "      <td>B</td>\n",
       "      <td>38.198567</td>\n",
       "      <td>-93.002533</td>\n",
       "      <td>MO</td>\n",
       "      <td>2011-01-01 00:01:00</td>\n",
       "      <td>January</td>\n",
       "      <td>Saturday</td>\n",
       "      <td>0</td>\n",
       "      <td>2011-01-31 23:59:00</td>\n",
       "      <td>January</td>\n",
       "      <td>Monday</td>\n",
       "      <td>23</td>\n",
       "      <td>30 days 23:58:00</td>\n",
       "    </tr>\n",
       "    <tr>\n",
       "      <th>2</th>\n",
       "      <td>2011</td>\n",
       "      <td>Miscellaneous</td>\n",
       "      <td>0.10</td>\n",
       "      <td>A</td>\n",
       "      <td>32.927200</td>\n",
       "      <td>-115.127000</td>\n",
       "      <td>CA</td>\n",
       "      <td>2011-01-01 00:09:00</td>\n",
       "      <td>January</td>\n",
       "      <td>Saturday</td>\n",
       "      <td>0</td>\n",
       "      <td>2011-01-01 00:25:00</td>\n",
       "      <td>January</td>\n",
       "      <td>Saturday</td>\n",
       "      <td>0</td>\n",
       "      <td>0 days 00:16:00</td>\n",
       "    </tr>\n",
       "    <tr>\n",
       "      <th>3</th>\n",
       "      <td>2011</td>\n",
       "      <td>Children</td>\n",
       "      <td>0.18</td>\n",
       "      <td>A</td>\n",
       "      <td>33.187149</td>\n",
       "      <td>-84.918798</td>\n",
       "      <td>GA</td>\n",
       "      <td>2011-01-01 00:10:00</td>\n",
       "      <td>January</td>\n",
       "      <td>Saturday</td>\n",
       "      <td>0</td>\n",
       "      <td>2011-01-01 01:36:00</td>\n",
       "      <td>January</td>\n",
       "      <td>Saturday</td>\n",
       "      <td>1</td>\n",
       "      <td>0 days 01:26:00</td>\n",
       "    </tr>\n",
       "    <tr>\n",
       "      <th>4</th>\n",
       "      <td>2011</td>\n",
       "      <td>Children</td>\n",
       "      <td>0.01</td>\n",
       "      <td>A</td>\n",
       "      <td>40.068610</td>\n",
       "      <td>-77.118890</td>\n",
       "      <td>PA</td>\n",
       "      <td>2011-01-01 00:15:00</td>\n",
       "      <td>January</td>\n",
       "      <td>Saturday</td>\n",
       "      <td>0</td>\n",
       "      <td>2011-01-01 00:30:00</td>\n",
       "      <td>January</td>\n",
       "      <td>Saturday</td>\n",
       "      <td>0</td>\n",
       "      <td>0 days 00:15:00</td>\n",
       "    </tr>\n",
       "  </tbody>\n",
       "</table>\n",
       "</div>"
      ],
      "text/plain": [
       "   FIRE_YEAR STAT_CAUSE_DESCR  FIRE_SIZE FIRE_SIZE_CLASS   LATITUDE  \\\n",
       "0       2011        Fireworks       0.30               B  28.105500   \n",
       "1       2011    Miscellaneous       1.00               B  38.198567   \n",
       "2       2011    Miscellaneous       0.10               A  32.927200   \n",
       "3       2011         Children       0.18               A  33.187149   \n",
       "4       2011         Children       0.01               A  40.068610   \n",
       "\n",
       "    LONGITUDE STATE      DISC_DATE_TIME DISC_MONTH  DISC_DOW  DISC_TIME  \\\n",
       "0  -82.517700    FL 2011-01-01 00:01:00    January  Saturday          0   \n",
       "1  -93.002533    MO 2011-01-01 00:01:00    January  Saturday          0   \n",
       "2 -115.127000    CA 2011-01-01 00:09:00    January  Saturday          0   \n",
       "3  -84.918798    GA 2011-01-01 00:10:00    January  Saturday          0   \n",
       "4  -77.118890    PA 2011-01-01 00:15:00    January  Saturday          0   \n",
       "\n",
       "       CONT_DATE_TIME CONT_MONTH  CONT_DOW  CONT_TIME          DT_FIRE  \n",
       "0 2011-01-01 03:35:00    January  Saturday          3  0 days 03:34:00  \n",
       "1 2011-01-31 23:59:00    January    Monday         23 30 days 23:58:00  \n",
       "2 2011-01-01 00:25:00    January  Saturday          0  0 days 00:16:00  \n",
       "3 2011-01-01 01:36:00    January  Saturday          1  0 days 01:26:00  \n",
       "4 2011-01-01 00:30:00    January  Saturday          0  0 days 00:15:00  "
      ]
     },
     "execution_count": 5,
     "metadata": {},
     "output_type": "execute_result"
    }
   ],
   "source": [
    "df = pd.read_csv(WF_DATA_PATH)\n",
    "\n",
    "# Convertimos los datos que sean fechas en ese tipo de dato\n",
    "df[\"DISC_DATE_TIME\"] = pd.to_datetime(df[\"DISC_DATE_TIME\"])\n",
    "df[\"CONT_DATE_TIME\"] = pd.to_datetime(df[\"CONT_DATE_TIME\"])\n",
    "df[\"DT_FIRE\"] = pd.to_timedelta(df[\"DT_FIRE\"])\n",
    "\n",
    "print_cantidad(df)\n",
    "\n",
    "df.head()"
   ]
  },
  {
   "cell_type": "markdown",
   "metadata": {},
   "source": [
    "## Preparación de la data"
   ]
  },
  {
   "cell_type": "markdown",
   "metadata": {},
   "source": [
    "### Convertir variables categóricas a númericas"
   ]
  },
  {
   "cell_type": "code",
   "execution_count": 13,
   "metadata": {
    "ExecuteTime": {
     "end_time": "2020-08-06T23:37:01.264556Z",
     "start_time": "2020-08-06T23:37:01.242645Z"
    }
   },
   "outputs": [],
   "source": [
    "causas = df[\"STAT_CAUSE_DESCR\"].unique().tolist()\n"
   ]
  },
  {
   "cell_type": "code",
   "execution_count": 15,
   "metadata": {
    "ExecuteTime": {
     "end_time": "2020-08-06T23:38:08.076580Z",
     "start_time": "2020-08-06T23:38:08.011118Z"
    }
   },
   "outputs": [
    {
     "data": {
      "text/html": [
       "<div>\n",
       "<style scoped>\n",
       "    .dataframe tbody tr th:only-of-type {\n",
       "        vertical-align: middle;\n",
       "    }\n",
       "\n",
       "    .dataframe tbody tr th {\n",
       "        vertical-align: top;\n",
       "    }\n",
       "\n",
       "    .dataframe thead th {\n",
       "        text-align: right;\n",
       "    }\n",
       "</style>\n",
       "<table border=\"1\" class=\"dataframe\">\n",
       "  <thead>\n",
       "    <tr style=\"text-align: right;\">\n",
       "      <th></th>\n",
       "      <th>FIRE_YEAR</th>\n",
       "      <th>STAT_CAUSE_DESCR</th>\n",
       "      <th>FIRE_SIZE</th>\n",
       "      <th>FIRE_SIZE_CLASS</th>\n",
       "      <th>LATITUDE</th>\n",
       "      <th>LONGITUDE</th>\n",
       "      <th>STATE</th>\n",
       "      <th>DISC_DATE_TIME</th>\n",
       "      <th>DISC_MONTH</th>\n",
       "      <th>DISC_DOW</th>\n",
       "      <th>DISC_TIME</th>\n",
       "      <th>CONT_DATE_TIME</th>\n",
       "      <th>CONT_MONTH</th>\n",
       "      <th>CONT_DOW</th>\n",
       "      <th>CONT_TIME</th>\n",
       "      <th>DT_FIRE</th>\n",
       "    </tr>\n",
       "  </thead>\n",
       "  <tbody>\n",
       "    <tr>\n",
       "      <th>0</th>\n",
       "      <td>2011</td>\n",
       "      <td>Fireworks</td>\n",
       "      <td>0.30</td>\n",
       "      <td>B</td>\n",
       "      <td>28.105500</td>\n",
       "      <td>-82.517700</td>\n",
       "      <td>FL</td>\n",
       "      <td>2011-01-01 00:01:00</td>\n",
       "      <td>January</td>\n",
       "      <td>Saturday</td>\n",
       "      <td>0</td>\n",
       "      <td>2011-01-01 03:35:00</td>\n",
       "      <td>January</td>\n",
       "      <td>Saturday</td>\n",
       "      <td>3</td>\n",
       "      <td>0 days 03:34:00</td>\n",
       "    </tr>\n",
       "    <tr>\n",
       "      <th>1</th>\n",
       "      <td>2011</td>\n",
       "      <td>Miscellaneous</td>\n",
       "      <td>1.00</td>\n",
       "      <td>B</td>\n",
       "      <td>38.198567</td>\n",
       "      <td>-93.002533</td>\n",
       "      <td>MO</td>\n",
       "      <td>2011-01-01 00:01:00</td>\n",
       "      <td>January</td>\n",
       "      <td>Saturday</td>\n",
       "      <td>0</td>\n",
       "      <td>2011-01-31 23:59:00</td>\n",
       "      <td>January</td>\n",
       "      <td>Monday</td>\n",
       "      <td>23</td>\n",
       "      <td>30 days 23:58:00</td>\n",
       "    </tr>\n",
       "    <tr>\n",
       "      <th>2</th>\n",
       "      <td>2011</td>\n",
       "      <td>Miscellaneous</td>\n",
       "      <td>0.10</td>\n",
       "      <td>A</td>\n",
       "      <td>32.927200</td>\n",
       "      <td>-115.127000</td>\n",
       "      <td>CA</td>\n",
       "      <td>2011-01-01 00:09:00</td>\n",
       "      <td>January</td>\n",
       "      <td>Saturday</td>\n",
       "      <td>0</td>\n",
       "      <td>2011-01-01 00:25:00</td>\n",
       "      <td>January</td>\n",
       "      <td>Saturday</td>\n",
       "      <td>0</td>\n",
       "      <td>0 days 00:16:00</td>\n",
       "    </tr>\n",
       "    <tr>\n",
       "      <th>3</th>\n",
       "      <td>2011</td>\n",
       "      <td>Children</td>\n",
       "      <td>0.18</td>\n",
       "      <td>A</td>\n",
       "      <td>33.187149</td>\n",
       "      <td>-84.918798</td>\n",
       "      <td>GA</td>\n",
       "      <td>2011-01-01 00:10:00</td>\n",
       "      <td>January</td>\n",
       "      <td>Saturday</td>\n",
       "      <td>0</td>\n",
       "      <td>2011-01-01 01:36:00</td>\n",
       "      <td>January</td>\n",
       "      <td>Saturday</td>\n",
       "      <td>1</td>\n",
       "      <td>0 days 01:26:00</td>\n",
       "    </tr>\n",
       "    <tr>\n",
       "      <th>4</th>\n",
       "      <td>2011</td>\n",
       "      <td>Children</td>\n",
       "      <td>0.01</td>\n",
       "      <td>A</td>\n",
       "      <td>40.068610</td>\n",
       "      <td>-77.118890</td>\n",
       "      <td>PA</td>\n",
       "      <td>2011-01-01 00:15:00</td>\n",
       "      <td>January</td>\n",
       "      <td>Saturday</td>\n",
       "      <td>0</td>\n",
       "      <td>2011-01-01 00:30:00</td>\n",
       "      <td>January</td>\n",
       "      <td>Saturday</td>\n",
       "      <td>0</td>\n",
       "      <td>0 days 00:15:00</td>\n",
       "    </tr>\n",
       "  </tbody>\n",
       "</table>\n",
       "</div>"
      ],
      "text/plain": [
       "   FIRE_YEAR STAT_CAUSE_DESCR  FIRE_SIZE FIRE_SIZE_CLASS   LATITUDE  \\\n",
       "0       2011        Fireworks       0.30               B  28.105500   \n",
       "1       2011    Miscellaneous       1.00               B  38.198567   \n",
       "2       2011    Miscellaneous       0.10               A  32.927200   \n",
       "3       2011         Children       0.18               A  33.187149   \n",
       "4       2011         Children       0.01               A  40.068610   \n",
       "\n",
       "    LONGITUDE STATE      DISC_DATE_TIME DISC_MONTH  DISC_DOW  DISC_TIME  \\\n",
       "0  -82.517700    FL 2011-01-01 00:01:00    January  Saturday          0   \n",
       "1  -93.002533    MO 2011-01-01 00:01:00    January  Saturday          0   \n",
       "2 -115.127000    CA 2011-01-01 00:09:00    January  Saturday          0   \n",
       "3  -84.918798    GA 2011-01-01 00:10:00    January  Saturday          0   \n",
       "4  -77.118890    PA 2011-01-01 00:15:00    January  Saturday          0   \n",
       "\n",
       "       CONT_DATE_TIME CONT_MONTH  CONT_DOW  CONT_TIME          DT_FIRE  \n",
       "0 2011-01-01 03:35:00    January  Saturday          3  0 days 03:34:00  \n",
       "1 2011-01-31 23:59:00    January    Monday         23 30 days 23:58:00  \n",
       "2 2011-01-01 00:25:00    January  Saturday          0  0 days 00:16:00  \n",
       "3 2011-01-01 01:36:00    January  Saturday          1  0 days 01:26:00  \n",
       "4 2011-01-01 00:30:00    January  Saturday          0  0 days 00:15:00  "
      ]
     },
     "execution_count": 15,
     "metadata": {},
     "output_type": "execute_result"
    }
   ],
   "source": [
    "# Copia del dataset\n",
    "df_ = df.copy()\n",
    "df_.head()"
   ]
  },
  {
   "cell_type": "code",
   "execution_count": 14,
   "metadata": {
    "ExecuteTime": {
     "end_time": "2020-08-06T23:37:05.312395Z",
     "start_time": "2020-08-06T23:37:05.301501Z"
    }
   },
   "outputs": [
    {
     "data": {
      "text/plain": [
       "['FIRE_YEAR',\n",
       " 'STAT_CAUSE_DESCR',\n",
       " 'FIRE_SIZE',\n",
       " 'FIRE_SIZE_CLASS',\n",
       " 'LATITUDE',\n",
       " 'LONGITUDE',\n",
       " 'STATE',\n",
       " 'DISC_DATE_TIME',\n",
       " 'DISC_MONTH',\n",
       " 'DISC_DOW',\n",
       " 'DISC_TIME',\n",
       " 'CONT_DATE_TIME',\n",
       " 'CONT_MONTH',\n",
       " 'CONT_DOW',\n",
       " 'CONT_TIME',\n",
       " 'DT_FIRE']"
      ]
     },
     "execution_count": 14,
     "metadata": {},
     "output_type": "execute_result"
    }
   ],
   "source": [
    "columnas"
   ]
  },
  {
   "cell_type": "code",
   "execution_count": 16,
   "metadata": {
    "ExecuteTime": {
     "end_time": "2020-08-06T23:38:09.421452Z",
     "start_time": "2020-08-06T23:38:09.412475Z"
    }
   },
   "outputs": [],
   "source": [
    "# Columnas que no se ocuparán\n",
    "drop_list = [\"DISC_DATE_TIME\",\n",
    "             \"CONT_DATE_TIME\",\n",
    "             \"FIRE_SIZE_CLASS\", \n",
    "             \"DT_FIRE\", \n",
    "             'FIRE_YEAR', \n",
    "             'CONT_MONTH',\n",
    "             'CONT_DOW'\n",
    "            ]"
   ]
  },
  {
   "cell_type": "code",
   "execution_count": 17,
   "metadata": {
    "ExecuteTime": {
     "end_time": "2020-08-06T23:38:11.886224Z",
     "start_time": "2020-08-06T23:38:11.566177Z"
    }
   },
   "outputs": [
    {
     "data": {
      "text/html": [
       "<div>\n",
       "<style scoped>\n",
       "    .dataframe tbody tr th:only-of-type {\n",
       "        vertical-align: middle;\n",
       "    }\n",
       "\n",
       "    .dataframe tbody tr th {\n",
       "        vertical-align: top;\n",
       "    }\n",
       "\n",
       "    .dataframe thead th {\n",
       "        text-align: right;\n",
       "    }\n",
       "</style>\n",
       "<table border=\"1\" class=\"dataframe\">\n",
       "  <thead>\n",
       "    <tr style=\"text-align: right;\">\n",
       "      <th></th>\n",
       "      <th>STAT_CAUSE_DESCR</th>\n",
       "      <th>FIRE_SIZE</th>\n",
       "      <th>LATITUDE</th>\n",
       "      <th>LONGITUDE</th>\n",
       "      <th>STATE</th>\n",
       "      <th>DISC_MONTH</th>\n",
       "      <th>DISC_DOW</th>\n",
       "      <th>DISC_TIME</th>\n",
       "      <th>CONT_TIME</th>\n",
       "    </tr>\n",
       "  </thead>\n",
       "  <tbody>\n",
       "    <tr>\n",
       "      <th>0</th>\n",
       "      <td>Fireworks</td>\n",
       "      <td>0.30</td>\n",
       "      <td>28.105500</td>\n",
       "      <td>-82.517700</td>\n",
       "      <td>FL</td>\n",
       "      <td>January</td>\n",
       "      <td>Saturday</td>\n",
       "      <td>0</td>\n",
       "      <td>3</td>\n",
       "    </tr>\n",
       "    <tr>\n",
       "      <th>1</th>\n",
       "      <td>Miscellaneous</td>\n",
       "      <td>1.00</td>\n",
       "      <td>38.198567</td>\n",
       "      <td>-93.002533</td>\n",
       "      <td>MO</td>\n",
       "      <td>January</td>\n",
       "      <td>Saturday</td>\n",
       "      <td>0</td>\n",
       "      <td>23</td>\n",
       "    </tr>\n",
       "    <tr>\n",
       "      <th>2</th>\n",
       "      <td>Miscellaneous</td>\n",
       "      <td>0.10</td>\n",
       "      <td>32.927200</td>\n",
       "      <td>-115.127000</td>\n",
       "      <td>CA</td>\n",
       "      <td>January</td>\n",
       "      <td>Saturday</td>\n",
       "      <td>0</td>\n",
       "      <td>0</td>\n",
       "    </tr>\n",
       "    <tr>\n",
       "      <th>3</th>\n",
       "      <td>Children</td>\n",
       "      <td>0.18</td>\n",
       "      <td>33.187149</td>\n",
       "      <td>-84.918798</td>\n",
       "      <td>GA</td>\n",
       "      <td>January</td>\n",
       "      <td>Saturday</td>\n",
       "      <td>0</td>\n",
       "      <td>1</td>\n",
       "    </tr>\n",
       "    <tr>\n",
       "      <th>4</th>\n",
       "      <td>Children</td>\n",
       "      <td>0.01</td>\n",
       "      <td>40.068610</td>\n",
       "      <td>-77.118890</td>\n",
       "      <td>PA</td>\n",
       "      <td>January</td>\n",
       "      <td>Saturday</td>\n",
       "      <td>0</td>\n",
       "      <td>0</td>\n",
       "    </tr>\n",
       "  </tbody>\n",
       "</table>\n",
       "</div>"
      ],
      "text/plain": [
       "  STAT_CAUSE_DESCR  FIRE_SIZE   LATITUDE   LONGITUDE STATE DISC_MONTH  \\\n",
       "0        Fireworks       0.30  28.105500  -82.517700    FL    January   \n",
       "1    Miscellaneous       1.00  38.198567  -93.002533    MO    January   \n",
       "2    Miscellaneous       0.10  32.927200 -115.127000    CA    January   \n",
       "3         Children       0.18  33.187149  -84.918798    GA    January   \n",
       "4         Children       0.01  40.068610  -77.118890    PA    January   \n",
       "\n",
       "   DISC_DOW  DISC_TIME  CONT_TIME  \n",
       "0  Saturday          0          3  \n",
       "1  Saturday          0         23  \n",
       "2  Saturday          0          0  \n",
       "3  Saturday          0          1  \n",
       "4  Saturday          0          0  "
      ]
     },
     "execution_count": 17,
     "metadata": {},
     "output_type": "execute_result"
    }
   ],
   "source": [
    "# Eliminamos las columnas que no se ocuparán\n",
    "for to_drop in drop_list:\n",
    "    df_ = df_.drop(to_drop, axis=1)\n",
    "df_.head()"
   ]
  },
  {
   "cell_type": "code",
   "execution_count": 18,
   "metadata": {
    "ExecuteTime": {
     "end_time": "2020-08-06T23:39:41.070175Z",
     "start_time": "2020-08-06T23:39:41.057210Z"
    }
   },
   "outputs": [],
   "source": [
    "cols = [\n",
    "    \"STATE\", \n",
    "    \"DISC_MONTH\",\n",
    "    \"DISC_DOW\",\n",
    "#     \"CONT_MONTH\",\n",
    "#     \"CONT_DOW\",\n",
    "#     \"FIRE_SIZE_CLASS\",\n",
    "    \"STAT_CAUSE_DESCR\",\n",
    "]"
   ]
  },
  {
   "cell_type": "code",
   "execution_count": 20,
   "metadata": {
    "ExecuteTime": {
     "end_time": "2020-08-06T23:40:32.257958Z",
     "start_time": "2020-08-06T23:40:31.987045Z"
    }
   },
   "outputs": [
    {
     "data": {
      "text/html": [
       "<div>\n",
       "<style scoped>\n",
       "    .dataframe tbody tr th:only-of-type {\n",
       "        vertical-align: middle;\n",
       "    }\n",
       "\n",
       "    .dataframe tbody tr th {\n",
       "        vertical-align: top;\n",
       "    }\n",
       "\n",
       "    .dataframe thead th {\n",
       "        text-align: right;\n",
       "    }\n",
       "</style>\n",
       "<table border=\"1\" class=\"dataframe\">\n",
       "  <thead>\n",
       "    <tr style=\"text-align: right;\">\n",
       "      <th></th>\n",
       "      <th>STAT_CAUSE_DESCR</th>\n",
       "      <th>FIRE_SIZE</th>\n",
       "      <th>LATITUDE</th>\n",
       "      <th>LONGITUDE</th>\n",
       "      <th>STATE</th>\n",
       "      <th>DISC_MONTH</th>\n",
       "      <th>DISC_DOW</th>\n",
       "      <th>DISC_TIME</th>\n",
       "      <th>CONT_TIME</th>\n",
       "    </tr>\n",
       "  </thead>\n",
       "  <tbody>\n",
       "    <tr>\n",
       "      <th>0</th>\n",
       "      <td>5</td>\n",
       "      <td>0.30</td>\n",
       "      <td>28.105500</td>\n",
       "      <td>-82.517700</td>\n",
       "      <td>9</td>\n",
       "      <td>4</td>\n",
       "      <td>2</td>\n",
       "      <td>0</td>\n",
       "      <td>3</td>\n",
       "    </tr>\n",
       "    <tr>\n",
       "      <th>1</th>\n",
       "      <td>7</td>\n",
       "      <td>1.00</td>\n",
       "      <td>38.198567</td>\n",
       "      <td>-93.002533</td>\n",
       "      <td>24</td>\n",
       "      <td>4</td>\n",
       "      <td>2</td>\n",
       "      <td>0</td>\n",
       "      <td>23</td>\n",
       "    </tr>\n",
       "    <tr>\n",
       "      <th>2</th>\n",
       "      <td>7</td>\n",
       "      <td>0.10</td>\n",
       "      <td>32.927200</td>\n",
       "      <td>-115.127000</td>\n",
       "      <td>4</td>\n",
       "      <td>4</td>\n",
       "      <td>2</td>\n",
       "      <td>0</td>\n",
       "      <td>0</td>\n",
       "    </tr>\n",
       "    <tr>\n",
       "      <th>3</th>\n",
       "      <td>2</td>\n",
       "      <td>0.18</td>\n",
       "      <td>33.187149</td>\n",
       "      <td>-84.918798</td>\n",
       "      <td>10</td>\n",
       "      <td>4</td>\n",
       "      <td>2</td>\n",
       "      <td>0</td>\n",
       "      <td>1</td>\n",
       "    </tr>\n",
       "    <tr>\n",
       "      <th>4</th>\n",
       "      <td>2</td>\n",
       "      <td>0.01</td>\n",
       "      <td>40.068610</td>\n",
       "      <td>-77.118890</td>\n",
       "      <td>38</td>\n",
       "      <td>4</td>\n",
       "      <td>2</td>\n",
       "      <td>0</td>\n",
       "      <td>0</td>\n",
       "    </tr>\n",
       "  </tbody>\n",
       "</table>\n",
       "</div>"
      ],
      "text/plain": [
       "   STAT_CAUSE_DESCR  FIRE_SIZE   LATITUDE   LONGITUDE  STATE  DISC_MONTH  \\\n",
       "0                 5       0.30  28.105500  -82.517700      9           4   \n",
       "1                 7       1.00  38.198567  -93.002533     24           4   \n",
       "2                 7       0.10  32.927200 -115.127000      4           4   \n",
       "3                 2       0.18  33.187149  -84.918798     10           4   \n",
       "4                 2       0.01  40.068610  -77.118890     38           4   \n",
       "\n",
       "   DISC_DOW  DISC_TIME  CONT_TIME  \n",
       "0         2          0          3  \n",
       "1         2          0         23  \n",
       "2         2          0          0  \n",
       "3         2          0          1  \n",
       "4         2          0          0  "
      ]
     },
     "execution_count": 20,
     "metadata": {},
     "output_type": "execute_result"
    }
   ],
   "source": [
    "\n",
    "le = preprocessing.LabelEncoder()\n",
    "for col in cols:\n",
    "    df_[col] = le.fit_transform(df_[col])\n",
    "    \n",
    "df_.head()"
   ]
  },
  {
   "cell_type": "markdown",
   "metadata": {},
   "source": [
    "### Preparación de la data de entrenamiento con la de prueba"
   ]
  },
  {
   "cell_type": "code",
   "execution_count": 31,
   "metadata": {
    "ExecuteTime": {
     "end_time": "2020-08-07T00:05:00.544133Z",
     "start_time": "2020-08-07T00:05:00.515170Z"
    }
   },
   "outputs": [
    {
     "data": {
      "text/plain": [
       "(   FIRE_SIZE   LATITUDE   LONGITUDE  STATE  DISC_MONTH  DISC_DOW  DISC_TIME  \\\n",
       " 0       0.30  28.105500  -82.517700      9           4         2          0   \n",
       " 1       1.00  38.198567  -93.002533     24           4         2          0   \n",
       " 2       0.10  32.927200 -115.127000      4           4         2          0   \n",
       " 3       0.18  33.187149  -84.918798     10           4         2          0   \n",
       " 4       0.01  40.068610  -77.118890     38           4         2          0   \n",
       " \n",
       "    CONT_TIME  \n",
       " 0          3  \n",
       " 1         23  \n",
       " 2          0  \n",
       " 3          1  \n",
       " 4          0  ,\n",
       " 0                 Fireworks\n",
       " 1             Miscellaneous\n",
       " 2             Miscellaneous\n",
       " 3                  Children\n",
       " 4                  Children\n",
       "                 ...        \n",
       " 255158        Miscellaneous\n",
       " 255159                Arson\n",
       " 255160    Missing/Undefined\n",
       " 255161                Arson\n",
       " 255162            Fireworks\n",
       " Name: STAT_CAUSE_DESCR, Length: 255163, dtype: object)"
      ]
     },
     "execution_count": 31,
     "metadata": {},
     "output_type": "execute_result"
    }
   ],
   "source": [
    "X = df_.drop(\"STAT_CAUSE_DESCR\", axis=1) # .values\n",
    "y = df.STAT_CAUSE_DESCR # .values\n",
    "X.head(), y"
   ]
  },
  {
   "cell_type": "code",
   "execution_count": 32,
   "metadata": {
    "ExecuteTime": {
     "end_time": "2020-08-07T00:05:35.397270Z",
     "start_time": "2020-08-07T00:05:35.353359Z"
    }
   },
   "outputs": [],
   "source": [
    "from sklearn.model_selection import train_test_split\n",
    "\n",
    "X_train, X_test, y_train, y_test = train_test_split(X,\n",
    "                                                    y,\n",
    "                                                    test_size=0.1,\n",
    "                                                    random_state=0,\n",
    "                                                    shuffle=False\n",
    "                                                   )"
   ]
  },
  {
   "cell_type": "code",
   "execution_count": 33,
   "metadata": {
    "ExecuteTime": {
     "end_time": "2020-08-07T00:05:42.642896Z",
     "start_time": "2020-08-07T00:05:42.637945Z"
    }
   },
   "outputs": [],
   "source": [
    "# clases = list(y.unique())\n",
    "# N = {c:len(y[y==c]) for c in clases}\n",
    "# c_min = min(N, key=lambda x: N[x])\n",
    "# w = {c:N[c_min]/N[c] for c in clases}"
   ]
  },
  {
   "cell_type": "code",
   "execution_count": 34,
   "metadata": {
    "ExecuteTime": {
     "end_time": "2020-08-07T00:05:47.312547Z",
     "start_time": "2020-08-07T00:05:47.307589Z"
    }
   },
   "outputs": [],
   "source": [
    "# from imblearn.under_sampling import NearMiss\n",
    "# from collections import Counter\n",
    "\n",
    "# us = NearMiss(n_neighbors=5, n_jobs=-1)#, sampling_strategy=w)\n",
    "# X_us, y_us = us.fit_sample(X, y)\n",
    "# X_us_train, X_us_test, y_us_train, y_us_test = train_test_split(\n",
    "#     X_us,\n",
    "#     y_us,\n",
    "#     test_size=0.3,\n",
    "#     random_state=0,\n",
    "#     shuffle=False\n",
    "# )\n",
    "\n",
    "# print (\"Distribution before resampling {}\".format(Counter(y_train)))\n",
    "# print (\"Distribution after resampling {}\".format(Counter(y_us_train)))"
   ]
  },
  {
   "cell_type": "code",
   "execution_count": null,
   "metadata": {
    "ExecuteTime": {
     "start_time": "2020-08-05T19:17:50.198Z"
    }
   },
   "outputs": [],
   "source": [
    "# from sklearn.model_selection import TimeSeriesSplit\n",
    "\n",
    "# tscv = TimeSeriesSplit()\n",
    "# for train, test in tscv.split(X):\n",
    "#     print(train)"
   ]
  },
  {
   "cell_type": "markdown",
   "metadata": {},
   "source": [
    "## Generación de modelos"
   ]
  },
  {
   "cell_type": "markdown",
   "metadata": {},
   "source": [
    "Empezamos a probar la clasificación con distintos métodos"
   ]
  },
  {
   "cell_type": "markdown",
   "metadata": {},
   "source": [
    "### Naïve Bayes"
   ]
  },
  {
   "cell_type": "markdown",
   "metadata": {},
   "source": [
    "Creamos un modelo y lo entrenamos"
   ]
  },
  {
   "cell_type": "code",
   "execution_count": 40,
   "metadata": {
    "ExecuteTime": {
     "end_time": "2020-08-07T00:06:50.891448Z",
     "start_time": "2020-08-07T00:06:50.291393Z"
    }
   },
   "outputs": [
    {
     "data": {
      "text/plain": [
       "GaussianNB()"
      ]
     },
     "execution_count": 40,
     "metadata": {},
     "output_type": "execute_result"
    }
   ],
   "source": [
    "from sklearn.naive_bayes import GaussianNB\n",
    "# Entrenamos\n",
    "gnb = GaussianNB().fit(X_train, y_train)\n",
    "gnb"
   ]
  },
  {
   "cell_type": "markdown",
   "metadata": {},
   "source": [
    "Predecimos"
   ]
  },
  {
   "cell_type": "code",
   "execution_count": 36,
   "metadata": {
    "ExecuteTime": {
     "end_time": "2020-08-07T00:05:51.992954Z",
     "start_time": "2020-08-07T00:05:51.909122Z"
    }
   },
   "outputs": [],
   "source": [
    "# Predecimos\n",
    "y_pred_gnb = gnb.predict(X_test)"
   ]
  },
  {
   "cell_type": "markdown",
   "metadata": {},
   "source": [
    "Y mostramos los resultados"
   ]
  },
  {
   "cell_type": "code",
   "execution_count": 37,
   "metadata": {
    "ExecuteTime": {
     "end_time": "2020-08-07T00:05:53.363946Z",
     "start_time": "2020-08-07T00:05:52.702685Z"
    }
   },
   "outputs": [
    {
     "name": "stderr",
     "output_type": "stream",
     "text": [
      "C:\\ProgramData\\Anaconda3\\lib\\site-packages\\sklearn\\metrics\\_classification.py:1221: UndefinedMetricWarning: Precision and F-score are ill-defined and being set to 0.0 in labels with no predicted samples. Use `zero_division` parameter to control this behavior.\n",
      "  _warn_prf(average, modifier, msg_start, len(result))\n"
     ]
    },
    {
     "name": "stdout",
     "output_type": "stream",
     "text": [
      "                   precision    recall  f1-score   support\n",
      "\n",
      "            Arson       0.23      0.06      0.10      2148\n",
      "         Campfire       0.00      0.00      0.00      1324\n",
      "         Children       0.02      0.48      0.04       382\n",
      "   Debris Burning       0.22      0.76      0.34      3683\n",
      "    Equipment Use       0.00      0.00      0.00      1978\n",
      "        Fireworks       0.10      0.27      0.15       428\n",
      "        Lightning       0.75      0.07      0.12      6319\n",
      "    Miscellaneous       0.15      0.00      0.00      5648\n",
      "Missing/Undefined       0.19      0.10      0.13      2417\n",
      "        Powerline       0.00      0.00      0.00       447\n",
      "         Railroad       0.00      0.00      0.00        95\n",
      "          Smoking       0.00      0.00      0.00       528\n",
      "        Structure       0.00      0.00      0.00       120\n",
      "\n",
      "         accuracy                           0.15     25517\n",
      "        macro avg       0.13      0.13      0.07     25517\n",
      "     weighted avg       0.29      0.15      0.10     25517\n",
      "\n"
     ]
    }
   ],
   "source": [
    "# Mostramos\n",
    "print(classification_report(y_test, y_pred_gnb))"
   ]
  },
  {
   "cell_type": "markdown",
   "metadata": {},
   "source": [
    "### Clasificador de k-vecinos próximos"
   ]
  },
  {
   "cell_type": "code",
   "execution_count": 38,
   "metadata": {
    "ExecuteTime": {
     "end_time": "2020-08-07T00:06:04.004411Z",
     "start_time": "2020-08-07T00:05:57.599936Z"
    }
   },
   "outputs": [
    {
     "name": "stdout",
     "output_type": "stream",
     "text": [
      "                   precision    recall  f1-score   support\n",
      "\n",
      "            Arson       0.22      0.35      0.27      2148\n",
      "         Campfire       0.19      0.26      0.22      1324\n",
      "         Children       0.11      0.08      0.09       382\n",
      "   Debris Burning       0.39      0.48      0.43      3683\n",
      "    Equipment Use       0.23      0.13      0.16      1978\n",
      "        Fireworks       0.37      0.29      0.32       428\n",
      "        Lightning       0.65      0.70      0.67      6319\n",
      "    Miscellaneous       0.43      0.41      0.42      5648\n",
      "Missing/Undefined       0.50      0.37      0.42      2417\n",
      "        Powerline       0.12      0.02      0.03       447\n",
      "         Railroad       0.11      0.03      0.05        95\n",
      "          Smoking       0.06      0.01      0.01       528\n",
      "        Structure       0.09      0.01      0.02       120\n",
      "\n",
      "         accuracy                           0.43     25517\n",
      "        macro avg       0.27      0.24      0.24     25517\n",
      "     weighted avg       0.42      0.43      0.42     25517\n",
      "\n"
     ]
    }
   ],
   "source": [
    "from sklearn.neighbors import KNeighborsClassifier\n",
    "# Entrenamos\n",
    "knc = KNeighborsClassifier(n_neighbors=5)\n",
    "knc.fit(X_train, y_train)\n",
    "\n",
    "# Predecimos\n",
    "y_pred_knc = knc.predict(X_test)\n",
    "\n",
    "# Mostramos\n",
    "print(classification_report(y_test, y_pred_knc))"
   ]
  },
  {
   "cell_type": "markdown",
   "metadata": {},
   "source": [
    "### Análisis de Discriminante Lineal"
   ]
  },
  {
   "cell_type": "code",
   "execution_count": null,
   "metadata": {
    "ExecuteTime": {
     "end_time": "2020-08-05T21:29:43.724273Z",
     "start_time": "2020-08-05T21:29:41.405273Z"
    }
   },
   "outputs": [],
   "source": [
    "from sklearn.discriminant_analysis import LinearDiscriminantAnalysis\n",
    "# Entrenamos\n",
    "lda = LinearDiscriminantAnalysis()\n",
    "lda.fit(X_train, y_train)\n",
    "\n",
    "# Predecimos\n",
    "y_pred_lda = lda.predict(X_test)\n",
    "\n",
    "# Mostramos\n",
    "print(classification_report(y_test, y_pred_lda))"
   ]
  },
  {
   "cell_type": "markdown",
   "metadata": {},
   "source": [
    "### Random Forest"
   ]
  },
  {
   "cell_type": "code",
   "execution_count": 27,
   "metadata": {
    "ExecuteTime": {
     "end_time": "2020-08-06T23:41:59.355452Z",
     "start_time": "2020-08-06T23:41:37.469968Z"
    }
   },
   "outputs": [
    {
     "name": "stderr",
     "output_type": "stream",
     "text": [
      "[Parallel(n_jobs=1)]: Using backend SequentialBackend with 1 concurrent workers.\n",
      "[Parallel(n_jobs=1)]: Done 100 out of 100 | elapsed:   20.4s finished\n",
      "[Parallel(n_jobs=1)]: Using backend SequentialBackend with 1 concurrent workers.\n",
      "[Parallel(n_jobs=1)]: Done 100 out of 100 | elapsed:    0.4s finished\n"
     ]
    }
   ],
   "source": [
    "from sklearn.ensemble import RandomForestClassifier\n",
    "# Entrenamos\n",
    "rfc = RandomForestClassifier(n_estimators=100, class_weight= \"balanced\", verbose=1, max_depth=5) # class_weight=\"balanced_subsample\"\n",
    "rfc = rfc.fit(X_train, y_train)\n",
    "\n",
    "# Predecimos\n",
    "y_pred_rfc = rfc.predict(X_test)"
   ]
  },
  {
   "cell_type": "code",
   "execution_count": 28,
   "metadata": {
    "ExecuteTime": {
     "end_time": "2020-08-06T23:42:00.293356Z",
     "start_time": "2020-08-06T23:41:59.365863Z"
    }
   },
   "outputs": [
    {
     "name": "stdout",
     "output_type": "stream",
     "text": [
      "                   precision    recall  f1-score   support\n",
      "\n",
      "            Arson       0.46      0.19      0.27      3151\n",
      "         Campfire       0.28      0.17      0.22      1399\n",
      "         Children       0.13      0.17      0.15       670\n",
      "   Debris Burning       0.46      0.49      0.48      6240\n",
      "    Equipment Use       0.33      0.00      0.00      1666\n",
      "        Fireworks       0.13      0.51      0.21       324\n",
      "        Lightning       0.56      0.50      0.53      4502\n",
      "    Miscellaneous       0.72      0.00      0.01      4768\n",
      "Missing/Undefined       0.26      0.70      0.38      1664\n",
      "        Powerline       0.07      0.17      0.09       355\n",
      "         Railroad       0.05      0.21      0.08       189\n",
      "          Smoking       0.06      0.33      0.11       488\n",
      "        Structure       0.02      0.35      0.03       101\n",
      "\n",
      "         accuracy                           0.31     25517\n",
      "        macro avg       0.27      0.29      0.20     25517\n",
      "     weighted avg       0.47      0.31      0.29     25517\n",
      "\n"
     ]
    }
   ],
   "source": [
    "# Mostramos\n",
    "print(classification_report(y_test, y_pred_rfc))"
   ]
  },
  {
   "cell_type": "code",
   "execution_count": null,
   "metadata": {
    "ExecuteTime": {
     "end_time": "2020-08-05T21:30:48.160545Z",
     "start_time": "2020-08-05T21:30:08.415703Z"
    }
   },
   "outputs": [],
   "source": [
    "# Entrenamos\n",
    "rfc = RandomForestClassifier(n_estimators=50) # class_weight=\"balanced_subsample\"\n",
    "rfc = rfc.fit(X_train, y_train)\n",
    "\n",
    "# Predecimos\n",
    "y_pred_rfc = rfc.predict(X_test)"
   ]
  },
  {
   "cell_type": "code",
   "execution_count": null,
   "metadata": {
    "ExecuteTime": {
     "end_time": "2020-08-05T21:30:49.126229Z",
     "start_time": "2020-08-05T21:30:48.163302Z"
    },
    "scrolled": false
   },
   "outputs": [],
   "source": [
    "# Mostramos\n",
    "print(classification_report(y_test, y_pred_rfc))"
   ]
  },
  {
   "cell_type": "code",
   "execution_count": null,
   "metadata": {},
   "outputs": [],
   "source": []
  }
 ],
 "metadata": {
  "kernelspec": {
   "display_name": "Python 3",
   "language": "python",
   "name": "python3"
  },
  "language_info": {
   "codemirror_mode": {
    "name": "ipython",
    "version": 3
   },
   "file_extension": ".py",
   "mimetype": "text/x-python",
   "name": "python",
   "nbconvert_exporter": "python",
   "pygments_lexer": "ipython3",
   "version": "3.7.3"
  },
  "toc": {
   "base_numbering": 1,
   "nav_menu": {},
   "number_sections": true,
   "sideBar": true,
   "skip_h1_title": false,
   "title_cell": "Table of Contents",
   "title_sidebar": "Contents",
   "toc_cell": false,
   "toc_position": {
    "height": "calc(100% - 180px)",
    "left": "10px",
    "top": "150px",
    "width": "228.667px"
   },
   "toc_section_display": true,
   "toc_window_display": false
  },
  "varInspector": {
   "cols": {
    "lenName": 16,
    "lenType": 16,
    "lenVar": 40
   },
   "kernels_config": {
    "python": {
     "delete_cmd_postfix": "",
     "delete_cmd_prefix": "del ",
     "library": "var_list.py",
     "varRefreshCmd": "print(var_dic_list())"
    },
    "r": {
     "delete_cmd_postfix": ") ",
     "delete_cmd_prefix": "rm(",
     "library": "var_list.r",
     "varRefreshCmd": "cat(var_dic_list()) "
    }
   },
   "oldHeight": 216.333666,
   "position": {
    "height": "237.667px",
    "left": "824px",
    "right": "20px",
    "top": "120px",
    "width": "350px"
   },
   "types_to_exclude": [
    "module",
    "function",
    "builtin_function_or_method",
    "instance",
    "_Feature"
   ],
   "varInspector_section_display": "block",
   "window_display": false
  }
 },
 "nbformat": 4,
 "nbformat_minor": 4
}
