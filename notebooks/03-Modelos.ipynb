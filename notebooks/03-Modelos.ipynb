{
 "cells": [
  {
   "cell_type": "markdown",
   "metadata": {},
   "source": [
    "# Modelos de Predicción\n",
    "##### Futuras mejoras\n",
    "* Estudiar bien los métodos de clasificación\n",
    "* Cambiar el KNearestNeigh.. pues no está bien implementado: Falta normalizar, definir métrica, etc.\n",
    "* Ordenar por tiempo y separar\n",
    "* hacer crossvalidation\n",
    "* "
   ]
  },
  {
   "cell_type": "markdown",
   "metadata": {},
   "source": [
    "## Importación de librerías"
   ]
  },
  {
   "cell_type": "code",
   "execution_count": 14,
   "metadata": {
    "ExecuteTime": {
     "end_time": "2020-07-18T02:43:18.996947Z",
     "start_time": "2020-07-18T02:43:18.979993Z"
    }
   },
   "outputs": [],
   "source": [
    "import os.path\n",
    "import pandas as pd\n",
    "import matplotlib.pyplot as plt\n",
    "from sklearn import preprocessing\n",
    "from sklearn.metrics import classification_report\n",
    "from sklearn.metrics import confusion_matrix"
   ]
  },
  {
   "cell_type": "markdown",
   "metadata": {},
   "source": [
    "## Constantes"
   ]
  },
  {
   "cell_type": "markdown",
   "metadata": {},
   "source": [
    "Rutas usuales que se ocuparán en el notebook"
   ]
  },
  {
   "cell_type": "code",
   "execution_count": 15,
   "metadata": {
    "ExecuteTime": {
     "end_time": "2020-07-18T02:43:20.692353Z",
     "start_time": "2020-07-18T02:43:20.679389Z"
    },
    "code_folding": [
     11,
     13,
     15
    ]
   },
   "outputs": [],
   "source": [
    "# Salvar gráficos\n",
    "save_graf = False\n",
    "\n",
    "# RUTAS\n",
    "MAIN_PATH = os.path.join(\"..\")\n",
    "\n",
    "IMG_PATH = os.path.join(MAIN_PATH, \"imagenes\")\n",
    "DATA_PATH = os.path.join(MAIN_PATH, \"data\")\n",
    "\n",
    "WF_FOLDER_PATH = os.path.join(DATA_PATH,\n",
    "                              \"wildfires_us\")\n",
    "WF_DATA_PATH = os.path.join(WF_FOLDER_PATH,\n",
    "                            \"WILDFIRES_USA.csv\")\n",
    "WF_DATA_COLUMNS_PATH = os.path.join(WF_FOLDER_PATH,\n",
    "                                    \"WILDFIRES_USA_COLUMNS.csv\")\n",
    "\n",
    "# Tamaño de la imagen\n",
    "my_figsize = (10, 5)"
   ]
  },
  {
   "cell_type": "markdown",
   "metadata": {},
   "source": [
    "## Funciones auxiliares"
   ]
  },
  {
   "cell_type": "markdown",
   "metadata": {},
   "source": [
    "Función que se ocupará para imprimir la información (número de filas y columnas) de un DataFrame."
   ]
  },
  {
   "cell_type": "code",
   "execution_count": 17,
   "metadata": {
    "ExecuteTime": {
     "end_time": "2020-07-18T02:43:25.935693Z",
     "start_time": "2020-07-18T02:43:25.927751Z"
    },
    "code_folding": [
     0
    ]
   },
   "outputs": [],
   "source": [
    "def print_cantidad(dataframe):\n",
    "    \"\"\"Imprime la cantidad de datos que tiene el Data Frame.\n",
    "    \"\"\"\n",
    "    msg_cantidad = \"El dataset tiene una cantidad de {} datos y {} variables.\"\n",
    "    print(msg_cantidad.format(dataframe.shape[0], dataframe.shape[1]))\n",
    "    return None"
   ]
  },
  {
   "cell_type": "markdown",
   "metadata": {},
   "source": [
    "## Carga de datos"
   ]
  },
  {
   "cell_type": "markdown",
   "metadata": {},
   "source": [
    "### Columnas a ocupar\n",
    "\n",
    "Se escojen las columnas a ocupar dependiendo de la importancia que tenga. Se omiten algunas columnas tales como las que son para el ID, como el nombre que tuvo el incendio, o la columna que indica de dónde se obtuvo el incendio; pues no deberían de afectar a la predicción."
   ]
  },
  {
   "cell_type": "code",
   "execution_count": 18,
   "metadata": {
    "ExecuteTime": {
     "end_time": "2020-07-18T02:43:27.850712Z",
     "start_time": "2020-07-18T02:43:27.757987Z"
    },
    "code_folding": []
   },
   "outputs": [],
   "source": [
    "# Todas las columnas\n",
    "columnas = str(pd.read_csv(WF_DATA_COLUMNS_PATH).columns[0]).split(\",\")\n",
    "\n",
    "# Columnas que se ocuparán en el análisis\n",
    "columnas_ocupadas = columnas.copy()\n",
    "\n",
    "# Columnas que no se ocuparán\n",
    "columnas_sin_ocupar = [x for x in columnas if x not in columnas_ocupadas]"
   ]
  },
  {
   "cell_type": "markdown",
   "metadata": {},
   "source": [
    "### Carga de Datos"
   ]
  },
  {
   "cell_type": "code",
   "execution_count": 19,
   "metadata": {
    "ExecuteTime": {
     "end_time": "2020-07-18T02:43:35.754850Z",
     "start_time": "2020-07-18T02:43:30.218354Z"
    },
    "scrolled": false
   },
   "outputs": [
    {
     "name": "stderr",
     "output_type": "stream",
     "text": [
      "C:\\ProgramData\\Anaconda3\\lib\\site-packages\\IPython\\core\\interactiveshell.py:3063: DtypeWarning: Columns (7) have mixed types.Specify dtype option on import or set low_memory=False.\n",
      "  interactivity=interactivity, compiler=compiler, result=result)\n"
     ]
    },
    {
     "name": "stdout",
     "output_type": "stream",
     "text": [
      "El dataset tiene una cantidad de 581159 datos y 17 variables.\n"
     ]
    },
    {
     "data": {
      "text/html": [
       "<div>\n",
       "<style scoped>\n",
       "    .dataframe tbody tr th:only-of-type {\n",
       "        vertical-align: middle;\n",
       "    }\n",
       "\n",
       "    .dataframe tbody tr th {\n",
       "        vertical-align: top;\n",
       "    }\n",
       "\n",
       "    .dataframe thead th {\n",
       "        text-align: right;\n",
       "    }\n",
       "</style>\n",
       "<table border=\"1\" class=\"dataframe\">\n",
       "  <thead>\n",
       "    <tr style=\"text-align: right;\">\n",
       "      <th></th>\n",
       "      <th>FIRE_YEAR</th>\n",
       "      <th>STAT_CAUSE_DESCR</th>\n",
       "      <th>FIRE_SIZE</th>\n",
       "      <th>FIRE_SIZE_CLASS</th>\n",
       "      <th>LATITUDE</th>\n",
       "      <th>LONGITUDE</th>\n",
       "      <th>STATE</th>\n",
       "      <th>COUNTY</th>\n",
       "      <th>FIPS_NAME</th>\n",
       "      <th>DISC_DATE_TIME</th>\n",
       "      <th>DISC_MONTH</th>\n",
       "      <th>DISC_DAY_OF_WEEK</th>\n",
       "      <th>DISC_TIME</th>\n",
       "      <th>CONT_DATE_TIME</th>\n",
       "      <th>CONT_MONTH</th>\n",
       "      <th>CONT_DAY_OF_WEEK</th>\n",
       "      <th>CONT_TIME</th>\n",
       "    </tr>\n",
       "  </thead>\n",
       "  <tbody>\n",
       "    <tr>\n",
       "      <th>0</th>\n",
       "      <td>2005</td>\n",
       "      <td>Miscellaneous</td>\n",
       "      <td>0.10</td>\n",
       "      <td>A</td>\n",
       "      <td>40.036944</td>\n",
       "      <td>-121.005833</td>\n",
       "      <td>CA</td>\n",
       "      <td>63</td>\n",
       "      <td>Plumas</td>\n",
       "      <td>2005-02-02 13:00:00</td>\n",
       "      <td>February</td>\n",
       "      <td>Wednesday</td>\n",
       "      <td>13</td>\n",
       "      <td>2005-02-02 17:30:00</td>\n",
       "      <td>February</td>\n",
       "      <td>Wednesday</td>\n",
       "      <td>17</td>\n",
       "    </tr>\n",
       "    <tr>\n",
       "      <th>1</th>\n",
       "      <td>2004</td>\n",
       "      <td>Lightning</td>\n",
       "      <td>0.25</td>\n",
       "      <td>A</td>\n",
       "      <td>38.933056</td>\n",
       "      <td>-120.404444</td>\n",
       "      <td>CA</td>\n",
       "      <td>61</td>\n",
       "      <td>Placer</td>\n",
       "      <td>2004-05-12 08:45:00</td>\n",
       "      <td>May</td>\n",
       "      <td>Wednesday</td>\n",
       "      <td>8</td>\n",
       "      <td>2004-05-12 15:30:00</td>\n",
       "      <td>May</td>\n",
       "      <td>Wednesday</td>\n",
       "      <td>15</td>\n",
       "    </tr>\n",
       "    <tr>\n",
       "      <th>2</th>\n",
       "      <td>2004</td>\n",
       "      <td>Debris Burning</td>\n",
       "      <td>0.10</td>\n",
       "      <td>A</td>\n",
       "      <td>38.984167</td>\n",
       "      <td>-120.735556</td>\n",
       "      <td>CA</td>\n",
       "      <td>17</td>\n",
       "      <td>El Dorado</td>\n",
       "      <td>2004-05-31 19:21:00</td>\n",
       "      <td>May</td>\n",
       "      <td>Monday</td>\n",
       "      <td>19</td>\n",
       "      <td>2004-05-31 20:24:00</td>\n",
       "      <td>May</td>\n",
       "      <td>Monday</td>\n",
       "      <td>20</td>\n",
       "    </tr>\n",
       "    <tr>\n",
       "      <th>3</th>\n",
       "      <td>2004</td>\n",
       "      <td>Lightning</td>\n",
       "      <td>0.10</td>\n",
       "      <td>A</td>\n",
       "      <td>38.559167</td>\n",
       "      <td>-119.913333</td>\n",
       "      <td>CA</td>\n",
       "      <td>3</td>\n",
       "      <td>Alpine</td>\n",
       "      <td>2004-06-28 16:00:00</td>\n",
       "      <td>June</td>\n",
       "      <td>Monday</td>\n",
       "      <td>16</td>\n",
       "      <td>2004-07-03 14:00:00</td>\n",
       "      <td>July</td>\n",
       "      <td>Saturday</td>\n",
       "      <td>14</td>\n",
       "    </tr>\n",
       "    <tr>\n",
       "      <th>4</th>\n",
       "      <td>2004</td>\n",
       "      <td>Lightning</td>\n",
       "      <td>0.10</td>\n",
       "      <td>A</td>\n",
       "      <td>38.559167</td>\n",
       "      <td>-119.933056</td>\n",
       "      <td>CA</td>\n",
       "      <td>3</td>\n",
       "      <td>Alpine</td>\n",
       "      <td>2004-06-28 16:00:00</td>\n",
       "      <td>June</td>\n",
       "      <td>Monday</td>\n",
       "      <td>16</td>\n",
       "      <td>2004-07-03 12:00:00</td>\n",
       "      <td>July</td>\n",
       "      <td>Saturday</td>\n",
       "      <td>12</td>\n",
       "    </tr>\n",
       "  </tbody>\n",
       "</table>\n",
       "</div>"
      ],
      "text/plain": [
       "   FIRE_YEAR STAT_CAUSE_DESCR  FIRE_SIZE FIRE_SIZE_CLASS   LATITUDE  \\\n",
       "0       2005    Miscellaneous       0.10               A  40.036944   \n",
       "1       2004        Lightning       0.25               A  38.933056   \n",
       "2       2004   Debris Burning       0.10               A  38.984167   \n",
       "3       2004        Lightning       0.10               A  38.559167   \n",
       "4       2004        Lightning       0.10               A  38.559167   \n",
       "\n",
       "    LONGITUDE STATE COUNTY  FIPS_NAME      DISC_DATE_TIME DISC_MONTH  \\\n",
       "0 -121.005833    CA     63     Plumas 2005-02-02 13:00:00   February   \n",
       "1 -120.404444    CA     61     Placer 2004-05-12 08:45:00        May   \n",
       "2 -120.735556    CA     17  El Dorado 2004-05-31 19:21:00        May   \n",
       "3 -119.913333    CA      3     Alpine 2004-06-28 16:00:00       June   \n",
       "4 -119.933056    CA      3     Alpine 2004-06-28 16:00:00       June   \n",
       "\n",
       "  DISC_DAY_OF_WEEK  DISC_TIME      CONT_DATE_TIME CONT_MONTH CONT_DAY_OF_WEEK  \\\n",
       "0        Wednesday         13 2005-02-02 17:30:00   February        Wednesday   \n",
       "1        Wednesday          8 2004-05-12 15:30:00        May        Wednesday   \n",
       "2           Monday         19 2004-05-31 20:24:00        May           Monday   \n",
       "3           Monday         16 2004-07-03 14:00:00       July         Saturday   \n",
       "4           Monday         16 2004-07-03 12:00:00       July         Saturday   \n",
       "\n",
       "   CONT_TIME  \n",
       "0         17  \n",
       "1         15  \n",
       "2         20  \n",
       "3         14  \n",
       "4         12  "
      ]
     },
     "execution_count": 19,
     "metadata": {},
     "output_type": "execute_result"
    }
   ],
   "source": [
    "df = pd.read_csv(WF_DATA_PATH)\n",
    "\n",
    "# Convertimos los datos que sean fechas en ese tipo de dato\n",
    "df[\"DISC_DATE_TIME\"] = pd.to_datetime(df[\"DISC_DATE_TIME\"])\n",
    "df[\"CONT_DATE_TIME\"] = pd.to_datetime(df[\"CONT_DATE_TIME\"])\n",
    "\n",
    "print_cantidad(df)\n",
    "\n",
    "df.head()"
   ]
  },
  {
   "cell_type": "markdown",
   "metadata": {},
   "source": [
    "## Preparación de la data"
   ]
  },
  {
   "cell_type": "markdown",
   "metadata": {},
   "source": [
    "### Convertir variables categóricas a númericas"
   ]
  },
  {
   "cell_type": "code",
   "execution_count": 20,
   "metadata": {
    "ExecuteTime": {
     "end_time": "2020-07-18T02:43:38.262914Z",
     "start_time": "2020-07-18T02:43:35.985492Z"
    }
   },
   "outputs": [],
   "source": [
    "df_copy = df.copy()\n",
    "\n",
    "drop_list = [\"DISC_DATE_TIME\", \"CONT_DATE_TIME\", \"COUNTY\", \"FIPS_NAME\", \"FIRE_SIZE_CLASS\"]\n",
    "\n",
    "for to_drop in drop_list:\n",
    "    df_copy = df_copy.drop(to_drop, axis=1)\n",
    "\n",
    "columnas = [\n",
    "    \"STATE\", \n",
    "    \"DISC_MONTH\",\n",
    "    \"DISC_DAY_OF_WEEK\",\n",
    "    \"CONT_MONTH\",\n",
    "    \"CONT_DAY_OF_WEEK\",\n",
    "#     \"FIRE_SIZE_CLASS\",\n",
    "    \"STAT_CAUSE_DESCR\",\n",
    "]\n",
    "\n",
    "le = preprocessing.LabelEncoder()\n",
    "for col in columnas:\n",
    "    df_copy[col] = le.fit_transform(df_copy[col])"
   ]
  },
  {
   "cell_type": "code",
   "execution_count": 9,
   "metadata": {
    "ExecuteTime": {
     "end_time": "2020-07-14T15:28:56.666799Z",
     "start_time": "2020-07-14T15:28:56.644808Z"
    }
   },
   "outputs": [
    {
     "data": {
      "text/html": [
       "<div>\n",
       "<style scoped>\n",
       "    .dataframe tbody tr th:only-of-type {\n",
       "        vertical-align: middle;\n",
       "    }\n",
       "\n",
       "    .dataframe tbody tr th {\n",
       "        vertical-align: top;\n",
       "    }\n",
       "\n",
       "    .dataframe thead th {\n",
       "        text-align: right;\n",
       "    }\n",
       "</style>\n",
       "<table border=\"1\" class=\"dataframe\">\n",
       "  <thead>\n",
       "    <tr style=\"text-align: right;\">\n",
       "      <th></th>\n",
       "      <th>FIRE_YEAR</th>\n",
       "      <th>STAT_CAUSE_DESCR</th>\n",
       "      <th>FIRE_SIZE</th>\n",
       "      <th>LATITUDE</th>\n",
       "      <th>LONGITUDE</th>\n",
       "      <th>STATE</th>\n",
       "      <th>DISC_MONTH</th>\n",
       "      <th>DISC_DAY_OF_WEEK</th>\n",
       "      <th>DISC_TIME</th>\n",
       "      <th>CONT_MONTH</th>\n",
       "      <th>CONT_DAY_OF_WEEK</th>\n",
       "      <th>CONT_TIME</th>\n",
       "    </tr>\n",
       "  </thead>\n",
       "  <tbody>\n",
       "    <tr>\n",
       "      <th>0</th>\n",
       "      <td>2005</td>\n",
       "      <td>7</td>\n",
       "      <td>0.10</td>\n",
       "      <td>40.036944</td>\n",
       "      <td>-121.005833</td>\n",
       "      <td>4</td>\n",
       "      <td>3</td>\n",
       "      <td>6</td>\n",
       "      <td>13</td>\n",
       "      <td>3</td>\n",
       "      <td>6</td>\n",
       "      <td>17</td>\n",
       "    </tr>\n",
       "    <tr>\n",
       "      <th>1</th>\n",
       "      <td>2004</td>\n",
       "      <td>6</td>\n",
       "      <td>0.25</td>\n",
       "      <td>38.933056</td>\n",
       "      <td>-120.404444</td>\n",
       "      <td>4</td>\n",
       "      <td>8</td>\n",
       "      <td>6</td>\n",
       "      <td>8</td>\n",
       "      <td>8</td>\n",
       "      <td>6</td>\n",
       "      <td>15</td>\n",
       "    </tr>\n",
       "    <tr>\n",
       "      <th>2</th>\n",
       "      <td>2004</td>\n",
       "      <td>3</td>\n",
       "      <td>0.10</td>\n",
       "      <td>38.984167</td>\n",
       "      <td>-120.735556</td>\n",
       "      <td>4</td>\n",
       "      <td>8</td>\n",
       "      <td>1</td>\n",
       "      <td>19</td>\n",
       "      <td>8</td>\n",
       "      <td>1</td>\n",
       "      <td>20</td>\n",
       "    </tr>\n",
       "    <tr>\n",
       "      <th>3</th>\n",
       "      <td>2004</td>\n",
       "      <td>6</td>\n",
       "      <td>0.10</td>\n",
       "      <td>38.559167</td>\n",
       "      <td>-119.913333</td>\n",
       "      <td>4</td>\n",
       "      <td>6</td>\n",
       "      <td>1</td>\n",
       "      <td>16</td>\n",
       "      <td>5</td>\n",
       "      <td>2</td>\n",
       "      <td>14</td>\n",
       "    </tr>\n",
       "    <tr>\n",
       "      <th>4</th>\n",
       "      <td>2004</td>\n",
       "      <td>6</td>\n",
       "      <td>0.10</td>\n",
       "      <td>38.559167</td>\n",
       "      <td>-119.933056</td>\n",
       "      <td>4</td>\n",
       "      <td>6</td>\n",
       "      <td>1</td>\n",
       "      <td>16</td>\n",
       "      <td>5</td>\n",
       "      <td>2</td>\n",
       "      <td>12</td>\n",
       "    </tr>\n",
       "  </tbody>\n",
       "</table>\n",
       "</div>"
      ],
      "text/plain": [
       "   FIRE_YEAR  STAT_CAUSE_DESCR  FIRE_SIZE   LATITUDE   LONGITUDE  STATE  \\\n",
       "0       2005                 7       0.10  40.036944 -121.005833      4   \n",
       "1       2004                 6       0.25  38.933056 -120.404444      4   \n",
       "2       2004                 3       0.10  38.984167 -120.735556      4   \n",
       "3       2004                 6       0.10  38.559167 -119.913333      4   \n",
       "4       2004                 6       0.10  38.559167 -119.933056      4   \n",
       "\n",
       "   DISC_MONTH  DISC_DAY_OF_WEEK  DISC_TIME  CONT_MONTH  CONT_DAY_OF_WEEK  \\\n",
       "0           3                 6         13           3                 6   \n",
       "1           8                 6          8           8                 6   \n",
       "2           8                 1         19           8                 1   \n",
       "3           6                 1         16           5                 2   \n",
       "4           6                 1         16           5                 2   \n",
       "\n",
       "   CONT_TIME  \n",
       "0         17  \n",
       "1         15  \n",
       "2         20  \n",
       "3         14  \n",
       "4         12  "
      ]
     },
     "execution_count": 9,
     "metadata": {},
     "output_type": "execute_result"
    }
   ],
   "source": [
    "df_copy.head()"
   ]
  },
  {
   "cell_type": "markdown",
   "metadata": {},
   "source": [
    "### Preparación de la data de entrenamiento con la de prueba"
   ]
  },
  {
   "cell_type": "code",
   "execution_count": 21,
   "metadata": {
    "ExecuteTime": {
     "end_time": "2020-07-18T02:43:39.082421Z",
     "start_time": "2020-07-18T02:43:38.416380Z"
    }
   },
   "outputs": [],
   "source": [
    "from sklearn.model_selection import train_test_split\n",
    "\n",
    "X = df_copy.drop(\"STAT_CAUSE_DESCR\", axis=1).values\n",
    "y = df.STAT_CAUSE_DESCR.values\n",
    "\n",
    "X_train, X_test, y_train, y_test = train_test_split(X,\n",
    "                                                    y,\n",
    "                                                    test_size=0.3,\n",
    "                                                    random_state=0\n",
    "                                                   )"
   ]
  },
  {
   "cell_type": "markdown",
   "metadata": {},
   "source": [
    "## Generación de modelos"
   ]
  },
  {
   "cell_type": "markdown",
   "metadata": {},
   "source": [
    "Empezamos a probar la clasificación con distintos métodos"
   ]
  },
  {
   "cell_type": "markdown",
   "metadata": {},
   "source": [
    "### Naïve Bayes"
   ]
  },
  {
   "cell_type": "code",
   "execution_count": null,
   "metadata": {},
   "outputs": [],
   "source": []
  },
  {
   "cell_type": "code",
   "execution_count": 22,
   "metadata": {
    "ExecuteTime": {
     "end_time": "2020-07-18T02:43:57.694716Z",
     "start_time": "2020-07-18T02:43:42.847407Z"
    }
   },
   "outputs": [
    {
     "name": "stderr",
     "output_type": "stream",
     "text": [
      "C:\\ProgramData\\Anaconda3\\lib\\site-packages\\sklearn\\metrics\\_classification.py:1272: UndefinedMetricWarning: Precision and F-score are ill-defined and being set to 0.0 in labels with no predicted samples. Use `zero_division` parameter to control this behavior.\n",
      "  _warn_prf(average, modifier, msg_start, len(result))\n"
     ]
    },
    {
     "name": "stdout",
     "output_type": "stream",
     "text": [
      "                   precision    recall  f1-score   support\n",
      "\n",
      "            Arson       0.35      0.17      0.23     27621\n",
      "         Campfire       0.16      0.24      0.19      8562\n",
      "         Children       0.02      0.08      0.03      3706\n",
      "   Debris Burning       0.37      0.84      0.52     42022\n",
      "    Equipment Use       0.17      0.01      0.03      9861\n",
      "        Fireworks       0.07      0.09      0.08       788\n",
      "        Lightning       0.61      0.45      0.52     34400\n",
      "    Miscellaneous       0.42      0.10      0.17     30883\n",
      "Missing/Undefined       0.16      0.02      0.03      8175\n",
      "        Powerline       0.00      0.00      0.00      1662\n",
      "         Railroad       0.00      0.00      0.00      1733\n",
      "          Smoking       0.13      0.00      0.01      4502\n",
      "        Structure       0.00      0.00      0.00       433\n",
      "\n",
      "         accuracy                           0.35    174348\n",
      "        macro avg       0.19      0.15      0.14    174348\n",
      "     weighted avg       0.37      0.35      0.31    174348\n",
      "\n"
     ]
    }
   ],
   "source": [
    "from sklearn.naive_bayes import GaussianNB\n",
    "# Entrenamos\n",
    "gnb = GaussianNB()\n",
    "gnb.fit(X_train, y_train)\n",
    "\n",
    "# Predecimos\n",
    "y_pred_gnb = gnb.predict(X_test)\n",
    "\n",
    "# Mostramos\n",
    "print(classification_report(y_test, y_pred_gnb))"
   ]
  },
  {
   "cell_type": "code",
   "execution_count": null,
   "metadata": {
    "ExecuteTime": {
     "end_time": "2020-07-14T15:17:14.241865Z",
     "start_time": "2020-07-14T15:17:14.232875Z"
    }
   },
   "outputs": [],
   "source": [
    "gnb.class_prior_"
   ]
  },
  {
   "cell_type": "markdown",
   "metadata": {},
   "source": [
    "### Clasificador de k-vecinos próximos"
   ]
  },
  {
   "cell_type": "code",
   "execution_count": 11,
   "metadata": {
    "ExecuteTime": {
     "end_time": "2020-07-14T15:29:54.129431Z",
     "start_time": "2020-07-14T15:29:02.952330Z"
    }
   },
   "outputs": [
    {
     "name": "stdout",
     "output_type": "stream",
     "text": [
      "                   precision    recall  f1-score   support\n",
      "\n",
      "            Arson       0.42      0.51      0.46     27621\n",
      "         Campfire       0.32      0.31      0.31      8562\n",
      "         Children       0.08      0.04      0.05      3706\n",
      "   Debris Burning       0.51      0.61      0.56     42022\n",
      "    Equipment Use       0.26      0.17      0.21      9861\n",
      "        Fireworks       0.26      0.09      0.13       788\n",
      "        Lightning       0.71      0.77      0.74     34400\n",
      "    Miscellaneous       0.52      0.46      0.49     30883\n",
      "Missing/Undefined       0.70      0.64      0.67      8175\n",
      "        Powerline       0.19      0.04      0.07      1662\n",
      "         Railroad       0.46      0.18      0.26      1733\n",
      "          Smoking       0.12      0.02      0.03      4502\n",
      "        Structure       0.03      0.00      0.00       433\n",
      "\n",
      "         accuracy                           0.52    174348\n",
      "        macro avg       0.35      0.30      0.31    174348\n",
      "     weighted avg       0.50      0.52      0.51    174348\n",
      "\n"
     ]
    }
   ],
   "source": [
    "from sklearn.neighbors import KNeighborsClassifier\n",
    "# Entrenamos\n",
    "knc = KNeighborsClassifier(n_neighbors=5)\n",
    "knc.fit(X_train, y_train)\n",
    "\n",
    "# Predecimos\n",
    "y_pred_knc = knc.predict(X_test)\n",
    "\n",
    "# Mostramos\n",
    "print(classification_report(y_test, y_pred_knc))"
   ]
  },
  {
   "cell_type": "markdown",
   "metadata": {},
   "source": [
    "### Análisis de Discriminante Lineal"
   ]
  },
  {
   "cell_type": "code",
   "execution_count": null,
   "metadata": {
    "ExecuteTime": {
     "end_time": "2020-07-13T17:27:41.554133Z",
     "start_time": "2020-07-13T17:27:33.474650Z"
    }
   },
   "outputs": [],
   "source": [
    "from sklearn.discriminant_analysis import LinearDiscriminantAnalysis\n",
    "# Entrenamos\n",
    "lda = LinearDiscriminantAnalysis()\n",
    "lda.fit(X_train, y_train)\n",
    "\n",
    "# Predecimos\n",
    "y_pred_lda = lda.predict(X_test)\n",
    "\n",
    "# Mostramos\n",
    "print(classification_report(y_test, y_pred_lda))"
   ]
  },
  {
   "cell_type": "markdown",
   "metadata": {},
   "source": [
    "### Random Forest"
   ]
  },
  {
   "cell_type": "code",
   "execution_count": 31,
   "metadata": {
    "ExecuteTime": {
     "end_time": "2020-07-18T05:30:12.300602Z",
     "start_time": "2020-07-18T05:29:18.521721Z"
    }
   },
   "outputs": [
    {
     "name": "stderr",
     "output_type": "stream",
     "text": [
      "[Parallel(n_jobs=1)]: Using backend SequentialBackend with 1 concurrent workers.\n",
      "[Parallel(n_jobs=1)]: Done 100 out of 100 | elapsed:   47.9s finished\n",
      "[Parallel(n_jobs=1)]: Using backend SequentialBackend with 1 concurrent workers.\n",
      "[Parallel(n_jobs=1)]: Done 100 out of 100 | elapsed:    3.6s finished\n"
     ]
    }
   ],
   "source": [
    "from sklearn.ensemble import RandomForestClassifier\n",
    "# Entrenamos\n",
    "rfc = RandomForestClassifier(n_estimators=100, class_weight= \"balanced\", verbose=1, max_depth=5) # class_weight=\"balanced_subsample\"\n",
    "rfc = rfc.fit(X_train, y_train)\n",
    "\n",
    "# Predecimos\n",
    "y_pred_rfc = rfc.predict(X_test)"
   ]
  },
  {
   "cell_type": "code",
   "execution_count": 32,
   "metadata": {
    "ExecuteTime": {
     "end_time": "2020-07-18T05:30:20.134790Z",
     "start_time": "2020-07-18T05:30:12.409436Z"
    }
   },
   "outputs": [
    {
     "name": "stdout",
     "output_type": "stream",
     "text": [
      "                   precision    recall  f1-score   support\n",
      "\n",
      "            Arson       0.52      0.33      0.40     27621\n",
      "         Campfire       0.21      0.23      0.22      8562\n",
      "         Children       0.09      0.11      0.10      3706\n",
      "   Debris Burning       0.51      0.40      0.45     42022\n",
      "    Equipment Use       0.23      0.06      0.10      9861\n",
      "        Fireworks       0.05      0.42      0.10       788\n",
      "        Lightning       0.61      0.72      0.66     34400\n",
      "    Miscellaneous       0.58      0.42      0.49     30883\n",
      "Missing/Undefined       0.36      0.72      0.48      8175\n",
      "        Powerline       0.09      0.13      0.10      1662\n",
      "         Railroad       0.04      0.19      0.06      1733\n",
      "          Smoking       0.25      0.01      0.02      4502\n",
      "        Structure       0.02      0.39      0.03       433\n",
      "\n",
      "         accuracy                           0.42    174348\n",
      "        macro avg       0.27      0.32      0.25    174348\n",
      "     weighted avg       0.48      0.42      0.43    174348\n",
      "\n"
     ]
    }
   ],
   "source": [
    "# Mostramos\n",
    "print(classification_report(y_test, y_pred_rfc))"
   ]
  },
  {
   "cell_type": "code",
   "execution_count": 26,
   "metadata": {
    "ExecuteTime": {
     "end_time": "2020-07-18T05:07:58.008616Z",
     "start_time": "2020-07-18T05:06:32.114188Z"
    }
   },
   "outputs": [],
   "source": [
    "# Entrenamos\n",
    "rfc = RandomForestClassifier(n_estimators=50) # class_weight=\"balanced_subsample\"\n",
    "rfc = rfc.fit(X_train, y_train)\n",
    "\n",
    "# Predecimos\n",
    "y_pred_rfc = rfc.predict(X_test)"
   ]
  },
  {
   "cell_type": "code",
   "execution_count": 27,
   "metadata": {
    "ExecuteTime": {
     "end_time": "2020-07-18T05:08:06.158724Z",
     "start_time": "2020-07-18T05:07:58.101947Z"
    },
    "scrolled": false
   },
   "outputs": [
    {
     "name": "stdout",
     "output_type": "stream",
     "text": [
      "                   precision    recall  f1-score   support\n",
      "\n",
      "            Arson       0.56      0.55      0.56     27621\n",
      "         Campfire       0.50      0.35      0.41      8562\n",
      "         Children       0.22      0.03      0.06      3706\n",
      "   Debris Burning       0.56      0.72      0.63     42022\n",
      "    Equipment Use       0.39      0.22      0.28      9861\n",
      "        Fireworks       0.49      0.14      0.21       788\n",
      "        Lightning       0.76      0.86      0.81     34400\n",
      "    Miscellaneous       0.55      0.58      0.56     30883\n",
      "Missing/Undefined       0.82      0.76      0.79      8175\n",
      "        Powerline       0.39      0.08      0.14      1662\n",
      "         Railroad       0.79      0.27      0.40      1733\n",
      "          Smoking       0.28      0.04      0.07      4502\n",
      "        Structure       0.15      0.01      0.02       433\n",
      "\n",
      "         accuracy                           0.60    174348\n",
      "        macro avg       0.50      0.35      0.38    174348\n",
      "     weighted avg       0.58      0.60      0.58    174348\n",
      "\n"
     ]
    }
   ],
   "source": [
    "# Mostramos\n",
    "print(classification_report(y_test, y_pred_rfc))"
   ]
  }
 ],
 "metadata": {
  "kernelspec": {
   "display_name": "Python 3",
   "language": "python",
   "name": "python3"
  },
  "language_info": {
   "codemirror_mode": {
    "name": "ipython",
    "version": 3
   },
   "file_extension": ".py",
   "mimetype": "text/x-python",
   "name": "python",
   "nbconvert_exporter": "python",
   "pygments_lexer": "ipython3",
   "version": "3.7.3"
  },
  "toc": {
   "base_numbering": 1,
   "nav_menu": {},
   "number_sections": true,
   "sideBar": true,
   "skip_h1_title": false,
   "title_cell": "Table of Contents",
   "title_sidebar": "Contents",
   "toc_cell": false,
   "toc_position": {
    "height": "calc(100% - 180px)",
    "left": "10px",
    "top": "150px",
    "width": "228.667px"
   },
   "toc_section_display": true,
   "toc_window_display": false
  },
  "varInspector": {
   "cols": {
    "lenName": 16,
    "lenType": 16,
    "lenVar": 40
   },
   "kernels_config": {
    "python": {
     "delete_cmd_postfix": "",
     "delete_cmd_prefix": "del ",
     "library": "var_list.py",
     "varRefreshCmd": "print(var_dic_list())"
    },
    "r": {
     "delete_cmd_postfix": ") ",
     "delete_cmd_prefix": "rm(",
     "library": "var_list.r",
     "varRefreshCmd": "cat(var_dic_list()) "
    }
   },
   "oldHeight": 216.333666,
   "position": {
    "height": "237.667px",
    "left": "824px",
    "right": "20px",
    "top": "120px",
    "width": "350px"
   },
   "types_to_exclude": [
    "module",
    "function",
    "builtin_function_or_method",
    "instance",
    "_Feature"
   ],
   "varInspector_section_display": "block",
   "window_display": false
  }
 },
 "nbformat": 4,
 "nbformat_minor": 4
}
